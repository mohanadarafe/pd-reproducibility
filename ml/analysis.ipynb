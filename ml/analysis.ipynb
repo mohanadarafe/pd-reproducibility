{
 "cells": [
  {
   "cell_type": "markdown",
   "metadata": {},
   "source": [
    "# Analysis of models\n",
    "The following notebook will analyze the performance of our models by displaying each models' performance metrics in graphs. \n",
    "\n",
    "<img src=\"https://www.alfadispenser.com/wp-content/uploads/2018/05/Reproducibility-image.jpg\"/>"
   ]
  }
 ],
 "metadata": {
  "language_info": {
   "name": "python"
  },
  "orig_nbformat": 4
 },
 "nbformat": 4,
 "nbformat_minor": 2
}
