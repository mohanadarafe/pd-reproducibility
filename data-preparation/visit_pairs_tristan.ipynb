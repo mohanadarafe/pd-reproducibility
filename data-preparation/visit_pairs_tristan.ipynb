{
 "cells": [
  {
   "cell_type": "markdown",
   "metadata": {},
   "source": [
    "# Initial study\n",
    "\n",
    "This notebook identifies PPMI subjects to reproduce the following paper:\n",
    "\n",
    "\n",
    "<div class=\"alert alert-block alert-success\">\n",
    "Shu, Zhen‐Yu, et al. <a href=\"https://onlinelibrary.wiley.com/doi/full/10.1002/mrm.28522?casa_token=Ab53WvMlODcAAAAA%3AXcgDLmq8egqW7uwd2g3jY9jIljhLu3VhIbvMWgbcfoWOxjO_9H7Arf91t2FBZDZ8E94Je4Wmrn0ZmkeZ\">Predicting the progression of Parkinson's disease using conventional MRI and machine learning: An application of radiomic biomarkers in whole‐brain white matter.</a> Magnetic Resonance in Medicine 85.3 (2021): 1611-1624.</div>"
   ]
  },
  {
   "cell_type": "markdown",
   "metadata": {},
   "source": [
    "This study used the following population from PPMI:\n",
    "<img src=\"./table.png\"/>"
   ]
  },
  {
   "cell_type": "markdown",
   "metadata": {},
   "source": [
    "Note: this notebook can be shared publicly. It is implemented to not leak any PPMI patient information or id."
   ]
  },
  {
   "cell_type": "markdown",
   "metadata": {},
   "source": [
    "# Data loading and preparation"
   ]
  },
  {
   "cell_type": "markdown",
   "metadata": {},
   "source": [
    "## Metadata download"
   ]
  },
  {
   "cell_type": "code",
   "execution_count": 14,
   "metadata": {},
   "outputs": [],
   "source": [
    "import os\n",
    "import ppmi_downloader\n",
    "\n",
    "data_dir = 'data'\n",
    "\n",
    "# Download PPMI files\n",
    "if not os.path.exists(data_dir):\n",
    "    os.makedirs(data_dir)\n",
    "required_files = ['Age_at_visit.csv', 'Demographics.csv', 'Participant_Status.csv']\n",
    "missing_files = [x for x in required_files if not os.path.exists(os.path.join(data_dir, x))]\n",
    "\n",
    "if len(missing_files) > 0:\n",
    "    ppmi = ppmi_downloader.PPMIDownloader()\n",
    "    ppmi.download_metadata(missing_files, destination_dir=data_dir, headless=False, timeout=600)"
   ]
  },
  {
   "cell_type": "markdown",
   "metadata": {},
   "source": [
    "## Hoehn & Yahr score"
   ]
  },
  {
   "cell_type": "code",
   "execution_count": 15,
   "metadata": {},
   "outputs": [
    {
     "name": "stderr",
     "output_type": "stream",
     "text": [
      "C:\\Users\\MohanadArafe\\AppData\\Local\\Temp\\ipykernel_5608\\296677578.py:7: DtypeWarning: Columns (10,17,18,19,20) have mixed types. Specify dtype option on import or set low_memory=False.\n",
      "  df_hy = pd.read_csv(os.path.join(data_dir, 'MDS_UPDRS_Part_III_clean_v0.1.csv'))\n"
     ]
    },
    {
     "data": {
      "text/html": [
       "<div>\n",
       "<style scoped>\n",
       "    .dataframe tbody tr th:only-of-type {\n",
       "        vertical-align: middle;\n",
       "    }\n",
       "\n",
       "    .dataframe tbody tr th {\n",
       "        vertical-align: top;\n",
       "    }\n",
       "\n",
       "    .dataframe thead th {\n",
       "        text-align: right;\n",
       "    }\n",
       "</style>\n",
       "<table border=\"1\" class=\"dataframe\">\n",
       "  <thead>\n",
       "    <tr style=\"text-align: right;\">\n",
       "      <th></th>\n",
       "      <th>PATNO</th>\n",
       "      <th>EVENT_ID</th>\n",
       "      <th>NHY</th>\n",
       "      <th>PDTRTMNT</th>\n",
       "    </tr>\n",
       "    <tr>\n",
       "      <th>PDSTATE</th>\n",
       "      <th></th>\n",
       "      <th></th>\n",
       "      <th></th>\n",
       "      <th></th>\n",
       "    </tr>\n",
       "  </thead>\n",
       "  <tbody>\n",
       "    <tr>\n",
       "      <th>OFF</th>\n",
       "      <td>12601</td>\n",
       "      <td>12601</td>\n",
       "      <td>12594</td>\n",
       "      <td>12601</td>\n",
       "    </tr>\n",
       "  </tbody>\n",
       "</table>\n",
       "</div>"
      ],
      "text/plain": [
       "         PATNO  EVENT_ID    NHY  PDTRTMNT\n",
       "PDSTATE                                  \n",
       "OFF      12601     12601  12594     12601"
      ]
     },
     "execution_count": 15,
     "metadata": {},
     "output_type": "execute_result"
    }
   ],
   "source": [
    "import pandas as pd\n",
    "import numpy as np\n",
    "import os\n",
    "\n",
    "data_dir = 'data'\n",
    "\n",
    "df_hy = pd.read_csv(os.path.join(data_dir, 'MDS_UPDRS_Part_III_clean_v0.1.csv'))\n",
    "\n",
    "# Separate cohorts in OFF and ON medication groups\n",
    "df_hy = df_hy[df_hy[\"PDSTATE\"]==\"OFF\"]\n",
    "\n",
    "# Drop useless columns\n",
    "keep_cols = ['EVENT_ID', 'PATNO', 'NHY', 'PDSTATE', 'PDTRTMNT']\n",
    "df_hy = df_hy.drop([x for x in df_hy.columns if x not in keep_cols], axis=1)\n",
    "\n",
    "# Show H&Y stats\n",
    "df_hy.groupby('PDSTATE').count()"
   ]
  },
  {
   "cell_type": "markdown",
   "metadata": {},
   "source": [
    "## Demographics\n",
    "\n",
    "Needed for sex."
   ]
  },
  {
   "cell_type": "code",
   "execution_count": 16,
   "metadata": {},
   "outputs": [
    {
     "data": {
      "text/html": [
       "<div>\n",
       "<style scoped>\n",
       "    .dataframe tbody tr th:only-of-type {\n",
       "        vertical-align: middle;\n",
       "    }\n",
       "\n",
       "    .dataframe tbody tr th {\n",
       "        vertical-align: top;\n",
       "    }\n",
       "\n",
       "    .dataframe thead th {\n",
       "        text-align: right;\n",
       "    }\n",
       "</style>\n",
       "<table border=\"1\" class=\"dataframe\">\n",
       "  <thead>\n",
       "    <tr style=\"text-align: right;\">\n",
       "      <th></th>\n",
       "      <th>PATNO</th>\n",
       "    </tr>\n",
       "    <tr>\n",
       "      <th>SEX</th>\n",
       "      <th></th>\n",
       "    </tr>\n",
       "  </thead>\n",
       "  <tbody>\n",
       "    <tr>\n",
       "      <th>0</th>\n",
       "      <td>976</td>\n",
       "    </tr>\n",
       "    <tr>\n",
       "      <th>1</th>\n",
       "      <td>1326</td>\n",
       "    </tr>\n",
       "  </tbody>\n",
       "</table>\n",
       "</div>"
      ],
      "text/plain": [
       "     PATNO\n",
       "SEX       \n",
       "0      976\n",
       "1     1326"
      ]
     },
     "execution_count": 16,
     "metadata": {},
     "output_type": "execute_result"
    }
   ],
   "source": [
    "demo = pd.read_csv(os.path.join(data_dir, 'Demographics.csv'))\n",
    "\n",
    "# Drop useless columns\n",
    "keep = ['PATNO', 'SEX']\n",
    "demo = demo.drop([x for x in demo.columns if x not in keep], axis=1)\n",
    "\n",
    "#\n",
    "demo['SEX'] = demo['SEX'].astype(int)\n",
    "\n",
    "# Show sex stats (0: Female, 1: Male)\n",
    "demo.groupby('SEX').count()"
   ]
  },
  {
   "cell_type": "markdown",
   "metadata": {},
   "source": [
    "## Age at visit"
   ]
  },
  {
   "cell_type": "code",
   "execution_count": 17,
   "metadata": {},
   "outputs": [
    {
     "data": {
      "text/plain": [
       "<AxesSubplot:>"
      ]
     },
     "execution_count": 17,
     "metadata": {},
     "output_type": "execute_result"
    },
    {
     "data": {
      "image/png": "[encoded data removed]",
      "text/plain": [
       "<Figure size 432x288 with 1 Axes>"
      ]
     },
     "metadata": {
      "needs_background": "light"
     },
     "output_type": "display_data"
    }
   ],
   "source": [
    "df_age = pd.read_csv(os.path.join(data_dir, 'Age_at_visit.csv'))\n",
    "\n",
    "# Show histogram\n",
    "df_age['AGE_AT_VISIT'].hist()"
   ]
  },
  {
   "cell_type": "markdown",
   "metadata": {},
   "source": [
    "## MRI availability"
   ]
  },
  {
   "cell_type": "code",
   "execution_count": 18,
   "metadata": {
    "scrolled": true
   },
   "outputs": [
    {
     "data": {
      "text/html": [
       "<div>\n",
       "<style scoped>\n",
       "    .dataframe tbody tr th:only-of-type {\n",
       "        vertical-align: middle;\n",
       "    }\n",
       "\n",
       "    .dataframe tbody tr th {\n",
       "        vertical-align: top;\n",
       "    }\n",
       "\n",
       "    .dataframe thead th {\n",
       "        text-align: right;\n",
       "    }\n",
       "</style>\n",
       "<table border=\"1\" class=\"dataframe\">\n",
       "  <thead>\n",
       "    <tr style=\"text-align: right;\">\n",
       "      <th></th>\n",
       "      <th>PATNO</th>\n",
       "      <th>Sex</th>\n",
       "      <th>Visit</th>\n",
       "      <th>Age</th>\n",
       "      <th>Description</th>\n",
       "    </tr>\n",
       "    <tr>\n",
       "      <th>EVENT_ID</th>\n",
       "      <th></th>\n",
       "      <th></th>\n",
       "      <th></th>\n",
       "      <th></th>\n",
       "      <th></th>\n",
       "    </tr>\n",
       "  </thead>\n",
       "  <tbody>\n",
       "    <tr>\n",
       "      <th>BL</th>\n",
       "      <td>1124</td>\n",
       "      <td>1124</td>\n",
       "      <td>1124</td>\n",
       "      <td>1124</td>\n",
       "      <td>1124</td>\n",
       "    </tr>\n",
       "    <tr>\n",
       "      <th>V04</th>\n",
       "      <td>270</td>\n",
       "      <td>270</td>\n",
       "      <td>270</td>\n",
       "      <td>270</td>\n",
       "      <td>270</td>\n",
       "    </tr>\n",
       "    <tr>\n",
       "      <th>V06</th>\n",
       "      <td>324</td>\n",
       "      <td>324</td>\n",
       "      <td>324</td>\n",
       "      <td>324</td>\n",
       "      <td>324</td>\n",
       "    </tr>\n",
       "    <tr>\n",
       "      <th>V08</th>\n",
       "      <td>2</td>\n",
       "      <td>2</td>\n",
       "      <td>2</td>\n",
       "      <td>2</td>\n",
       "      <td>2</td>\n",
       "    </tr>\n",
       "    <tr>\n",
       "      <th>V10</th>\n",
       "      <td>346</td>\n",
       "      <td>346</td>\n",
       "      <td>346</td>\n",
       "      <td>346</td>\n",
       "      <td>346</td>\n",
       "    </tr>\n",
       "  </tbody>\n",
       "</table>\n",
       "</div>"
      ],
      "text/plain": [
       "          PATNO   Sex  Visit   Age  Description\n",
       "EVENT_ID                                       \n",
       "BL         1124  1124   1124  1124         1124\n",
       "V04         270   270    270   270          270\n",
       "V06         324   324    324   324          324\n",
       "V08           2     2      2     2            2\n",
       "V10         346   346    346   346          346"
      ]
     },
     "execution_count": 18,
     "metadata": {},
     "output_type": "execute_result"
    }
   ],
   "source": [
    "# Read CSV\n",
    "mri_df = pd.read_csv(\"./data/MRI_info_v0.1.csv\")\n",
    "\n",
    "# Keep rows with visits we need\n",
    "# We need a 3-year gap between visits so the only possible pairs are the following ones:\n",
    "visits = {'BL': 'V08', \n",
    "          'V04': 'V10',\n",
    "          'V06': 'V12',\n",
    "          'V08': 'V13',\n",
    "          'V10': 'V14'}\n",
    "\n",
    "mri_df.rename(columns={'Subject ID': 'PATNO', 'Visit code': 'EVENT_ID'}, inplace=True)\n",
    "mri_df = mri_df[mri_df['EVENT_ID'].isin(visits)]\n",
    "mri_df[\"PATNO\"] = mri_df[\"PATNO\"].astype(np.int64)\n",
    "mri_df[\"Description\"] = mri_df[\"Description\"].astype(str)\n",
    "mri_df.groupby('EVENT_ID').count()"
   ]
  },
  {
   "cell_type": "markdown",
   "metadata": {},
   "source": [
    "## Keep patients in PD group"
   ]
  },
  {
   "cell_type": "code",
   "execution_count": 19,
   "metadata": {},
   "outputs": [
    {
     "data": {
      "text/html": [
       "<div>\n",
       "<style scoped>\n",
       "    .dataframe tbody tr th:only-of-type {\n",
       "        vertical-align: middle;\n",
       "    }\n",
       "\n",
       "    .dataframe tbody tr th {\n",
       "        vertical-align: top;\n",
       "    }\n",
       "\n",
       "    .dataframe thead th {\n",
       "        text-align: right;\n",
       "    }\n",
       "</style>\n",
       "<table border=\"1\" class=\"dataframe\">\n",
       "  <thead>\n",
       "    <tr style=\"text-align: right;\">\n",
       "      <th></th>\n",
       "      <th>PATNO</th>\n",
       "    </tr>\n",
       "    <tr>\n",
       "      <th>COHORT_DEFINITION</th>\n",
       "      <th></th>\n",
       "    </tr>\n",
       "  </thead>\n",
       "  <tbody>\n",
       "    <tr>\n",
       "      <th>Parkinson's Disease</th>\n",
       "      <td>1137</td>\n",
       "    </tr>\n",
       "  </tbody>\n",
       "</table>\n",
       "</div>"
      ],
      "text/plain": [
       "                     PATNO\n",
       "COHORT_DEFINITION         \n",
       "Parkinson's Disease   1137"
      ]
     },
     "execution_count": 19,
     "metadata": {},
     "output_type": "execute_result"
    }
   ],
   "source": [
    "# Read CSV | 1: PD, 2: Cohort\n",
    "participant_df = pd.read_csv(\"./data/Participant_Status.csv\")[[\"PATNO\", \"COHORT_DEFINITION\"]]\n",
    "participant_df = participant_df[participant_df[\"COHORT_DEFINITION\"]==\"Parkinson's Disease\"]\n",
    "\n",
    "participant_df.groupby('COHORT_DEFINITION').count()"
   ]
  },
  {
   "cell_type": "markdown",
   "metadata": {},
   "source": [
    "## Merge H&Y, age and MRI information"
   ]
  },
  {
   "cell_type": "code",
   "execution_count": 55,
   "metadata": {},
   "outputs": [
    {
     "data": {
      "text/html": [
       "<div>\n",
       "<style scoped>\n",
       "    .dataframe tbody tr th:only-of-type {\n",
       "        vertical-align: middle;\n",
       "    }\n",
       "\n",
       "    .dataframe tbody tr th {\n",
       "        vertical-align: top;\n",
       "    }\n",
       "\n",
       "    .dataframe thead th {\n",
       "        text-align: right;\n",
       "    }\n",
       "</style>\n",
       "<table border=\"1\" class=\"dataframe\">\n",
       "  <thead>\n",
       "    <tr style=\"text-align: right;\">\n",
       "      <th></th>\n",
       "      <th>PATNO</th>\n",
       "      <th>EVENT_ID</th>\n",
       "      <th>PDSTATE</th>\n",
       "      <th>PDTRTMNT</th>\n",
       "      <th>AGE_AT_VISIT</th>\n",
       "      <th>Sex</th>\n",
       "      <th>Visit</th>\n",
       "      <th>Age</th>\n",
       "      <th>Description</th>\n",
       "      <th>COHORT_DEFINITION</th>\n",
       "    </tr>\n",
       "    <tr>\n",
       "      <th>NHY</th>\n",
       "      <th></th>\n",
       "      <th></th>\n",
       "      <th></th>\n",
       "      <th></th>\n",
       "      <th></th>\n",
       "      <th></th>\n",
       "      <th></th>\n",
       "      <th></th>\n",
       "      <th></th>\n",
       "      <th></th>\n",
       "    </tr>\n",
       "  </thead>\n",
       "  <tbody>\n",
       "    <tr>\n",
       "      <th>1</th>\n",
       "      <td>235</td>\n",
       "      <td>235</td>\n",
       "      <td>235</td>\n",
       "      <td>235</td>\n",
       "      <td>235</td>\n",
       "      <td>235</td>\n",
       "      <td>235</td>\n",
       "      <td>235</td>\n",
       "      <td>235</td>\n",
       "      <td>235</td>\n",
       "    </tr>\n",
       "    <tr>\n",
       "      <th>2</th>\n",
       "      <td>588</td>\n",
       "      <td>588</td>\n",
       "      <td>588</td>\n",
       "      <td>588</td>\n",
       "      <td>588</td>\n",
       "      <td>588</td>\n",
       "      <td>588</td>\n",
       "      <td>588</td>\n",
       "      <td>588</td>\n",
       "      <td>588</td>\n",
       "    </tr>\n",
       "    <tr>\n",
       "      <th>3</th>\n",
       "      <td>36</td>\n",
       "      <td>36</td>\n",
       "      <td>36</td>\n",
       "      <td>36</td>\n",
       "      <td>36</td>\n",
       "      <td>36</td>\n",
       "      <td>36</td>\n",
       "      <td>36</td>\n",
       "      <td>36</td>\n",
       "      <td>36</td>\n",
       "    </tr>\n",
       "    <tr>\n",
       "      <th>4</th>\n",
       "      <td>6</td>\n",
       "      <td>6</td>\n",
       "      <td>6</td>\n",
       "      <td>6</td>\n",
       "      <td>6</td>\n",
       "      <td>6</td>\n",
       "      <td>6</td>\n",
       "      <td>6</td>\n",
       "      <td>6</td>\n",
       "      <td>6</td>\n",
       "    </tr>\n",
       "    <tr>\n",
       "      <th>UR</th>\n",
       "      <td>1</td>\n",
       "      <td>1</td>\n",
       "      <td>1</td>\n",
       "      <td>1</td>\n",
       "      <td>1</td>\n",
       "      <td>1</td>\n",
       "      <td>1</td>\n",
       "      <td>1</td>\n",
       "      <td>1</td>\n",
       "      <td>1</td>\n",
       "    </tr>\n",
       "  </tbody>\n",
       "</table>\n",
       "</div>"
      ],
      "text/plain": [
       "     PATNO  EVENT_ID  PDSTATE  PDTRTMNT  AGE_AT_VISIT  Sex  Visit  Age  \\\n",
       "NHY                                                                      \n",
       "1      235       235      235       235           235  235    235  235   \n",
       "2      588       588      588       588           588  588    588  588   \n",
       "3       36        36       36        36            36   36     36   36   \n",
       "4        6         6        6         6             6    6      6    6   \n",
       "UR       1         1        1         1             1    1      1    1   \n",
       "\n",
       "     Description  COHORT_DEFINITION  \n",
       "NHY                                  \n",
       "1            235                235  \n",
       "2            588                588  \n",
       "3             36                 36  \n",
       "4              6                  6  \n",
       "UR             1                  1  "
      ]
     },
     "execution_count": 55,
     "metadata": {},
     "output_type": "execute_result"
    }
   ],
   "source": [
    "keys = ['PATNO', 'EVENT_ID']\n",
    "\n",
    "df_mri_age = df_age.merge(mri_df, how='right')\n",
    "df_mri_age['AGE_AT_VISIT'].fillna(df_mri_age['Age'])\n",
    "df_mri_age = df_mri_age.merge(participant_df, on=\"PATNO\")\n",
    "\n",
    "df = df_hy.merge(df_mri_age, how='inner')\n",
    "df.groupby('NHY').count()"
   ]
  },
  {
   "cell_type": "markdown",
   "metadata": {},
   "source": [
    "## Format data by visit pairs"
   ]
  },
  {
   "cell_type": "code",
   "execution_count": 56,
   "metadata": {},
   "outputs": [],
   "source": [
    "def next_visit(x):\n",
    "    return visits[x]"
   ]
  },
  {
   "cell_type": "code",
   "execution_count": 57,
   "metadata": {},
   "outputs": [],
   "source": [
    "visits_df = df\n",
    "\n",
    "# Set id of second visit in pair\n",
    "visits_df['next_visit'] = visits_df['EVENT_ID'].apply(next_visit)\n",
    "\n",
    "# Retrieve H&Y score of next visit\n",
    "visits_df = visits_df.merge(df_hy, how='left', left_on=['PATNO', 'next_visit'], right_on=['PATNO', 'EVENT_ID'])\n",
    "\n",
    "# Add patient sex to visit pairs\n",
    "visits_df = visits_df.merge(demo, on=['PATNO'])\n",
    "\n",
    "# Define visit as stable if NHY (first visit)\n",
    "visits_df['stable'] = (visits_df['NHY_x'] == visits_df['NHY_y'])"
   ]
  },
  {
   "cell_type": "code",
   "execution_count": 58,
   "metadata": {
    "scrolled": false
   },
   "outputs": [
    {
     "data": {
      "text/html": [
       "<div>\n",
       "<style scoped>\n",
       "    .dataframe tbody tr th:only-of-type {\n",
       "        vertical-align: middle;\n",
       "    }\n",
       "\n",
       "    .dataframe tbody tr th {\n",
       "        vertical-align: top;\n",
       "    }\n",
       "\n",
       "    .dataframe thead th {\n",
       "        text-align: right;\n",
       "    }\n",
       "</style>\n",
       "<table border=\"1\" class=\"dataframe\">\n",
       "  <thead>\n",
       "    <tr style=\"text-align: right;\">\n",
       "      <th></th>\n",
       "      <th></th>\n",
       "      <th>PATNO</th>\n",
       "      <th>EVENT_ID_x</th>\n",
       "      <th>PDSTATE_x</th>\n",
       "      <th>PDTRTMNT_x</th>\n",
       "      <th>AGE_AT_VISIT</th>\n",
       "      <th>Sex</th>\n",
       "      <th>Visit</th>\n",
       "      <th>Age</th>\n",
       "      <th>Description</th>\n",
       "      <th>COHORT_DEFINITION</th>\n",
       "      <th>next_visit</th>\n",
       "      <th>EVENT_ID_y</th>\n",
       "      <th>PDSTATE_y</th>\n",
       "      <th>NHY_y</th>\n",
       "      <th>PDTRTMNT_y</th>\n",
       "      <th>SEX</th>\n",
       "    </tr>\n",
       "    <tr>\n",
       "      <th>stable</th>\n",
       "      <th>NHY_x</th>\n",
       "      <th></th>\n",
       "      <th></th>\n",
       "      <th></th>\n",
       "      <th></th>\n",
       "      <th></th>\n",
       "      <th></th>\n",
       "      <th></th>\n",
       "      <th></th>\n",
       "      <th></th>\n",
       "      <th></th>\n",
       "      <th></th>\n",
       "      <th></th>\n",
       "      <th></th>\n",
       "      <th></th>\n",
       "      <th></th>\n",
       "      <th></th>\n",
       "    </tr>\n",
       "  </thead>\n",
       "  <tbody>\n",
       "    <tr>\n",
       "      <th rowspan=\"6\" valign=\"top\">False</th>\n",
       "      <th>1</th>\n",
       "      <td>200</td>\n",
       "      <td>200</td>\n",
       "      <td>200</td>\n",
       "      <td>200</td>\n",
       "      <td>200</td>\n",
       "      <td>200</td>\n",
       "      <td>200</td>\n",
       "      <td>200</td>\n",
       "      <td>200</td>\n",
       "      <td>200</td>\n",
       "      <td>200</td>\n",
       "      <td>102</td>\n",
       "      <td>102</td>\n",
       "      <td>102</td>\n",
       "      <td>102</td>\n",
       "      <td>200</td>\n",
       "    </tr>\n",
       "    <tr>\n",
       "      <th>2</th>\n",
       "      <td>346</td>\n",
       "      <td>346</td>\n",
       "      <td>346</td>\n",
       "      <td>346</td>\n",
       "      <td>346</td>\n",
       "      <td>346</td>\n",
       "      <td>346</td>\n",
       "      <td>346</td>\n",
       "      <td>346</td>\n",
       "      <td>346</td>\n",
       "      <td>346</td>\n",
       "      <td>48</td>\n",
       "      <td>48</td>\n",
       "      <td>48</td>\n",
       "      <td>48</td>\n",
       "      <td>346</td>\n",
       "    </tr>\n",
       "    <tr>\n",
       "      <th>3</th>\n",
       "      <td>35</td>\n",
       "      <td>35</td>\n",
       "      <td>35</td>\n",
       "      <td>35</td>\n",
       "      <td>35</td>\n",
       "      <td>35</td>\n",
       "      <td>35</td>\n",
       "      <td>35</td>\n",
       "      <td>35</td>\n",
       "      <td>35</td>\n",
       "      <td>35</td>\n",
       "      <td>7</td>\n",
       "      <td>7</td>\n",
       "      <td>7</td>\n",
       "      <td>7</td>\n",
       "      <td>35</td>\n",
       "    </tr>\n",
       "    <tr>\n",
       "      <th>4</th>\n",
       "      <td>6</td>\n",
       "      <td>6</td>\n",
       "      <td>6</td>\n",
       "      <td>6</td>\n",
       "      <td>6</td>\n",
       "      <td>6</td>\n",
       "      <td>6</td>\n",
       "      <td>6</td>\n",
       "      <td>6</td>\n",
       "      <td>6</td>\n",
       "      <td>6</td>\n",
       "      <td>2</td>\n",
       "      <td>2</td>\n",
       "      <td>2</td>\n",
       "      <td>2</td>\n",
       "      <td>6</td>\n",
       "    </tr>\n",
       "    <tr>\n",
       "      <th>UR</th>\n",
       "      <td>1</td>\n",
       "      <td>1</td>\n",
       "      <td>1</td>\n",
       "      <td>1</td>\n",
       "      <td>1</td>\n",
       "      <td>1</td>\n",
       "      <td>1</td>\n",
       "      <td>1</td>\n",
       "      <td>1</td>\n",
       "      <td>1</td>\n",
       "      <td>1</td>\n",
       "      <td>0</td>\n",
       "      <td>0</td>\n",
       "      <td>0</td>\n",
       "      <td>0</td>\n",
       "      <td>1</td>\n",
       "    </tr>\n",
       "    <tr>\n",
       "      <th>NaN</th>\n",
       "      <td>1</td>\n",
       "      <td>1</td>\n",
       "      <td>1</td>\n",
       "      <td>1</td>\n",
       "      <td>1</td>\n",
       "      <td>1</td>\n",
       "      <td>1</td>\n",
       "      <td>1</td>\n",
       "      <td>1</td>\n",
       "      <td>1</td>\n",
       "      <td>1</td>\n",
       "      <td>0</td>\n",
       "      <td>0</td>\n",
       "      <td>0</td>\n",
       "      <td>0</td>\n",
       "      <td>1</td>\n",
       "    </tr>\n",
       "    <tr>\n",
       "      <th rowspan=\"3\" valign=\"top\">True</th>\n",
       "      <th>1</th>\n",
       "      <td>35</td>\n",
       "      <td>35</td>\n",
       "      <td>35</td>\n",
       "      <td>35</td>\n",
       "      <td>35</td>\n",
       "      <td>35</td>\n",
       "      <td>35</td>\n",
       "      <td>35</td>\n",
       "      <td>35</td>\n",
       "      <td>35</td>\n",
       "      <td>35</td>\n",
       "      <td>35</td>\n",
       "      <td>35</td>\n",
       "      <td>35</td>\n",
       "      <td>35</td>\n",
       "      <td>35</td>\n",
       "    </tr>\n",
       "    <tr>\n",
       "      <th>2</th>\n",
       "      <td>242</td>\n",
       "      <td>242</td>\n",
       "      <td>242</td>\n",
       "      <td>242</td>\n",
       "      <td>242</td>\n",
       "      <td>242</td>\n",
       "      <td>242</td>\n",
       "      <td>242</td>\n",
       "      <td>242</td>\n",
       "      <td>242</td>\n",
       "      <td>242</td>\n",
       "      <td>242</td>\n",
       "      <td>242</td>\n",
       "      <td>242</td>\n",
       "      <td>242</td>\n",
       "      <td>242</td>\n",
       "    </tr>\n",
       "    <tr>\n",
       "      <th>3</th>\n",
       "      <td>1</td>\n",
       "      <td>1</td>\n",
       "      <td>1</td>\n",
       "      <td>1</td>\n",
       "      <td>1</td>\n",
       "      <td>1</td>\n",
       "      <td>1</td>\n",
       "      <td>1</td>\n",
       "      <td>1</td>\n",
       "      <td>1</td>\n",
       "      <td>1</td>\n",
       "      <td>1</td>\n",
       "      <td>1</td>\n",
       "      <td>1</td>\n",
       "      <td>1</td>\n",
       "      <td>1</td>\n",
       "    </tr>\n",
       "  </tbody>\n",
       "</table>\n",
       "</div>"
      ],
      "text/plain": [
       "              PATNO  EVENT_ID_x  PDSTATE_x  PDTRTMNT_x  AGE_AT_VISIT  Sex  \\\n",
       "stable NHY_x                                                                \n",
       "False  1        200         200        200         200           200  200   \n",
       "       2        346         346        346         346           346  346   \n",
       "       3         35          35         35          35            35   35   \n",
       "       4          6           6          6           6             6    6   \n",
       "       UR         1           1          1           1             1    1   \n",
       "       NaN        1           1          1           1             1    1   \n",
       "True   1         35          35         35          35            35   35   \n",
       "       2        242         242        242         242           242  242   \n",
       "       3          1           1          1           1             1    1   \n",
       "\n",
       "              Visit  Age  Description  COHORT_DEFINITION  next_visit  \\\n",
       "stable NHY_x                                                           \n",
       "False  1        200  200          200                200         200   \n",
       "       2        346  346          346                346         346   \n",
       "       3         35   35           35                 35          35   \n",
       "       4          6    6            6                  6           6   \n",
       "       UR         1    1            1                  1           1   \n",
       "       NaN        1    1            1                  1           1   \n",
       "True   1         35   35           35                 35          35   \n",
       "       2        242  242          242                242         242   \n",
       "       3          1    1            1                  1           1   \n",
       "\n",
       "              EVENT_ID_y  PDSTATE_y  NHY_y  PDTRTMNT_y  SEX  \n",
       "stable NHY_x                                                 \n",
       "False  1             102        102    102         102  200  \n",
       "       2              48         48     48          48  346  \n",
       "       3               7          7      7           7   35  \n",
       "       4               2          2      2           2    6  \n",
       "       UR              0          0      0           0    1  \n",
       "       NaN             0          0      0           0    1  \n",
       "True   1              35         35     35          35   35  \n",
       "       2             242        242    242         242  242  \n",
       "       3               1          1      1           1    1  "
      ]
     },
     "execution_count": 58,
     "metadata": {},
     "output_type": "execute_result"
    }
   ],
   "source": [
    "visits_df.groupby(['stable', 'NHY_x'], dropna=False).count()"
   ]
  },
  {
   "cell_type": "code",
   "execution_count": 62,
   "metadata": {},
   "outputs": [
    {
     "data": {
      "text/html": [
       "<div>\n",
       "<style scoped>\n",
       "    .dataframe tbody tr th:only-of-type {\n",
       "        vertical-align: middle;\n",
       "    }\n",
       "\n",
       "    .dataframe tbody tr th {\n",
       "        vertical-align: top;\n",
       "    }\n",
       "\n",
       "    .dataframe thead th {\n",
       "        text-align: right;\n",
       "    }\n",
       "</style>\n",
       "<table border=\"1\" class=\"dataframe\">\n",
       "  <thead>\n",
       "    <tr style=\"text-align: right;\">\n",
       "      <th></th>\n",
       "      <th>PATNO</th>\n",
       "      <th>EVENT_ID_x</th>\n",
       "      <th>PDSTATE_x</th>\n",
       "      <th>NHY_x</th>\n",
       "      <th>PDTRTMNT_x</th>\n",
       "      <th>AGE_AT_VISIT</th>\n",
       "      <th>Sex</th>\n",
       "      <th>Visit</th>\n",
       "      <th>Age</th>\n",
       "      <th>Description</th>\n",
       "      <th>COHORT_DEFINITION</th>\n",
       "      <th>next_visit</th>\n",
       "      <th>EVENT_ID_y</th>\n",
       "      <th>PDSTATE_y</th>\n",
       "      <th>NHY_y</th>\n",
       "      <th>PDTRTMNT_y</th>\n",
       "      <th>SEX</th>\n",
       "      <th>stable</th>\n",
       "    </tr>\n",
       "  </thead>\n",
       "  <tbody>\n",
       "    <tr>\n",
       "      <th>164</th>\n",
       "      <td>3268</td>\n",
       "      <td>BL</td>\n",
       "      <td>OFF</td>\n",
       "      <td>2</td>\n",
       "      <td>0.0</td>\n",
       "      <td>61.5</td>\n",
       "      <td>M</td>\n",
       "      <td>Baseline</td>\n",
       "      <td>61.5</td>\n",
       "      <td>SAG FSPGR 3D</td>\n",
       "      <td>Parkinson's Disease</td>\n",
       "      <td>V08</td>\n",
       "      <td>NaN</td>\n",
       "      <td>NaN</td>\n",
       "      <td>NaN</td>\n",
       "      <td>NaN</td>\n",
       "      <td>1</td>\n",
       "      <td>False</td>\n",
       "    </tr>\n",
       "  </tbody>\n",
       "</table>\n",
       "</div>"
      ],
      "text/plain": [
       "     PATNO EVENT_ID_x PDSTATE_x NHY_x  PDTRTMNT_x  AGE_AT_VISIT Sex     Visit  \\\n",
       "164   3268         BL       OFF     2         0.0          61.5   M  Baseline   \n",
       "\n",
       "      Age   Description    COHORT_DEFINITION next_visit EVENT_ID_y PDSTATE_y  \\\n",
       "164  61.5  SAG FSPGR 3D  Parkinson's Disease        V08        NaN       NaN   \n",
       "\n",
       "    NHY_y  PDTRTMNT_y  SEX  stable  \n",
       "164   NaN         NaN    1   False  "
      ]
     },
     "execution_count": 62,
     "metadata": {},
     "output_type": "execute_result"
    }
   ],
   "source": [
    "visits_df[visits_df[\"PATNO\"]==3268]"
   ]
  },
  {
   "cell_type": "markdown",
   "metadata": {},
   "source": [
    "### Drop defective MRI scans"
   ]
  },
  {
   "cell_type": "code",
   "execution_count": 26,
   "metadata": {},
   "outputs": [],
   "source": [
    "visits_df = visits_df.drop(visits_df[visits_df[\"PATNO\"]==3268].index)\n",
    "visits_df = visits_df.drop(visits_df[(visits_df[\"PATNO\"]==3328) & (visits_df[\"EVENT_ID_x\"]==\"BL\")].index)\n",
    "visits_df = visits_df.drop(visits_df[visits_df[\"PATNO\"]==3275].index)\n",
    "visits_df = visits_df.drop(visits_df[(visits_df[\"PATNO\"]==3802) & (visits_df[\"EVENT_ID_x\"]==\"BL\")].index)"
   ]
  },
  {
   "cell_type": "markdown",
   "metadata": {},
   "source": [
    "# Matching\n",
    "\n",
    "We implemented a nearest-neighbor matching loop based on the Euclidean distance. We will match stable and progressive groups for age and sex for each H&Y value."
   ]
  },
  {
   "cell_type": "markdown",
   "metadata": {},
   "source": [
    "## Normalization\n",
    "\n",
    "We need to normalize age or else it will dominate sex in the Euclidean distance."
   ]
  },
  {
   "cell_type": "code",
   "execution_count": 27,
   "metadata": {
    "scrolled": true
   },
   "outputs": [
    {
     "data": {
      "text/html": [
       "<div>\n",
       "<style scoped>\n",
       "    .dataframe tbody tr th:only-of-type {\n",
       "        vertical-align: middle;\n",
       "    }\n",
       "\n",
       "    .dataframe tbody tr th {\n",
       "        vertical-align: top;\n",
       "    }\n",
       "\n",
       "    .dataframe thead th {\n",
       "        text-align: right;\n",
       "    }\n",
       "</style>\n",
       "<table border=\"1\" class=\"dataframe\">\n",
       "  <thead>\n",
       "    <tr style=\"text-align: right;\">\n",
       "      <th></th>\n",
       "      <th>PATNO</th>\n",
       "      <th>PDTRTMNT_x</th>\n",
       "      <th>AGE_AT_VISIT</th>\n",
       "      <th>Age</th>\n",
       "      <th>PDTRTMNT_y</th>\n",
       "      <th>SEX</th>\n",
       "      <th>AGE_AT_VISIT_norm</th>\n",
       "    </tr>\n",
       "  </thead>\n",
       "  <tbody>\n",
       "    <tr>\n",
       "      <th>count</th>\n",
       "      <td>863.000000</td>\n",
       "      <td>863.000000</td>\n",
       "      <td>863.000000</td>\n",
       "      <td>863.00000</td>\n",
       "      <td>436.000000</td>\n",
       "      <td>863.000000</td>\n",
       "      <td>8.630000e+02</td>\n",
       "    </tr>\n",
       "    <tr>\n",
       "      <th>mean</th>\n",
       "      <td>20634.640788</td>\n",
       "      <td>0.453071</td>\n",
       "      <td>63.247972</td>\n",
       "      <td>63.25898</td>\n",
       "      <td>0.935780</td>\n",
       "      <td>0.652375</td>\n",
       "      <td>-3.622698e-16</td>\n",
       "    </tr>\n",
       "    <tr>\n",
       "      <th>std</th>\n",
       "      <td>31346.357130</td>\n",
       "      <td>0.498081</td>\n",
       "      <td>9.510701</td>\n",
       "      <td>9.51196</td>\n",
       "      <td>0.245426</td>\n",
       "      <td>0.476492</td>\n",
       "      <td>1.000000e+00</td>\n",
       "    </tr>\n",
       "    <tr>\n",
       "      <th>min</th>\n",
       "      <td>3001.000000</td>\n",
       "      <td>0.000000</td>\n",
       "      <td>33.700000</td>\n",
       "      <td>33.70000</td>\n",
       "      <td>0.000000</td>\n",
       "      <td>0.000000</td>\n",
       "      <td>-3.106813e+00</td>\n",
       "    </tr>\n",
       "    <tr>\n",
       "      <th>25%</th>\n",
       "      <td>3352.000000</td>\n",
       "      <td>0.000000</td>\n",
       "      <td>56.400000</td>\n",
       "      <td>56.45000</td>\n",
       "      <td>1.000000</td>\n",
       "      <td>0.000000</td>\n",
       "      <td>-7.200281e-01</td>\n",
       "    </tr>\n",
       "    <tr>\n",
       "      <th>50%</th>\n",
       "      <td>3800.000000</td>\n",
       "      <td>0.000000</td>\n",
       "      <td>64.400000</td>\n",
       "      <td>64.40000</td>\n",
       "      <td>1.000000</td>\n",
       "      <td>1.000000</td>\n",
       "      <td>1.211296e-01</td>\n",
       "    </tr>\n",
       "    <tr>\n",
       "      <th>75%</th>\n",
       "      <td>40692.000000</td>\n",
       "      <td>1.000000</td>\n",
       "      <td>70.500000</td>\n",
       "      <td>70.50000</td>\n",
       "      <td>1.000000</td>\n",
       "      <td>1.000000</td>\n",
       "      <td>7.625125e-01</td>\n",
       "    </tr>\n",
       "    <tr>\n",
       "      <th>max</th>\n",
       "      <td>142957.000000</td>\n",
       "      <td>1.000000</td>\n",
       "      <td>86.300000</td>\n",
       "      <td>86.30000</td>\n",
       "      <td>1.000000</td>\n",
       "      <td>1.000000</td>\n",
       "      <td>2.423799e+00</td>\n",
       "    </tr>\n",
       "  </tbody>\n",
       "</table>\n",
       "</div>"
      ],
      "text/plain": [
       "               PATNO  PDTRTMNT_x  AGE_AT_VISIT        Age  PDTRTMNT_y  \\\n",
       "count     863.000000  863.000000    863.000000  863.00000  436.000000   \n",
       "mean    20634.640788    0.453071     63.247972   63.25898    0.935780   \n",
       "std     31346.357130    0.498081      9.510701    9.51196    0.245426   \n",
       "min      3001.000000    0.000000     33.700000   33.70000    0.000000   \n",
       "25%      3352.000000    0.000000     56.400000   56.45000    1.000000   \n",
       "50%      3800.000000    0.000000     64.400000   64.40000    1.000000   \n",
       "75%     40692.000000    1.000000     70.500000   70.50000    1.000000   \n",
       "max    142957.000000    1.000000     86.300000   86.30000    1.000000   \n",
       "\n",
       "              SEX  AGE_AT_VISIT_norm  \n",
       "count  863.000000       8.630000e+02  \n",
       "mean     0.652375      -3.622698e-16  \n",
       "std      0.476492       1.000000e+00  \n",
       "min      0.000000      -3.106813e+00  \n",
       "25%      0.000000      -7.200281e-01  \n",
       "50%      1.000000       1.211296e-01  \n",
       "75%      1.000000       7.625125e-01  \n",
       "max      1.000000       2.423799e+00  "
      ]
     },
     "execution_count": 27,
     "metadata": {},
     "output_type": "execute_result"
    }
   ],
   "source": [
    "df = visits_df\n",
    "to_normalize = ['AGE_AT_VISIT'] \n",
    "for var in to_normalize:\n",
    "    df[f'{var}_norm'] = (df[var] - df[var].mean())/df[var].std()\n",
    "df.describe()"
   ]
  },
  {
   "cell_type": "markdown",
   "metadata": {},
   "source": [
    "## Matching loop\n",
    "\n",
    "Nearest neighbor matching loop applied for each H&Y value to extract stable and progressive populations with matched sex and age."
   ]
  },
  {
   "cell_type": "code",
   "execution_count": 28,
   "metadata": {
    "scrolled": true
   },
   "outputs": [
    {
     "name": "stderr",
     "output_type": "stream",
     "text": [
      "C:\\Users\\MohanadArafe\\AppData\\Local\\Temp\\ipykernel_5608\\149931291.py:43: FutureWarning: The frame.append method is deprecated and will be removed from pandas in a future version. Use pandas.concat instead.\n",
      "  group1_matched = group1_matched.append(s)\n",
      "C:\\Users\\MohanadArafe\\AppData\\Local\\Temp\\ipykernel_5608\\149931291.py:44: FutureWarning: The frame.append method is deprecated and will be removed from pandas in a future version. Use pandas.concat instead.\n",
      "  group2_matched = group2_matched.append(t)\n",
      "C:\\Users\\MohanadArafe\\AppData\\Local\\Temp\\ipykernel_5608\\149931291.py:43: FutureWarning: The frame.append method is deprecated and will be removed from pandas in a future version. Use pandas.concat instead.\n",
      "  group1_matched = group1_matched.append(s)\n",
      "C:\\Users\\MohanadArafe\\AppData\\Local\\Temp\\ipykernel_5608\\149931291.py:44: FutureWarning: The frame.append method is deprecated and will be removed from pandas in a future version. Use pandas.concat instead.\n",
      "  group2_matched = group2_matched.append(t)\n",
      "C:\\Users\\MohanadArafe\\AppData\\Local\\Temp\\ipykernel_5608\\149931291.py:43: FutureWarning: The frame.append method is deprecated and will be removed from pandas in a future version. Use pandas.concat instead.\n",
      "  group1_matched = group1_matched.append(s)\n",
      "C:\\Users\\MohanadArafe\\AppData\\Local\\Temp\\ipykernel_5608\\149931291.py:44: FutureWarning: The frame.append method is deprecated and will be removed from pandas in a future version. Use pandas.concat instead.\n",
      "  group2_matched = group2_matched.append(t)\n",
      "C:\\Users\\MohanadArafe\\AppData\\Local\\Temp\\ipykernel_5608\\149931291.py:43: FutureWarning: The frame.append method is deprecated and will be removed from pandas in a future version. Use pandas.concat instead.\n",
      "  group1_matched = group1_matched.append(s)\n",
      "C:\\Users\\MohanadArafe\\AppData\\Local\\Temp\\ipykernel_5608\\149931291.py:44: FutureWarning: The frame.append method is deprecated and will be removed from pandas in a future version. Use pandas.concat instead.\n",
      "  group2_matched = group2_matched.append(t)\n",
      "C:\\Users\\MohanadArafe\\AppData\\Local\\Temp\\ipykernel_5608\\149931291.py:43: FutureWarning: The frame.append method is deprecated and will be removed from pandas in a future version. Use pandas.concat instead.\n",
      "  group1_matched = group1_matched.append(s)\n",
      "C:\\Users\\MohanadArafe\\AppData\\Local\\Temp\\ipykernel_5608\\149931291.py:44: FutureWarning: The frame.append method is deprecated and will be removed from pandas in a future version. Use pandas.concat instead.\n",
      "  group2_matched = group2_matched.append(t)\n",
      "C:\\Users\\MohanadArafe\\AppData\\Local\\Temp\\ipykernel_5608\\149931291.py:43: FutureWarning: The frame.append method is deprecated and will be removed from pandas in a future version. Use pandas.concat instead.\n",
      "  group1_matched = group1_matched.append(s)\n",
      "C:\\Users\\MohanadArafe\\AppData\\Local\\Temp\\ipykernel_5608\\149931291.py:44: FutureWarning: The frame.append method is deprecated and will be removed from pandas in a future version. Use pandas.concat instead.\n",
      "  group2_matched = group2_matched.append(t)\n",
      "C:\\Users\\MohanadArafe\\AppData\\Local\\Temp\\ipykernel_5608\\149931291.py:43: FutureWarning: The frame.append method is deprecated and will be removed from pandas in a future version. Use pandas.concat instead.\n",
      "  group1_matched = group1_matched.append(s)\n",
      "C:\\Users\\MohanadArafe\\AppData\\Local\\Temp\\ipykernel_5608\\149931291.py:44: FutureWarning: The frame.append method is deprecated and will be removed from pandas in a future version. Use pandas.concat instead.\n",
      "  group2_matched = group2_matched.append(t)\n",
      "C:\\Users\\MohanadArafe\\AppData\\Local\\Temp\\ipykernel_5608\\149931291.py:43: FutureWarning: The frame.append method is deprecated and will be removed from pandas in a future version. Use pandas.concat instead.\n",
      "  group1_matched = group1_matched.append(s)\n",
      "C:\\Users\\MohanadArafe\\AppData\\Local\\Temp\\ipykernel_5608\\149931291.py:44: FutureWarning: The frame.append method is deprecated and will be removed from pandas in a future version. Use pandas.concat instead.\n",
      "  group2_matched = group2_matched.append(t)\n",
      "C:\\Users\\MohanadArafe\\AppData\\Local\\Temp\\ipykernel_5608\\149931291.py:43: FutureWarning: The frame.append method is deprecated and will be removed from pandas in a future version. Use pandas.concat instead.\n",
      "  group1_matched = group1_matched.append(s)\n",
      "C:\\Users\\MohanadArafe\\AppData\\Local\\Temp\\ipykernel_5608\\149931291.py:44: FutureWarning: The frame.append method is deprecated and will be removed from pandas in a future version. Use pandas.concat instead.\n",
      "  group2_matched = group2_matched.append(t)\n",
      "C:\\Users\\MohanadArafe\\AppData\\Local\\Temp\\ipykernel_5608\\149931291.py:43: FutureWarning: The frame.append method is deprecated and will be removed from pandas in a future version. Use pandas.concat instead.\n",
      "  group1_matched = group1_matched.append(s)\n",
      "C:\\Users\\MohanadArafe\\AppData\\Local\\Temp\\ipykernel_5608\\149931291.py:44: FutureWarning: The frame.append method is deprecated and will be removed from pandas in a future version. Use pandas.concat instead.\n",
      "  group2_matched = group2_matched.append(t)\n",
      "C:\\Users\\MohanadArafe\\AppData\\Local\\Temp\\ipykernel_5608\\149931291.py:43: FutureWarning: The frame.append method is deprecated and will be removed from pandas in a future version. Use pandas.concat instead.\n",
      "  group1_matched = group1_matched.append(s)\n",
      "C:\\Users\\MohanadArafe\\AppData\\Local\\Temp\\ipykernel_5608\\149931291.py:44: FutureWarning: The frame.append method is deprecated and will be removed from pandas in a future version. Use pandas.concat instead.\n",
      "  group2_matched = group2_matched.append(t)\n",
      "C:\\Users\\MohanadArafe\\AppData\\Local\\Temp\\ipykernel_5608\\149931291.py:43: FutureWarning: The frame.append method is deprecated and will be removed from pandas in a future version. Use pandas.concat instead.\n",
      "  group1_matched = group1_matched.append(s)\n",
      "C:\\Users\\MohanadArafe\\AppData\\Local\\Temp\\ipykernel_5608\\149931291.py:44: FutureWarning: The frame.append method is deprecated and will be removed from pandas in a future version. Use pandas.concat instead.\n",
      "  group2_matched = group2_matched.append(t)\n",
      "C:\\Users\\MohanadArafe\\AppData\\Local\\Temp\\ipykernel_5608\\149931291.py:43: FutureWarning: The frame.append method is deprecated and will be removed from pandas in a future version. Use pandas.concat instead.\n",
      "  group1_matched = group1_matched.append(s)\n",
      "C:\\Users\\MohanadArafe\\AppData\\Local\\Temp\\ipykernel_5608\\149931291.py:44: FutureWarning: The frame.append method is deprecated and will be removed from pandas in a future version. Use pandas.concat instead.\n",
      "  group2_matched = group2_matched.append(t)\n",
      "C:\\Users\\MohanadArafe\\AppData\\Local\\Temp\\ipykernel_5608\\149931291.py:43: FutureWarning: The frame.append method is deprecated and will be removed from pandas in a future version. Use pandas.concat instead.\n",
      "  group1_matched = group1_matched.append(s)\n",
      "C:\\Users\\MohanadArafe\\AppData\\Local\\Temp\\ipykernel_5608\\149931291.py:44: FutureWarning: The frame.append method is deprecated and will be removed from pandas in a future version. Use pandas.concat instead.\n",
      "  group2_matched = group2_matched.append(t)\n",
      "C:\\Users\\MohanadArafe\\AppData\\Local\\Temp\\ipykernel_5608\\149931291.py:43: FutureWarning: The frame.append method is deprecated and will be removed from pandas in a future version. Use pandas.concat instead.\n",
      "  group1_matched = group1_matched.append(s)\n",
      "C:\\Users\\MohanadArafe\\AppData\\Local\\Temp\\ipykernel_5608\\149931291.py:44: FutureWarning: The frame.append method is deprecated and will be removed from pandas in a future version. Use pandas.concat instead.\n",
      "  group2_matched = group2_matched.append(t)\n",
      "C:\\Users\\MohanadArafe\\AppData\\Local\\Temp\\ipykernel_5608\\149931291.py:43: FutureWarning: The frame.append method is deprecated and will be removed from pandas in a future version. Use pandas.concat instead.\n",
      "  group1_matched = group1_matched.append(s)\n",
      "C:\\Users\\MohanadArafe\\AppData\\Local\\Temp\\ipykernel_5608\\149931291.py:44: FutureWarning: The frame.append method is deprecated and will be removed from pandas in a future version. Use pandas.concat instead.\n",
      "  group2_matched = group2_matched.append(t)\n",
      "C:\\Users\\MohanadArafe\\AppData\\Local\\Temp\\ipykernel_5608\\149931291.py:43: FutureWarning: The frame.append method is deprecated and will be removed from pandas in a future version. Use pandas.concat instead.\n",
      "  group1_matched = group1_matched.append(s)\n",
      "C:\\Users\\MohanadArafe\\AppData\\Local\\Temp\\ipykernel_5608\\149931291.py:44: FutureWarning: The frame.append method is deprecated and will be removed from pandas in a future version. Use pandas.concat instead.\n",
      "  group2_matched = group2_matched.append(t)\n",
      "C:\\Users\\MohanadArafe\\AppData\\Local\\Temp\\ipykernel_5608\\149931291.py:43: FutureWarning: The frame.append method is deprecated and will be removed from pandas in a future version. Use pandas.concat instead.\n",
      "  group1_matched = group1_matched.append(s)\n",
      "C:\\Users\\MohanadArafe\\AppData\\Local\\Temp\\ipykernel_5608\\149931291.py:44: FutureWarning: The frame.append method is deprecated and will be removed from pandas in a future version. Use pandas.concat instead.\n",
      "  group2_matched = group2_matched.append(t)\n",
      "C:\\Users\\MohanadArafe\\AppData\\Local\\Temp\\ipykernel_5608\\149931291.py:43: FutureWarning: The frame.append method is deprecated and will be removed from pandas in a future version. Use pandas.concat instead.\n",
      "  group1_matched = group1_matched.append(s)\n",
      "C:\\Users\\MohanadArafe\\AppData\\Local\\Temp\\ipykernel_5608\\149931291.py:44: FutureWarning: The frame.append method is deprecated and will be removed from pandas in a future version. Use pandas.concat instead.\n",
      "  group2_matched = group2_matched.append(t)\n",
      "C:\\Users\\MohanadArafe\\AppData\\Local\\Temp\\ipykernel_5608\\149931291.py:43: FutureWarning: The frame.append method is deprecated and will be removed from pandas in a future version. Use pandas.concat instead.\n",
      "  group1_matched = group1_matched.append(s)\n",
      "C:\\Users\\MohanadArafe\\AppData\\Local\\Temp\\ipykernel_5608\\149931291.py:44: FutureWarning: The frame.append method is deprecated and will be removed from pandas in a future version. Use pandas.concat instead.\n",
      "  group2_matched = group2_matched.append(t)\n",
      "C:\\Users\\MohanadArafe\\AppData\\Local\\Temp\\ipykernel_5608\\149931291.py:43: FutureWarning: The frame.append method is deprecated and will be removed from pandas in a future version. Use pandas.concat instead.\n",
      "  group1_matched = group1_matched.append(s)\n",
      "C:\\Users\\MohanadArafe\\AppData\\Local\\Temp\\ipykernel_5608\\149931291.py:44: FutureWarning: The frame.append method is deprecated and will be removed from pandas in a future version. Use pandas.concat instead.\n",
      "  group2_matched = group2_matched.append(t)\n",
      "C:\\Users\\MohanadArafe\\AppData\\Local\\Temp\\ipykernel_5608\\149931291.py:43: FutureWarning: The frame.append method is deprecated and will be removed from pandas in a future version. Use pandas.concat instead.\n",
      "  group1_matched = group1_matched.append(s)\n",
      "C:\\Users\\MohanadArafe\\AppData\\Local\\Temp\\ipykernel_5608\\149931291.py:44: FutureWarning: The frame.append method is deprecated and will be removed from pandas in a future version. Use pandas.concat instead.\n",
      "  group2_matched = group2_matched.append(t)\n",
      "C:\\Users\\MohanadArafe\\AppData\\Local\\Temp\\ipykernel_5608\\149931291.py:43: FutureWarning: The frame.append method is deprecated and will be removed from pandas in a future version. Use pandas.concat instead.\n",
      "  group1_matched = group1_matched.append(s)\n"
     ]
    },
    {
     "name": "stderr",
     "output_type": "stream",
     "text": [
      "C:\\Users\\MohanadArafe\\AppData\\Local\\Temp\\ipykernel_5608\\149931291.py:44: FutureWarning: The frame.append method is deprecated and will be removed from pandas in a future version. Use pandas.concat instead.\n",
      "  group2_matched = group2_matched.append(t)\n",
      "C:\\Users\\MohanadArafe\\AppData\\Local\\Temp\\ipykernel_5608\\149931291.py:43: FutureWarning: The frame.append method is deprecated and will be removed from pandas in a future version. Use pandas.concat instead.\n",
      "  group1_matched = group1_matched.append(s)\n",
      "C:\\Users\\MohanadArafe\\AppData\\Local\\Temp\\ipykernel_5608\\149931291.py:44: FutureWarning: The frame.append method is deprecated and will be removed from pandas in a future version. Use pandas.concat instead.\n",
      "  group2_matched = group2_matched.append(t)\n",
      "C:\\Users\\MohanadArafe\\AppData\\Local\\Temp\\ipykernel_5608\\149931291.py:43: FutureWarning: The frame.append method is deprecated and will be removed from pandas in a future version. Use pandas.concat instead.\n",
      "  group1_matched = group1_matched.append(s)\n",
      "C:\\Users\\MohanadArafe\\AppData\\Local\\Temp\\ipykernel_5608\\149931291.py:44: FutureWarning: The frame.append method is deprecated and will be removed from pandas in a future version. Use pandas.concat instead.\n",
      "  group2_matched = group2_matched.append(t)\n",
      "C:\\Users\\MohanadArafe\\AppData\\Local\\Temp\\ipykernel_5608\\149931291.py:43: FutureWarning: The frame.append method is deprecated and will be removed from pandas in a future version. Use pandas.concat instead.\n",
      "  group1_matched = group1_matched.append(s)\n",
      "C:\\Users\\MohanadArafe\\AppData\\Local\\Temp\\ipykernel_5608\\149931291.py:44: FutureWarning: The frame.append method is deprecated and will be removed from pandas in a future version. Use pandas.concat instead.\n",
      "  group2_matched = group2_matched.append(t)\n",
      "C:\\Users\\MohanadArafe\\AppData\\Local\\Temp\\ipykernel_5608\\149931291.py:43: FutureWarning: The frame.append method is deprecated and will be removed from pandas in a future version. Use pandas.concat instead.\n",
      "  group1_matched = group1_matched.append(s)\n",
      "C:\\Users\\MohanadArafe\\AppData\\Local\\Temp\\ipykernel_5608\\149931291.py:44: FutureWarning: The frame.append method is deprecated and will be removed from pandas in a future version. Use pandas.concat instead.\n",
      "  group2_matched = group2_matched.append(t)\n",
      "C:\\Users\\MohanadArafe\\AppData\\Local\\Temp\\ipykernel_5608\\149931291.py:43: FutureWarning: The frame.append method is deprecated and will be removed from pandas in a future version. Use pandas.concat instead.\n",
      "  group1_matched = group1_matched.append(s)\n",
      "C:\\Users\\MohanadArafe\\AppData\\Local\\Temp\\ipykernel_5608\\149931291.py:44: FutureWarning: The frame.append method is deprecated and will be removed from pandas in a future version. Use pandas.concat instead.\n",
      "  group2_matched = group2_matched.append(t)\n",
      "C:\\Users\\MohanadArafe\\AppData\\Local\\Temp\\ipykernel_5608\\149931291.py:43: FutureWarning: The frame.append method is deprecated and will be removed from pandas in a future version. Use pandas.concat instead.\n",
      "  group1_matched = group1_matched.append(s)\n",
      "C:\\Users\\MohanadArafe\\AppData\\Local\\Temp\\ipykernel_5608\\149931291.py:44: FutureWarning: The frame.append method is deprecated and will be removed from pandas in a future version. Use pandas.concat instead.\n",
      "  group2_matched = group2_matched.append(t)\n",
      "C:\\Users\\MohanadArafe\\AppData\\Local\\Temp\\ipykernel_5608\\149931291.py:43: FutureWarning: The frame.append method is deprecated and will be removed from pandas in a future version. Use pandas.concat instead.\n",
      "  group1_matched = group1_matched.append(s)\n",
      "C:\\Users\\MohanadArafe\\AppData\\Local\\Temp\\ipykernel_5608\\149931291.py:44: FutureWarning: The frame.append method is deprecated and will be removed from pandas in a future version. Use pandas.concat instead.\n",
      "  group2_matched = group2_matched.append(t)\n",
      "C:\\Users\\MohanadArafe\\AppData\\Local\\Temp\\ipykernel_5608\\149931291.py:43: FutureWarning: The frame.append method is deprecated and will be removed from pandas in a future version. Use pandas.concat instead.\n",
      "  group1_matched = group1_matched.append(s)\n",
      "C:\\Users\\MohanadArafe\\AppData\\Local\\Temp\\ipykernel_5608\\149931291.py:44: FutureWarning: The frame.append method is deprecated and will be removed from pandas in a future version. Use pandas.concat instead.\n",
      "  group2_matched = group2_matched.append(t)\n",
      "C:\\Users\\MohanadArafe\\AppData\\Local\\Temp\\ipykernel_5608\\149931291.py:43: FutureWarning: The frame.append method is deprecated and will be removed from pandas in a future version. Use pandas.concat instead.\n",
      "  group1_matched = group1_matched.append(s)\n",
      "C:\\Users\\MohanadArafe\\AppData\\Local\\Temp\\ipykernel_5608\\149931291.py:44: FutureWarning: The frame.append method is deprecated and will be removed from pandas in a future version. Use pandas.concat instead.\n",
      "  group2_matched = group2_matched.append(t)\n",
      "C:\\Users\\MohanadArafe\\AppData\\Local\\Temp\\ipykernel_5608\\149931291.py:43: FutureWarning: The frame.append method is deprecated and will be removed from pandas in a future version. Use pandas.concat instead.\n",
      "  group1_matched = group1_matched.append(s)\n",
      "C:\\Users\\MohanadArafe\\AppData\\Local\\Temp\\ipykernel_5608\\149931291.py:44: FutureWarning: The frame.append method is deprecated and will be removed from pandas in a future version. Use pandas.concat instead.\n",
      "  group2_matched = group2_matched.append(t)\n",
      "C:\\Users\\MohanadArafe\\AppData\\Local\\Temp\\ipykernel_5608\\149931291.py:43: FutureWarning: The frame.append method is deprecated and will be removed from pandas in a future version. Use pandas.concat instead.\n",
      "  group1_matched = group1_matched.append(s)\n",
      "C:\\Users\\MohanadArafe\\AppData\\Local\\Temp\\ipykernel_5608\\149931291.py:44: FutureWarning: The frame.append method is deprecated and will be removed from pandas in a future version. Use pandas.concat instead.\n",
      "  group2_matched = group2_matched.append(t)\n",
      "C:\\Users\\MohanadArafe\\AppData\\Local\\Temp\\ipykernel_5608\\149931291.py:43: FutureWarning: The frame.append method is deprecated and will be removed from pandas in a future version. Use pandas.concat instead.\n",
      "  group1_matched = group1_matched.append(s)\n",
      "C:\\Users\\MohanadArafe\\AppData\\Local\\Temp\\ipykernel_5608\\149931291.py:44: FutureWarning: The frame.append method is deprecated and will be removed from pandas in a future version. Use pandas.concat instead.\n",
      "  group2_matched = group2_matched.append(t)\n",
      "C:\\Users\\MohanadArafe\\AppData\\Local\\Temp\\ipykernel_5608\\149931291.py:43: FutureWarning: The frame.append method is deprecated and will be removed from pandas in a future version. Use pandas.concat instead.\n",
      "  group1_matched = group1_matched.append(s)\n",
      "C:\\Users\\MohanadArafe\\AppData\\Local\\Temp\\ipykernel_5608\\149931291.py:44: FutureWarning: The frame.append method is deprecated and will be removed from pandas in a future version. Use pandas.concat instead.\n",
      "  group2_matched = group2_matched.append(t)\n",
      "C:\\Users\\MohanadArafe\\AppData\\Local\\Temp\\ipykernel_5608\\149931291.py:43: FutureWarning: The frame.append method is deprecated and will be removed from pandas in a future version. Use pandas.concat instead.\n",
      "  group1_matched = group1_matched.append(s)\n",
      "C:\\Users\\MohanadArafe\\AppData\\Local\\Temp\\ipykernel_5608\\149931291.py:44: FutureWarning: The frame.append method is deprecated and will be removed from pandas in a future version. Use pandas.concat instead.\n",
      "  group2_matched = group2_matched.append(t)\n",
      "C:\\Users\\MohanadArafe\\AppData\\Local\\Temp\\ipykernel_5608\\149931291.py:43: FutureWarning: The frame.append method is deprecated and will be removed from pandas in a future version. Use pandas.concat instead.\n",
      "  group1_matched = group1_matched.append(s)\n",
      "C:\\Users\\MohanadArafe\\AppData\\Local\\Temp\\ipykernel_5608\\149931291.py:44: FutureWarning: The frame.append method is deprecated and will be removed from pandas in a future version. Use pandas.concat instead.\n",
      "  group2_matched = group2_matched.append(t)\n",
      "C:\\Users\\MohanadArafe\\AppData\\Local\\Temp\\ipykernel_5608\\149931291.py:43: FutureWarning: The frame.append method is deprecated and will be removed from pandas in a future version. Use pandas.concat instead.\n",
      "  group1_matched = group1_matched.append(s)\n",
      "C:\\Users\\MohanadArafe\\AppData\\Local\\Temp\\ipykernel_5608\\149931291.py:44: FutureWarning: The frame.append method is deprecated and will be removed from pandas in a future version. Use pandas.concat instead.\n",
      "  group2_matched = group2_matched.append(t)\n",
      "C:\\Users\\MohanadArafe\\AppData\\Local\\Temp\\ipykernel_5608\\149931291.py:43: FutureWarning: The frame.append method is deprecated and will be removed from pandas in a future version. Use pandas.concat instead.\n",
      "  group1_matched = group1_matched.append(s)\n",
      "C:\\Users\\MohanadArafe\\AppData\\Local\\Temp\\ipykernel_5608\\149931291.py:44: FutureWarning: The frame.append method is deprecated and will be removed from pandas in a future version. Use pandas.concat instead.\n",
      "  group2_matched = group2_matched.append(t)\n",
      "C:\\Users\\MohanadArafe\\AppData\\Local\\Temp\\ipykernel_5608\\149931291.py:43: FutureWarning: The frame.append method is deprecated and will be removed from pandas in a future version. Use pandas.concat instead.\n",
      "  group1_matched = group1_matched.append(s)\n",
      "C:\\Users\\MohanadArafe\\AppData\\Local\\Temp\\ipykernel_5608\\149931291.py:44: FutureWarning: The frame.append method is deprecated and will be removed from pandas in a future version. Use pandas.concat instead.\n",
      "  group2_matched = group2_matched.append(t)\n",
      "C:\\Users\\MohanadArafe\\AppData\\Local\\Temp\\ipykernel_5608\\149931291.py:43: FutureWarning: The frame.append method is deprecated and will be removed from pandas in a future version. Use pandas.concat instead.\n",
      "  group1_matched = group1_matched.append(s)\n",
      "C:\\Users\\MohanadArafe\\AppData\\Local\\Temp\\ipykernel_5608\\149931291.py:44: FutureWarning: The frame.append method is deprecated and will be removed from pandas in a future version. Use pandas.concat instead.\n",
      "  group2_matched = group2_matched.append(t)\n",
      "C:\\Users\\MohanadArafe\\AppData\\Local\\Temp\\ipykernel_5608\\149931291.py:43: FutureWarning: The frame.append method is deprecated and will be removed from pandas in a future version. Use pandas.concat instead.\n",
      "  group1_matched = group1_matched.append(s)\n",
      "C:\\Users\\MohanadArafe\\AppData\\Local\\Temp\\ipykernel_5608\\149931291.py:44: FutureWarning: The frame.append method is deprecated and will be removed from pandas in a future version. Use pandas.concat instead.\n",
      "  group2_matched = group2_matched.append(t)\n"
     ]
    },
    {
     "name": "stderr",
     "output_type": "stream",
     "text": [
      "C:\\Users\\MohanadArafe\\AppData\\Local\\Temp\\ipykernel_5608\\149931291.py:43: FutureWarning: The frame.append method is deprecated and will be removed from pandas in a future version. Use pandas.concat instead.\n",
      "  group1_matched = group1_matched.append(s)\n",
      "C:\\Users\\MohanadArafe\\AppData\\Local\\Temp\\ipykernel_5608\\149931291.py:44: FutureWarning: The frame.append method is deprecated and will be removed from pandas in a future version. Use pandas.concat instead.\n",
      "  group2_matched = group2_matched.append(t)\n",
      "C:\\Users\\MohanadArafe\\AppData\\Local\\Temp\\ipykernel_5608\\149931291.py:43: FutureWarning: The frame.append method is deprecated and will be removed from pandas in a future version. Use pandas.concat instead.\n",
      "  group1_matched = group1_matched.append(s)\n",
      "C:\\Users\\MohanadArafe\\AppData\\Local\\Temp\\ipykernel_5608\\149931291.py:44: FutureWarning: The frame.append method is deprecated and will be removed from pandas in a future version. Use pandas.concat instead.\n",
      "  group2_matched = group2_matched.append(t)\n",
      "C:\\Users\\MohanadArafe\\AppData\\Local\\Temp\\ipykernel_5608\\149931291.py:43: FutureWarning: The frame.append method is deprecated and will be removed from pandas in a future version. Use pandas.concat instead.\n",
      "  group1_matched = group1_matched.append(s)\n",
      "C:\\Users\\MohanadArafe\\AppData\\Local\\Temp\\ipykernel_5608\\149931291.py:44: FutureWarning: The frame.append method is deprecated and will be removed from pandas in a future version. Use pandas.concat instead.\n",
      "  group2_matched = group2_matched.append(t)\n",
      "C:\\Users\\MohanadArafe\\AppData\\Local\\Temp\\ipykernel_5608\\149931291.py:43: FutureWarning: The frame.append method is deprecated and will be removed from pandas in a future version. Use pandas.concat instead.\n",
      "  group1_matched = group1_matched.append(s)\n",
      "C:\\Users\\MohanadArafe\\AppData\\Local\\Temp\\ipykernel_5608\\149931291.py:44: FutureWarning: The frame.append method is deprecated and will be removed from pandas in a future version. Use pandas.concat instead.\n",
      "  group2_matched = group2_matched.append(t)\n",
      "C:\\Users\\MohanadArafe\\AppData\\Local\\Temp\\ipykernel_5608\\149931291.py:43: FutureWarning: The frame.append method is deprecated and will be removed from pandas in a future version. Use pandas.concat instead.\n",
      "  group1_matched = group1_matched.append(s)\n",
      "C:\\Users\\MohanadArafe\\AppData\\Local\\Temp\\ipykernel_5608\\149931291.py:44: FutureWarning: The frame.append method is deprecated and will be removed from pandas in a future version. Use pandas.concat instead.\n",
      "  group2_matched = group2_matched.append(t)\n",
      "C:\\Users\\MohanadArafe\\AppData\\Local\\Temp\\ipykernel_5608\\149931291.py:43: FutureWarning: The frame.append method is deprecated and will be removed from pandas in a future version. Use pandas.concat instead.\n",
      "  group1_matched = group1_matched.append(s)\n",
      "C:\\Users\\MohanadArafe\\AppData\\Local\\Temp\\ipykernel_5608\\149931291.py:44: FutureWarning: The frame.append method is deprecated and will be removed from pandas in a future version. Use pandas.concat instead.\n",
      "  group2_matched = group2_matched.append(t)\n",
      "C:\\Users\\MohanadArafe\\AppData\\Local\\Temp\\ipykernel_5608\\149931291.py:43: FutureWarning: The frame.append method is deprecated and will be removed from pandas in a future version. Use pandas.concat instead.\n",
      "  group1_matched = group1_matched.append(s)\n",
      "C:\\Users\\MohanadArafe\\AppData\\Local\\Temp\\ipykernel_5608\\149931291.py:44: FutureWarning: The frame.append method is deprecated and will be removed from pandas in a future version. Use pandas.concat instead.\n",
      "  group2_matched = group2_matched.append(t)\n",
      "C:\\Users\\MohanadArafe\\AppData\\Local\\Temp\\ipykernel_5608\\149931291.py:43: FutureWarning: The frame.append method is deprecated and will be removed from pandas in a future version. Use pandas.concat instead.\n",
      "  group1_matched = group1_matched.append(s)\n",
      "C:\\Users\\MohanadArafe\\AppData\\Local\\Temp\\ipykernel_5608\\149931291.py:44: FutureWarning: The frame.append method is deprecated and will be removed from pandas in a future version. Use pandas.concat instead.\n",
      "  group2_matched = group2_matched.append(t)\n",
      "C:\\Users\\MohanadArafe\\AppData\\Local\\Temp\\ipykernel_5608\\149931291.py:43: FutureWarning: The frame.append method is deprecated and will be removed from pandas in a future version. Use pandas.concat instead.\n",
      "  group1_matched = group1_matched.append(s)\n",
      "C:\\Users\\MohanadArafe\\AppData\\Local\\Temp\\ipykernel_5608\\149931291.py:44: FutureWarning: The frame.append method is deprecated and will be removed from pandas in a future version. Use pandas.concat instead.\n",
      "  group2_matched = group2_matched.append(t)\n",
      "C:\\Users\\MohanadArafe\\AppData\\Local\\Temp\\ipykernel_5608\\149931291.py:43: FutureWarning: The frame.append method is deprecated and will be removed from pandas in a future version. Use pandas.concat instead.\n",
      "  group1_matched = group1_matched.append(s)\n",
      "C:\\Users\\MohanadArafe\\AppData\\Local\\Temp\\ipykernel_5608\\149931291.py:44: FutureWarning: The frame.append method is deprecated and will be removed from pandas in a future version. Use pandas.concat instead.\n",
      "  group2_matched = group2_matched.append(t)\n",
      "C:\\Users\\MohanadArafe\\AppData\\Local\\Temp\\ipykernel_5608\\149931291.py:43: FutureWarning: The frame.append method is deprecated and will be removed from pandas in a future version. Use pandas.concat instead.\n",
      "  group1_matched = group1_matched.append(s)\n",
      "C:\\Users\\MohanadArafe\\AppData\\Local\\Temp\\ipykernel_5608\\149931291.py:44: FutureWarning: The frame.append method is deprecated and will be removed from pandas in a future version. Use pandas.concat instead.\n",
      "  group2_matched = group2_matched.append(t)\n",
      "C:\\Users\\MohanadArafe\\AppData\\Local\\Temp\\ipykernel_5608\\149931291.py:43: FutureWarning: The frame.append method is deprecated and will be removed from pandas in a future version. Use pandas.concat instead.\n",
      "  group1_matched = group1_matched.append(s)\n",
      "C:\\Users\\MohanadArafe\\AppData\\Local\\Temp\\ipykernel_5608\\149931291.py:44: FutureWarning: The frame.append method is deprecated and will be removed from pandas in a future version. Use pandas.concat instead.\n",
      "  group2_matched = group2_matched.append(t)\n",
      "C:\\Users\\MohanadArafe\\AppData\\Local\\Temp\\ipykernel_5608\\149931291.py:43: FutureWarning: The frame.append method is deprecated and will be removed from pandas in a future version. Use pandas.concat instead.\n",
      "  group1_matched = group1_matched.append(s)\n",
      "C:\\Users\\MohanadArafe\\AppData\\Local\\Temp\\ipykernel_5608\\149931291.py:44: FutureWarning: The frame.append method is deprecated and will be removed from pandas in a future version. Use pandas.concat instead.\n",
      "  group2_matched = group2_matched.append(t)\n",
      "C:\\Users\\MohanadArafe\\AppData\\Local\\Temp\\ipykernel_5608\\149931291.py:43: FutureWarning: The frame.append method is deprecated and will be removed from pandas in a future version. Use pandas.concat instead.\n",
      "  group1_matched = group1_matched.append(s)\n",
      "C:\\Users\\MohanadArafe\\AppData\\Local\\Temp\\ipykernel_5608\\149931291.py:44: FutureWarning: The frame.append method is deprecated and will be removed from pandas in a future version. Use pandas.concat instead.\n",
      "  group2_matched = group2_matched.append(t)\n",
      "C:\\Users\\MohanadArafe\\AppData\\Local\\Temp\\ipykernel_5608\\149931291.py:43: FutureWarning: The frame.append method is deprecated and will be removed from pandas in a future version. Use pandas.concat instead.\n",
      "  group1_matched = group1_matched.append(s)\n",
      "C:\\Users\\MohanadArafe\\AppData\\Local\\Temp\\ipykernel_5608\\149931291.py:44: FutureWarning: The frame.append method is deprecated and will be removed from pandas in a future version. Use pandas.concat instead.\n",
      "  group2_matched = group2_matched.append(t)\n",
      "C:\\Users\\MohanadArafe\\AppData\\Local\\Temp\\ipykernel_5608\\149931291.py:43: FutureWarning: The frame.append method is deprecated and will be removed from pandas in a future version. Use pandas.concat instead.\n",
      "  group1_matched = group1_matched.append(s)\n",
      "C:\\Users\\MohanadArafe\\AppData\\Local\\Temp\\ipykernel_5608\\149931291.py:44: FutureWarning: The frame.append method is deprecated and will be removed from pandas in a future version. Use pandas.concat instead.\n",
      "  group2_matched = group2_matched.append(t)\n",
      "C:\\Users\\MohanadArafe\\AppData\\Local\\Temp\\ipykernel_5608\\149931291.py:43: FutureWarning: The frame.append method is deprecated and will be removed from pandas in a future version. Use pandas.concat instead.\n",
      "  group1_matched = group1_matched.append(s)\n",
      "C:\\Users\\MohanadArafe\\AppData\\Local\\Temp\\ipykernel_5608\\149931291.py:44: FutureWarning: The frame.append method is deprecated and will be removed from pandas in a future version. Use pandas.concat instead.\n",
      "  group2_matched = group2_matched.append(t)\n",
      "C:\\Users\\MohanadArafe\\AppData\\Local\\Temp\\ipykernel_5608\\149931291.py:43: FutureWarning: The frame.append method is deprecated and will be removed from pandas in a future version. Use pandas.concat instead.\n",
      "  group1_matched = group1_matched.append(s)\n",
      "C:\\Users\\MohanadArafe\\AppData\\Local\\Temp\\ipykernel_5608\\149931291.py:44: FutureWarning: The frame.append method is deprecated and will be removed from pandas in a future version. Use pandas.concat instead.\n",
      "  group2_matched = group2_matched.append(t)\n",
      "C:\\Users\\MohanadArafe\\AppData\\Local\\Temp\\ipykernel_5608\\149931291.py:43: FutureWarning: The frame.append method is deprecated and will be removed from pandas in a future version. Use pandas.concat instead.\n",
      "  group1_matched = group1_matched.append(s)\n",
      "C:\\Users\\MohanadArafe\\AppData\\Local\\Temp\\ipykernel_5608\\149931291.py:44: FutureWarning: The frame.append method is deprecated and will be removed from pandas in a future version. Use pandas.concat instead.\n",
      "  group2_matched = group2_matched.append(t)\n",
      "C:\\Users\\MohanadArafe\\AppData\\Local\\Temp\\ipykernel_5608\\149931291.py:43: FutureWarning: The frame.append method is deprecated and will be removed from pandas in a future version. Use pandas.concat instead.\n",
      "  group1_matched = group1_matched.append(s)\n",
      "C:\\Users\\MohanadArafe\\AppData\\Local\\Temp\\ipykernel_5608\\149931291.py:44: FutureWarning: The frame.append method is deprecated and will be removed from pandas in a future version. Use pandas.concat instead.\n",
      "  group2_matched = group2_matched.append(t)\n",
      "C:\\Users\\MohanadArafe\\AppData\\Local\\Temp\\ipykernel_5608\\149931291.py:43: FutureWarning: The frame.append method is deprecated and will be removed from pandas in a future version. Use pandas.concat instead.\n",
      "  group1_matched = group1_matched.append(s)\n",
      "C:\\Users\\MohanadArafe\\AppData\\Local\\Temp\\ipykernel_5608\\149931291.py:44: FutureWarning: The frame.append method is deprecated and will be removed from pandas in a future version. Use pandas.concat instead.\n",
      "  group2_matched = group2_matched.append(t)\n",
      "C:\\Users\\MohanadArafe\\AppData\\Local\\Temp\\ipykernel_5608\\149931291.py:43: FutureWarning: The frame.append method is deprecated and will be removed from pandas in a future version. Use pandas.concat instead.\n",
      "  group1_matched = group1_matched.append(s)\n",
      "C:\\Users\\MohanadArafe\\AppData\\Local\\Temp\\ipykernel_5608\\149931291.py:44: FutureWarning: The frame.append method is deprecated and will be removed from pandas in a future version. Use pandas.concat instead.\n",
      "  group2_matched = group2_matched.append(t)\n",
      "C:\\Users\\MohanadArafe\\AppData\\Local\\Temp\\ipykernel_5608\\149931291.py:43: FutureWarning: The frame.append method is deprecated and will be removed from pandas in a future version. Use pandas.concat instead.\n",
      "  group1_matched = group1_matched.append(s)\n",
      "C:\\Users\\MohanadArafe\\AppData\\Local\\Temp\\ipykernel_5608\\149931291.py:44: FutureWarning: The frame.append method is deprecated and will be removed from pandas in a future version. Use pandas.concat instead.\n",
      "  group2_matched = group2_matched.append(t)\n",
      "C:\\Users\\MohanadArafe\\AppData\\Local\\Temp\\ipykernel_5608\\149931291.py:43: FutureWarning: The frame.append method is deprecated and will be removed from pandas in a future version. Use pandas.concat instead.\n",
      "  group1_matched = group1_matched.append(s)\n",
      "C:\\Users\\MohanadArafe\\AppData\\Local\\Temp\\ipykernel_5608\\149931291.py:44: FutureWarning: The frame.append method is deprecated and will be removed from pandas in a future version. Use pandas.concat instead.\n",
      "  group2_matched = group2_matched.append(t)\n",
      "C:\\Users\\MohanadArafe\\AppData\\Local\\Temp\\ipykernel_5608\\149931291.py:43: FutureWarning: The frame.append method is deprecated and will be removed from pandas in a future version. Use pandas.concat instead.\n",
      "  group1_matched = group1_matched.append(s)\n",
      "C:\\Users\\MohanadArafe\\AppData\\Local\\Temp\\ipykernel_5608\\149931291.py:44: FutureWarning: The frame.append method is deprecated and will be removed from pandas in a future version. Use pandas.concat instead.\n",
      "  group2_matched = group2_matched.append(t)\n"
     ]
    },
    {
     "name": "stderr",
     "output_type": "stream",
     "text": [
      "C:\\Users\\MohanadArafe\\AppData\\Local\\Temp\\ipykernel_5608\\149931291.py:43: FutureWarning: The frame.append method is deprecated and will be removed from pandas in a future version. Use pandas.concat instead.\n",
      "  group1_matched = group1_matched.append(s)\n",
      "C:\\Users\\MohanadArafe\\AppData\\Local\\Temp\\ipykernel_5608\\149931291.py:44: FutureWarning: The frame.append method is deprecated and will be removed from pandas in a future version. Use pandas.concat instead.\n",
      "  group2_matched = group2_matched.append(t)\n",
      "C:\\Users\\MohanadArafe\\AppData\\Local\\Temp\\ipykernel_5608\\149931291.py:43: FutureWarning: The frame.append method is deprecated and will be removed from pandas in a future version. Use pandas.concat instead.\n",
      "  group1_matched = group1_matched.append(s)\n",
      "C:\\Users\\MohanadArafe\\AppData\\Local\\Temp\\ipykernel_5608\\149931291.py:44: FutureWarning: The frame.append method is deprecated and will be removed from pandas in a future version. Use pandas.concat instead.\n",
      "  group2_matched = group2_matched.append(t)\n",
      "C:\\Users\\MohanadArafe\\AppData\\Local\\Temp\\ipykernel_5608\\149931291.py:43: FutureWarning: The frame.append method is deprecated and will be removed from pandas in a future version. Use pandas.concat instead.\n",
      "  group1_matched = group1_matched.append(s)\n",
      "C:\\Users\\MohanadArafe\\AppData\\Local\\Temp\\ipykernel_5608\\149931291.py:44: FutureWarning: The frame.append method is deprecated and will be removed from pandas in a future version. Use pandas.concat instead.\n",
      "  group2_matched = group2_matched.append(t)\n",
      "C:\\Users\\MohanadArafe\\AppData\\Local\\Temp\\ipykernel_5608\\149931291.py:43: FutureWarning: The frame.append method is deprecated and will be removed from pandas in a future version. Use pandas.concat instead.\n",
      "  group1_matched = group1_matched.append(s)\n",
      "C:\\Users\\MohanadArafe\\AppData\\Local\\Temp\\ipykernel_5608\\149931291.py:44: FutureWarning: The frame.append method is deprecated and will be removed from pandas in a future version. Use pandas.concat instead.\n",
      "  group2_matched = group2_matched.append(t)\n"
     ]
    }
   ],
   "source": [
    "def nn(x, df, matched_vars):\n",
    "    '''\n",
    "    Find index of nearest neighbor of x in df\n",
    "    '''\n",
    "    \n",
    "    # Select only the subjects with the same H&Y score\n",
    "    df_hy_match = df[df['NHY_x'] == x['NHY_x'].values[0]]\n",
    " \n",
    "    # Compute squared distance between x and all elements in df, using normalized variables\n",
    "    df_hy_match['dist'] = sum((df_hy_match[f'{var}']-x[f'{var}'].values[0])**2 for var in matched_vars)\n",
    "    \n",
    "    # Return the element in df with the smallest distance\n",
    "    df_hy_match.sort_values('dist', inplace=True)\n",
    "    return df_hy_match.head(1)  ## there's probably a better way to do it but it should work\n",
    "\n",
    "def match(n, group1_df, group2_df, matched_vars):\n",
    "    '''\n",
    "    Randomly pick n elements in group1_df, then find n matching elements in group2_df.\n",
    "    Ensure that each group only contains 1 or less element from each patient and that \n",
    "    no patient has elements in both groups.\n",
    "    '''\n",
    "    \n",
    "    from numpy.random import choice, seed\n",
    "\n",
    "    # Select n random patients in group1\n",
    "    group1_patnos = sorted(pd.unique(group1_df['PATNO']))\n",
    "    seed(0)  # change this to bootstrap population\n",
    "    group1_patnos_sample = choice(group1_patnos, n, replace=False)\n",
    "    \n",
    "    # Remove the selected patients from group2\n",
    "    for p in group1_patnos_sample:\n",
    "        group2_df = group2_df[group2_df['PATNO']!=p]\n",
    "    \n",
    "    group1_matched = pd.DataFrame(columns=group1_df.columns)\n",
    "    group2_matched = pd.DataFrame(columns=group1_df.columns)\n",
    "\n",
    "    for p in group1_patnos_sample:  # for each patient in sampled list\n",
    "        # Pick a random element from this patient in group1\n",
    "        s = group1_df[group1_df['PATNO'] == p].sample(1)\n",
    "        # Find the best match in group2\n",
    "        t = nn(s, group2_df, matched_vars)\n",
    "        # Add s and t to matched groups\n",
    "        group1_matched = group1_matched.append(s)\n",
    "        group2_matched = group2_matched.append(t)\n",
    "        # Remove t's patient from group 2 so that it doesn't get selected again\n",
    "        group2_df = group2_df[group2_df['PATNO']!=t['PATNO'].values[0]]\n",
    "    \n",
    "    return group1_matched, group2_matched\n",
    "\n",
    "matched_vars = ['AGE_AT_VISIT_norm', 'SEX']\n",
    "\n",
    "        \n",
    "# # Apply matching to get 47 patients with H&Y=1\n",
    "stable1, progr1 = match(29,\n",
    "                        df[(df['stable'] == True) & (df['NHY_x'] == \"1\")],\n",
    "                        df[(df['stable'] == False) & (df['NHY_x'] == \"1\")],\n",
    "                        matched_vars)\n",
    "patids = pd.unique(pd.concat([stable1, progr1], axis=0)[\"PATNO\"])\n",
    "df_filtered = df[~df['PATNO'].isin(patids)]\n",
    "\n",
    "# # Apply matching to get 25 patients with H&Y=2\n",
    "stable2, progr2 = match(43,\n",
    "                        df_filtered[(df_filtered['stable'] == True) & (df_filtered['NHY_x'] == \"2\")],\n",
    "                        df_filtered[(df_filtered['stable'] == False) & (df_filtered['NHY_x'] == \"2\")],\n",
    "                        matched_vars)\n"
   ]
  },
  {
   "cell_type": "code",
   "execution_count": 29,
   "metadata": {},
   "outputs": [
    {
     "name": "stderr",
     "output_type": "stream",
     "text": [
      "C:\\Users\\MohanadArafe\\AppData\\Local\\Temp\\ipykernel_5608\\2664523030.py:1: FutureWarning: The frame.append method is deprecated and will be removed from pandas in a future version. Use pandas.concat instead.\n",
      "  stable = stable1.append(stable2)\n",
      "C:\\Users\\MohanadArafe\\AppData\\Local\\Temp\\ipykernel_5608\\2664523030.py:2: FutureWarning: The frame.append method is deprecated and will be removed from pandas in a future version. Use pandas.concat instead.\n",
      "  progr = progr1.append(progr2)\n"
     ]
    }
   ],
   "source": [
    "stable = stable1.append(stable2)\n",
    "progr = progr1.append(progr2)"
   ]
  },
  {
   "cell_type": "markdown",
   "metadata": {},
   "source": [
    "## Sanity checks"
   ]
  },
  {
   "cell_type": "code",
   "execution_count": 30,
   "metadata": {},
   "outputs": [
    {
     "name": "stdout",
     "output_type": "stream",
     "text": [
      "All good!\n"
     ]
    }
   ],
   "source": [
    "for (a, b) in [(stable1, progr1), (stable2, progr2)]:\n",
    "    # Both groups have equal size\n",
    "    assert(len(a) == len(b))\n",
    "    # No patient is present more than once in each group\n",
    "    for x in [a, b]:\n",
    "        patnos_x = pd.unique(x['PATNO'])\n",
    "        assert(len(patnos_x)==len(x)), x\n",
    "    # Patients in a aren't in b\n",
    "    patnos_a = pd.unique(a['PATNO'])\n",
    "    patnos_b = pd.unique(b['PATNO'])\n",
    "    for p in patnos_a:\n",
    "        assert(p not in patnos_b), f'PATNO {p} appears in a and b'\n",
    "        \n",
    "# Patients in each cohort do not replicate\n",
    "assert len(set(pd.unique(progr[\"PATNO\"])) & (set(pd.unique(stable[\"PATNO\"]))))==0, \"Patients occur in both groups\"\n",
    "\n",
    "print('All good!')"
   ]
  },
  {
   "cell_type": "markdown",
   "metadata": {},
   "source": [
    "## Cohort summary"
   ]
  },
  {
   "cell_type": "code",
   "execution_count": 31,
   "metadata": {},
   "outputs": [
    {
     "name": "stdout",
     "output_type": "stream",
     "text": [
      "\t\t\t\t\t| Stable set (n=72)\t| Progression set (n=72)\r\n",
      "Age (years) \t\t\t\t| 61.32 \t\t| 61.25\r\n",
      "Gender [male (n)] \t\t\t| 45 \t\t\t| 45\r\n",
      "Hoehn & Yahr (n) \t Stage 1 \t| 29 \t\t\t| 29\r\n",
      "\t\t\t Stage 2 \t| 43 \t\t\t| 43\r\n",
      "\t\t\t Stage 3 \t| 0 \t\t\t| 0\n"
     ]
    }
   ],
   "source": [
    "import os\n",
    "print(f\"\\t\\t\\t\\t\\t| Stable set (n={len(stable)})\\t| Progression set (n={len(progr)})\" + os.linesep +\n",
    "       f\"Age (years) \\t\\t\\t\\t| {round(stable['AGE_AT_VISIT'].mean(),2)} \\t\\t| {round(progr['AGE_AT_VISIT'].mean(),2)}\" + os.linesep + \n",
    "       f\"Gender [male (n)] \\t\\t\\t| {len(stable[stable['SEX']==1])} \\t\\t\\t| {len(progr[progr['SEX']==1])}\" + os.linesep +\n",
    "       f\"Hoehn & Yahr (n) \\t Stage 1 \\t| {len(stable[stable['NHY_x']=='1'])} \\t\\t\\t| {len(progr[progr['NHY_x']=='1'])}\" + os.linesep +\n",
    "       f\"\\t\\t\\t Stage 2 \\t| {len(stable[stable['NHY_x']=='2'])} \\t\\t\\t| {len(progr[progr['NHY_x']=='2'])}\" + os.linesep +\n",
    "       f\"\\t\\t\\t Stage 3 \\t| {len(stable[stable['NHY_x']=='3'])} \\t\\t\\t| {len(progr[progr['NHY_x']=='3'])}\"\n",
    "\n",
    ")"
   ]
  },
  {
   "cell_type": "code",
   "execution_count": 32,
   "metadata": {},
   "outputs": [
    {
     "data": {
      "text/plain": [
       "<AxesSubplot:>"
      ]
     },
     "execution_count": 32,
     "metadata": {},
     "output_type": "execute_result"
    },
    {
     "data": {
      "image/png": "[encoded data removed]",
      "text/plain": [
       "<Figure size 432x288 with 1 Axes>"
      ]
     },
     "metadata": {
      "needs_background": "light"
     },
     "output_type": "display_data"
    }
   ],
   "source": [
    "stable['EVENT_ID_x'].hist()"
   ]
  },
  {
   "cell_type": "code",
   "execution_count": 33,
   "metadata": {},
   "outputs": [
    {
     "data": {
      "text/plain": [
       "<AxesSubplot:>"
      ]
     },
     "execution_count": 33,
     "metadata": {},
     "output_type": "execute_result"
    },
    {
     "data": {
      "image/png": "[encoded data removed]",
      "text/plain": [
       "<Figure size 432x288 with 1 Axes>"
      ]
     },
     "metadata": {
      "needs_background": "light"
     },
     "output_type": "display_data"
    }
   ],
   "source": [
    "progr['EVENT_ID_x'].hist()"
   ]
  },
  {
   "cell_type": "markdown",
   "metadata": {},
   "source": [
    "### Patients breakdown"
   ]
  },
  {
   "cell_type": "code",
   "execution_count": 34,
   "metadata": {},
   "outputs": [
    {
     "name": "stdout",
     "output_type": "stream",
     "text": [
      "FOR VISIT: BL - 51 patients\n",
      "3173,3832,3960,3430,3421,4096,51440,4117,3431,3838,3130,3420,52530,3322,3824,3419,3327,3961,3061,3661,3429,4076,3116,3089,3436,3088,4102,41829,41420,3653,3018,4101,4098,55875,3285,40585,3577,4126,3254,3564,3575,3433,3528,3028,4077,3068,40714,3501,4108,40744,3504\n",
      "FOR VISIT: V06 - 5 patients\n",
      "3308,40366,41664,3124,3586\n",
      "FOR VISIT: V04 - 11 patients\n",
      "3328,3808,3815,3307,3819,3175,3834,3166,3585,3181,4019\n",
      "FOR VISIT: V10 - 5 patients\n",
      "3822,3325,4029,3127,3826\n"
     ]
    }
   ],
   "source": [
    "for visit in stable[\"EVENT_ID_x\"].unique():\n",
    "    print(f\"FOR VISIT: {visit} - {len(stable[stable['EVENT_ID_x'] == visit]['PATNO'].values)} patients\")\n",
    "    print(','.join(map(str, stable[stable[\"EVENT_ID_x\"] == visit][\"PATNO\"].values)))"
   ]
  },
  {
   "cell_type": "code",
   "execution_count": 35,
   "metadata": {},
   "outputs": [
    {
     "name": "stdout",
     "output_type": "stream",
     "text": [
      "FOR VISIT: BL - 55 patients\n",
      "4054,3111,3024,3272,3108,4055,3167,3123,3664,75505,3825,3269,137426,3634,3174,115448,124793,3309,3593,3829,3185,3869,3184,4051,102003,3630,3407,101295,71935,3387,4035,140041,102479,3609,4078,3530,3762,4070,3012,3633,3764,3014,4136,3020,121619,3080,3179,120544,41749,3383,3314,3010,3007,3251,3366\n",
      "FOR VISIT: V04 - 7 patients\n",
      "3752,4082,3375,3360,3352,4034,4030\n",
      "FOR VISIT: V06 - 5 patients\n",
      "4081,40534,3558,3557,52678\n",
      "FOR VISIT: V10 - 5 patients\n",
      "56744,53339,51632,40735,41438\n"
     ]
    }
   ],
   "source": [
    "for visit in progr[\"EVENT_ID_x\"].unique():\n",
    "    print(f\"FOR VISIT: {visit} - {len(progr[progr['EVENT_ID_x'] == visit]['PATNO'].values)} patients\")\n",
    "    print(','.join(map(str, progr[progr[\"EVENT_ID_x\"] == visit][\"PATNO\"].values)) )"
   ]
  },
  {
   "cell_type": "code",
   "execution_count": 36,
   "metadata": {},
   "outputs": [
    {
     "data": {
      "text/plain": [
       "array([3173, 3832, 3960, 3430, 3421, 4096, 51440, 4117, 3308, 3431, 3328,\n",
       "       3808, 3838, 3815, 3130, 3420, 52530, 3322, 3307, 3819, 3824, 3419,\n",
       "       3327, 3961, 3175, 3061, 3834, 3661, 3429, 4076, 40366, 3116, 3822,\n",
       "       3089, 3436, 3166, 3088, 3585, 4102, 41829, 41420, 3325, 3653, 3018,\n",
       "       4101, 4098, 3181, 55875, 3285, 4029, 40585, 3577, 3127, 4126,\n",
       "       41664, 3124, 4019, 3826, 3254, 3564, 3586, 3575, 3433, 3528, 3028,\n",
       "       4077, 3068, 40714, 3501, 4108, 40744, 3504], dtype=object)"
      ]
     },
     "execution_count": 36,
     "metadata": {},
     "output_type": "execute_result"
    }
   ],
   "source": [
    "stable[\"PATNO\"].values"
   ]
  },
  {
   "cell_type": "code",
   "execution_count": 37,
   "metadata": {},
   "outputs": [
    {
     "data": {
      "text/plain": [
       "array([4054, 3111, 3024, 3752, 3272, 3108, 4055, 3167, 3123, 3664, 75505,\n",
       "       3825, 3269, 137426, 3634, 3174, 115448, 124793, 4082, 3309, 3593,\n",
       "       3829, 3185, 3869, 3184, 4051, 102003, 3630, 3407, 4081, 101295,\n",
       "       71935, 56744, 3387, 3375, 4035, 140041, 102479, 3609, 4078, 3530,\n",
       "       3762, 4070, 53339, 51632, 3012, 3633, 40735, 3360, 3352, 3764,\n",
       "       3014, 41438, 4136, 3020, 121619, 4034, 3080, 3179, 40534, 3558,\n",
       "       3557, 120544, 41749, 4030, 3383, 52678, 3314, 3010, 3007, 3251,\n",
       "       3366], dtype=object)"
      ]
     },
     "execution_count": 37,
     "metadata": {},
     "output_type": "execute_result"
    }
   ],
   "source": [
    "progr[\"PATNO\"].values"
   ]
  },
  {
   "cell_type": "code",
   "execution_count": 51,
   "metadata": {},
   "outputs": [
    {
     "data": {
      "text/plain": [
       "144"
      ]
     },
     "execution_count": 51,
     "metadata": {},
     "output_type": "execute_result"
    }
   ],
   "source": [
    "len(set(np.concatenate((progr[\"PATNO\"].values, stable[\"PATNO\"].values))).intersection(set(pd.read_csv(\"../data/volume-data/freeSurferVolumes.csv\")[\"subjectId\"])))"
   ]
  },
  {
   "cell_type": "markdown",
   "metadata": {},
   "source": [
    "visits = {'BL': 'V08', \n",
    "          'V04': 'Month 12',\n",
    "          'V06': 'Month 24',\n",
    "          'V08': 'Month 36',\n",
    "          'V10': 'Month 48'}"
   ]
  }
 ],
 "metadata": {
  "kernelspec": {
   "display_name": "Python 3 (ipykernel)",
   "language": "python",
   "name": "python3"
  },
  "language_info": {
   "codemirror_mode": {
    "name": "ipython",
    "version": 3
   },
   "file_extension": ".py",
   "mimetype": "text/x-python",
   "name": "python",
   "nbconvert_exporter": "python",
   "pygments_lexer": "ipython3",
   "version": "3.10.4"
  },
  "toc": {
   "base_numbering": 1,
   "nav_menu": {},
   "number_sections": true,
   "sideBar": true,
   "skip_h1_title": false,
   "title_cell": "Table of Contents",
   "title_sidebar": "Contents",
   "toc_cell": false,
   "toc_position": {},
   "toc_section_display": true,
   "toc_window_display": false
  }
 },
 "nbformat": 4,
 "nbformat_minor": 4
}
