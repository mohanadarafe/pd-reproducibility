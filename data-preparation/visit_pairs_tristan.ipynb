{
 "cells": [
  {
   "cell_type": "markdown",
   "metadata": {},
   "source": [
    "# Initial study\n",
    "\n",
    "This notebook identifies PPMI subjects to reproduce the following paper:\n",
    "\n",
    "\n",
    "<div class=\"alert alert-block alert-success\">\n",
    "Shu, Zhen‐Yu, et al. <a href=\"https://onlinelibrary.wiley.com/doi/full/10.1002/mrm.28522?casa_token=Ab53WvMlODcAAAAA%3AXcgDLmq8egqW7uwd2g3jY9jIljhLu3VhIbvMWgbcfoWOxjO_9H7Arf91t2FBZDZ8E94Je4Wmrn0ZmkeZ\">Predicting the progression of Parkinson's disease using conventional MRI and machine learning: An application of radiomic biomarkers in whole‐brain white matter.</a> Magnetic Resonance in Medicine 85.3 (2021): 1611-1624.</div>"
   ]
  },
  {
   "cell_type": "markdown",
   "metadata": {},
   "source": [
    "This study used the following population from PPMI:\n",
    "<img src=\"../data/table.png\"/>"
   ]
  },
  {
   "cell_type": "markdown",
   "metadata": {},
   "source": [
    "Note: this notebook can be shared publicly. It is implemented to not leak any PPMI patient information or id."
   ]
  },
  {
   "cell_type": "markdown",
   "metadata": {},
   "source": [
    "# Data loading and preparation"
   ]
  },
  {
   "cell_type": "markdown",
   "metadata": {},
   "source": [
    "## Metadata download"
   ]
  },
  {
   "cell_type": "code",
   "execution_count": 1,
   "metadata": {},
   "outputs": [],
   "source": [
    "import os\n",
    "import ppmi_downloader\n",
    "\n",
    "data_dir = 'data'\n",
    "\n",
    "if not os.path.exists(data_dir):\n",
    "    os.makedirs(data_dir)\n",
    "required_files = ['Age_at_visit.csv', 'Demographics.csv',\n",
    "                  'Magnetic_Resonance_Imaging__MRI_.csv', 'MDS_UPDRS_Part_III.csv']\n",
    "missing_files = [x for x in required_files if not os.path.exists(os.path.join(data_dir, x))]\n",
    "\n",
    "if len(missing_files) > 0:\n",
    "    ppmi = ppmi_downloader.PPMIDownloader('ADD YOUR PPMI LOGIN', 'ADD YOUR PPMI PASSWORD')\n",
    "    ppmi.download_metadata(missing_files, destination_dir=data_dir, headless=False, timeout=600)\n"
   ]
  },
  {
   "cell_type": "markdown",
   "metadata": {},
   "source": [
    "## Hoehn & Yahr score"
   ]
  },
  {
   "cell_type": "code",
   "execution_count": 2,
   "metadata": {
    "scrolled": true
   },
   "outputs": [
    {
     "name": "stderr",
     "output_type": "stream",
     "text": [
      "/home/glatard/venvs/jupyter/lib/python3.8/site-packages/IPython/core/interactiveshell.py:3343: DtypeWarning: Columns (10,17,18,19,20) have mixed types.Specify dtype option on import or set low_memory=False.\n",
      "  exec(code_obj, self.user_global_ns, self.user_ns)\n"
     ]
    },
    {
     "data": {
      "text/html": [
       "<div>\n",
       "<style scoped>\n",
       "    .dataframe tbody tr th:only-of-type {\n",
       "        vertical-align: middle;\n",
       "    }\n",
       "\n",
       "    .dataframe tbody tr th {\n",
       "        vertical-align: top;\n",
       "    }\n",
       "\n",
       "    .dataframe thead th {\n",
       "        text-align: right;\n",
       "    }\n",
       "</style>\n",
       "<table border=\"1\" class=\"dataframe\">\n",
       "  <thead>\n",
       "    <tr style=\"text-align: right;\">\n",
       "      <th></th>\n",
       "      <th>PATNO</th>\n",
       "      <th>EVENT_ID</th>\n",
       "      <th>PDSTATE</th>\n",
       "      <th>PDTRTMNT</th>\n",
       "    </tr>\n",
       "    <tr>\n",
       "      <th>NHY</th>\n",
       "      <th></th>\n",
       "      <th></th>\n",
       "      <th></th>\n",
       "      <th></th>\n",
       "    </tr>\n",
       "  </thead>\n",
       "  <tbody>\n",
       "    <tr>\n",
       "      <th>0</th>\n",
       "      <td>4143</td>\n",
       "      <td>4143</td>\n",
       "      <td>24</td>\n",
       "      <td>4143</td>\n",
       "    </tr>\n",
       "    <tr>\n",
       "      <th>1</th>\n",
       "      <td>1634</td>\n",
       "      <td>1634</td>\n",
       "      <td>434</td>\n",
       "      <td>1631</td>\n",
       "    </tr>\n",
       "    <tr>\n",
       "      <th>2</th>\n",
       "      <td>4221</td>\n",
       "      <td>4221</td>\n",
       "      <td>2270</td>\n",
       "      <td>4218</td>\n",
       "    </tr>\n",
       "    <tr>\n",
       "      <th>3</th>\n",
       "      <td>363</td>\n",
       "      <td>363</td>\n",
       "      <td>285</td>\n",
       "      <td>363</td>\n",
       "    </tr>\n",
       "    <tr>\n",
       "      <th>4</th>\n",
       "      <td>54</td>\n",
       "      <td>54</td>\n",
       "      <td>47</td>\n",
       "      <td>54</td>\n",
       "    </tr>\n",
       "    <tr>\n",
       "      <th>5</th>\n",
       "      <td>21</td>\n",
       "      <td>21</td>\n",
       "      <td>19</td>\n",
       "      <td>21</td>\n",
       "    </tr>\n",
       "    <tr>\n",
       "      <th>UR</th>\n",
       "      <td>51</td>\n",
       "      <td>51</td>\n",
       "      <td>12</td>\n",
       "      <td>51</td>\n",
       "    </tr>\n",
       "    <tr>\n",
       "      <th>NaN</th>\n",
       "      <td>5</td>\n",
       "      <td>5</td>\n",
       "      <td>2</td>\n",
       "      <td>5</td>\n",
       "    </tr>\n",
       "  </tbody>\n",
       "</table>\n",
       "</div>"
      ],
      "text/plain": [
       "     PATNO  EVENT_ID  PDSTATE  PDTRTMNT\n",
       "NHY                                    \n",
       "0     4143      4143       24      4143\n",
       "1     1634      1634      434      1631\n",
       "2     4221      4221     2270      4218\n",
       "3      363       363      285       363\n",
       "4       54        54       47        54\n",
       "5       21        21       19        21\n",
       "UR      51        51       12        51\n",
       "NaN      5         5        2         5"
      ]
     },
     "execution_count": 2,
     "metadata": {},
     "output_type": "execute_result"
    }
   ],
   "source": [
    "import pandas as pd\n",
    "\n",
    "df_hy = pd.read_csv(os.path.join(data_dir, 'MDS_UPDRS_Part_III.csv'))\n",
    "\n",
    "# Keep only H&Y values for PDSTATE=OFF or (PDSTATE=NaN and PDTRTMNT=0, i.e., patient is not medicated)\n",
    "df_hy = df_hy[(df_hy['PDSTATE'] == 'OFF') | ((df_hy['PDSTATE'].isnull()) & (df_hy['PDTRTMNT'] == 0)) ]\n",
    "\n",
    "# Drop useless columns\n",
    "keep_cols = ['EVENT_ID', 'PATNO', 'NHY', 'PDSTATE', 'PDTRTMNT']\n",
    "df_hy = df_hy.drop([x for x in df_hy.columns if x not in keep_cols], axis=1)\n",
    "\n",
    "# Show H&Y stats\n",
    "df_hy.groupby(['NHY'], dropna=False).count()"
   ]
  },
  {
   "cell_type": "markdown",
   "metadata": {},
   "source": [
    "## Demographics\n",
    "\n",
    "Needed for sex."
   ]
  },
  {
   "cell_type": "code",
   "execution_count": 3,
   "metadata": {},
   "outputs": [
    {
     "data": {
      "text/html": [
       "<div>\n",
       "<style scoped>\n",
       "    .dataframe tbody tr th:only-of-type {\n",
       "        vertical-align: middle;\n",
       "    }\n",
       "\n",
       "    .dataframe tbody tr th {\n",
       "        vertical-align: top;\n",
       "    }\n",
       "\n",
       "    .dataframe thead th {\n",
       "        text-align: right;\n",
       "    }\n",
       "</style>\n",
       "<table border=\"1\" class=\"dataframe\">\n",
       "  <thead>\n",
       "    <tr style=\"text-align: right;\">\n",
       "      <th></th>\n",
       "      <th>PATNO</th>\n",
       "    </tr>\n",
       "    <tr>\n",
       "      <th>SEX</th>\n",
       "      <th></th>\n",
       "    </tr>\n",
       "  </thead>\n",
       "  <tbody>\n",
       "    <tr>\n",
       "      <th>0</th>\n",
       "      <td>943</td>\n",
       "    </tr>\n",
       "    <tr>\n",
       "      <th>1</th>\n",
       "      <td>1273</td>\n",
       "    </tr>\n",
       "  </tbody>\n",
       "</table>\n",
       "</div>"
      ],
      "text/plain": [
       "     PATNO\n",
       "SEX       \n",
       "0      943\n",
       "1     1273"
      ]
     },
     "execution_count": 3,
     "metadata": {},
     "output_type": "execute_result"
    }
   ],
   "source": [
    "demo = pd.read_csv(os.path.join(data_dir, 'Demographics.csv'))\n",
    "\n",
    "# Drop useless columns\n",
    "keep = ['PATNO', 'SEX']\n",
    "demo = demo.drop([x for x in demo.columns if x not in keep], axis=1)\n",
    "\n",
    "#\n",
    "demo['SEX'] = demo['SEX'].astype(int)\n",
    "\n",
    "# Show sex stats (0: Female, 1: Male)\n",
    "demo.groupby('SEX').count()"
   ]
  },
  {
   "cell_type": "markdown",
   "metadata": {},
   "source": [
    "## Age at visit"
   ]
  },
  {
   "cell_type": "code",
   "execution_count": 4,
   "metadata": {},
   "outputs": [
    {
     "data": {
      "text/plain": [
       "<AxesSubplot:>"
      ]
     },
     "execution_count": 4,
     "metadata": {},
     "output_type": "execute_result"
    },
    {
     "data": {
      "image/png": "[encoded data removed]",
      "text/plain": [
       "<Figure size 432x288 with 1 Axes>"
      ]
     },
     "metadata": {
      "needs_background": "light"
     },
     "output_type": "display_data"
    }
   ],
   "source": [
    "df_age = pd.read_csv(os.path.join(data_dir, 'Age_at_visit.csv'))\n",
    "\n",
    "# Show histogram\n",
    "df_age['AGE_AT_VISIT'].hist()"
   ]
  },
  {
   "cell_type": "markdown",
   "metadata": {},
   "source": [
    "## MRI availability"
   ]
  },
  {
   "cell_type": "code",
   "execution_count": 5,
   "metadata": {
    "scrolled": true
   },
   "outputs": [
    {
     "data": {
      "text/html": [
       "<div>\n",
       "<style scoped>\n",
       "    .dataframe tbody tr th:only-of-type {\n",
       "        vertical-align: middle;\n",
       "    }\n",
       "\n",
       "    .dataframe tbody tr th {\n",
       "        vertical-align: top;\n",
       "    }\n",
       "\n",
       "    .dataframe thead th {\n",
       "        text-align: right;\n",
       "    }\n",
       "</style>\n",
       "<table border=\"1\" class=\"dataframe\">\n",
       "  <thead>\n",
       "    <tr style=\"text-align: right;\">\n",
       "      <th></th>\n",
       "      <th>PATNO</th>\n",
       "      <th>EVENT_ID</th>\n",
       "    </tr>\n",
       "    <tr>\n",
       "      <th>MRICMPLT</th>\n",
       "      <th></th>\n",
       "      <th></th>\n",
       "    </tr>\n",
       "  </thead>\n",
       "  <tbody>\n",
       "    <tr>\n",
       "      <th>0.0</th>\n",
       "      <td>498</td>\n",
       "      <td>498</td>\n",
       "    </tr>\n",
       "    <tr>\n",
       "      <th>1.0</th>\n",
       "      <td>2376</td>\n",
       "      <td>2376</td>\n",
       "    </tr>\n",
       "  </tbody>\n",
       "</table>\n",
       "</div>"
      ],
      "text/plain": [
       "          PATNO  EVENT_ID\n",
       "MRICMPLT                 \n",
       "0.0         498       498\n",
       "1.0        2376      2376"
      ]
     },
     "execution_count": 5,
     "metadata": {},
     "output_type": "execute_result"
    }
   ],
   "source": [
    "mri_df = pd.read_csv(os.path.join(data_dir, 'Magnetic_Resonance_Imaging__MRI_.csv'))\n",
    "keep_cols = ['EVENT_ID', 'PATNO', 'MRICMPLT']\n",
    "mri_df = mri_df.drop([x for x in mri_df.columns if x not in keep_cols], axis=1)\n",
    "mri_df.groupby('MRICMPLT').count()"
   ]
  },
  {
   "cell_type": "markdown",
   "metadata": {},
   "source": [
    "## Merge H&Y, age and MRI information"
   ]
  },
  {
   "cell_type": "code",
   "execution_count": 6,
   "metadata": {},
   "outputs": [
    {
     "data": {
      "text/plain": [
       "Index(['PATNO', 'EVENT_ID', 'PDSTATE', 'NHY', 'PDTRTMNT', 'AGE_AT_VISIT',\n",
       "       'MRICMPLT'],\n",
       "      dtype='object')"
      ]
     },
     "execution_count": 6,
     "metadata": {},
     "output_type": "execute_result"
    }
   ],
   "source": [
    "keys = ['PATNO', 'EVENT_ID']\n",
    "df = df_hy.merge(df_age, on=keys).merge(mri_df, on=keys)\n",
    "df.columns"
   ]
  },
  {
   "cell_type": "markdown",
   "metadata": {},
   "source": [
    "## Format data by visit pairs"
   ]
  },
  {
   "cell_type": "code",
   "execution_count": 7,
   "metadata": {},
   "outputs": [],
   "source": [
    "# We need a 3-year gap between visits so the only possible pairs are the following ones:\n",
    "visits = {'BL': 'V08', \n",
    "          'V04': 'V10',\n",
    "          'V06': 'V12',\n",
    "          'V08': 'V13',\n",
    "          'V10': 'V14'}\n",
    "def next_visit(x):\n",
    "    return visits[x]"
   ]
  },
  {
   "cell_type": "code",
   "execution_count": 8,
   "metadata": {},
   "outputs": [
    {
     "name": "stderr",
     "output_type": "stream",
     "text": [
      "<ipython-input-8-9360763f77c4>:6: SettingWithCopyWarning: \n",
      "A value is trying to be set on a copy of a slice from a DataFrame.\n",
      "Try using .loc[row_indexer,col_indexer] = value instead\n",
      "\n",
      "See the caveats in the documentation: https://pandas.pydata.org/pandas-docs/stable/user_guide/indexing.html#returning-a-view-versus-a-copy\n",
      "  visits_df['next_visit'] = visits_df['EVENT_ID'].apply(next_visit)\n"
     ]
    }
   ],
   "source": [
    "# Keep only visit pairs for which the first visit is in the list of possible pairs\n",
    "# and has MRI available\n",
    "visits_df = df[(df['MRICMPLT']==1.0) & (df['EVENT_ID'].isin(visits))]\n",
    "\n",
    "# Set id of second visit in pair\n",
    "visits_df['next_visit'] = visits_df['EVENT_ID'].apply(next_visit)\n",
    "\n",
    "# Retrieve H&Y score of next visit\n",
    "visits_df = visits_df.merge(df_hy, how='left', left_on=['PATNO', 'next_visit'], right_on=['PATNO', 'EVENT_ID'])\n",
    "\n",
    "# Add patient sex to visit pairs\n",
    "visits_df = visits_df.merge(demo, on=['PATNO'])\n",
    "\n",
    "# Define visit as stable if NHY (first visit)\n",
    "visits_df['stable'] = (visits_df['NHY_x'] == visits_df['NHY_y'])"
   ]
  },
  {
   "cell_type": "code",
   "execution_count": 9,
   "metadata": {
    "scrolled": false
   },
   "outputs": [
    {
     "data": {
      "text/html": [
       "<div>\n",
       "<style scoped>\n",
       "    .dataframe tbody tr th:only-of-type {\n",
       "        vertical-align: middle;\n",
       "    }\n",
       "\n",
       "    .dataframe tbody tr th {\n",
       "        vertical-align: top;\n",
       "    }\n",
       "\n",
       "    .dataframe thead th {\n",
       "        text-align: right;\n",
       "    }\n",
       "</style>\n",
       "<table border=\"1\" class=\"dataframe\">\n",
       "  <thead>\n",
       "    <tr style=\"text-align: right;\">\n",
       "      <th></th>\n",
       "      <th></th>\n",
       "      <th>PATNO</th>\n",
       "      <th>EVENT_ID_x</th>\n",
       "      <th>PDSTATE_x</th>\n",
       "      <th>PDTRTMNT_x</th>\n",
       "      <th>AGE_AT_VISIT</th>\n",
       "      <th>MRICMPLT</th>\n",
       "      <th>next_visit</th>\n",
       "      <th>EVENT_ID_y</th>\n",
       "      <th>PDSTATE_y</th>\n",
       "      <th>NHY_y</th>\n",
       "      <th>PDTRTMNT_y</th>\n",
       "      <th>SEX</th>\n",
       "    </tr>\n",
       "    <tr>\n",
       "      <th>stable</th>\n",
       "      <th>NHY_x</th>\n",
       "      <th></th>\n",
       "      <th></th>\n",
       "      <th></th>\n",
       "      <th></th>\n",
       "      <th></th>\n",
       "      <th></th>\n",
       "      <th></th>\n",
       "      <th></th>\n",
       "      <th></th>\n",
       "      <th></th>\n",
       "      <th></th>\n",
       "      <th></th>\n",
       "    </tr>\n",
       "  </thead>\n",
       "  <tbody>\n",
       "    <tr>\n",
       "      <th rowspan=\"7\" valign=\"top\">False</th>\n",
       "      <th>0</th>\n",
       "      <td>390</td>\n",
       "      <td>390</td>\n",
       "      <td>2</td>\n",
       "      <td>390</td>\n",
       "      <td>390</td>\n",
       "      <td>390</td>\n",
       "      <td>390</td>\n",
       "      <td>32</td>\n",
       "      <td>5</td>\n",
       "      <td>32</td>\n",
       "      <td>32</td>\n",
       "      <td>390</td>\n",
       "    </tr>\n",
       "    <tr>\n",
       "      <th>1</th>\n",
       "      <td>329</td>\n",
       "      <td>329</td>\n",
       "      <td>57</td>\n",
       "      <td>328</td>\n",
       "      <td>329</td>\n",
       "      <td>329</td>\n",
       "      <td>329</td>\n",
       "      <td>136</td>\n",
       "      <td>103</td>\n",
       "      <td>136</td>\n",
       "      <td>136</td>\n",
       "      <td>329</td>\n",
       "    </tr>\n",
       "    <tr>\n",
       "      <th>2</th>\n",
       "      <td>474</td>\n",
       "      <td>474</td>\n",
       "      <td>140</td>\n",
       "      <td>471</td>\n",
       "      <td>474</td>\n",
       "      <td>474</td>\n",
       "      <td>474</td>\n",
       "      <td>49</td>\n",
       "      <td>40</td>\n",
       "      <td>49</td>\n",
       "      <td>49</td>\n",
       "      <td>474</td>\n",
       "    </tr>\n",
       "    <tr>\n",
       "      <th>3</th>\n",
       "      <td>31</td>\n",
       "      <td>31</td>\n",
       "      <td>23</td>\n",
       "      <td>31</td>\n",
       "      <td>31</td>\n",
       "      <td>31</td>\n",
       "      <td>31</td>\n",
       "      <td>7</td>\n",
       "      <td>6</td>\n",
       "      <td>7</td>\n",
       "      <td>7</td>\n",
       "      <td>31</td>\n",
       "    </tr>\n",
       "    <tr>\n",
       "      <th>4</th>\n",
       "      <td>7</td>\n",
       "      <td>7</td>\n",
       "      <td>4</td>\n",
       "      <td>7</td>\n",
       "      <td>7</td>\n",
       "      <td>7</td>\n",
       "      <td>7</td>\n",
       "      <td>2</td>\n",
       "      <td>2</td>\n",
       "      <td>2</td>\n",
       "      <td>2</td>\n",
       "      <td>7</td>\n",
       "    </tr>\n",
       "    <tr>\n",
       "      <th>5</th>\n",
       "      <td>1</td>\n",
       "      <td>1</td>\n",
       "      <td>0</td>\n",
       "      <td>1</td>\n",
       "      <td>1</td>\n",
       "      <td>1</td>\n",
       "      <td>1</td>\n",
       "      <td>0</td>\n",
       "      <td>0</td>\n",
       "      <td>0</td>\n",
       "      <td>0</td>\n",
       "      <td>1</td>\n",
       "    </tr>\n",
       "    <tr>\n",
       "      <th>UR</th>\n",
       "      <td>1</td>\n",
       "      <td>1</td>\n",
       "      <td>1</td>\n",
       "      <td>1</td>\n",
       "      <td>1</td>\n",
       "      <td>1</td>\n",
       "      <td>1</td>\n",
       "      <td>0</td>\n",
       "      <td>0</td>\n",
       "      <td>0</td>\n",
       "      <td>0</td>\n",
       "      <td>1</td>\n",
       "    </tr>\n",
       "    <tr>\n",
       "      <th rowspan=\"4\" valign=\"top\">True</th>\n",
       "      <th>0</th>\n",
       "      <td>285</td>\n",
       "      <td>285</td>\n",
       "      <td>0</td>\n",
       "      <td>285</td>\n",
       "      <td>285</td>\n",
       "      <td>285</td>\n",
       "      <td>285</td>\n",
       "      <td>285</td>\n",
       "      <td>1</td>\n",
       "      <td>285</td>\n",
       "      <td>285</td>\n",
       "      <td>285</td>\n",
       "    </tr>\n",
       "    <tr>\n",
       "      <th>1</th>\n",
       "      <td>57</td>\n",
       "      <td>57</td>\n",
       "      <td>13</td>\n",
       "      <td>57</td>\n",
       "      <td>57</td>\n",
       "      <td>57</td>\n",
       "      <td>57</td>\n",
       "      <td>57</td>\n",
       "      <td>41</td>\n",
       "      <td>57</td>\n",
       "      <td>57</td>\n",
       "      <td>57</td>\n",
       "    </tr>\n",
       "    <tr>\n",
       "      <th>2</th>\n",
       "      <td>268</td>\n",
       "      <td>268</td>\n",
       "      <td>121</td>\n",
       "      <td>268</td>\n",
       "      <td>268</td>\n",
       "      <td>268</td>\n",
       "      <td>268</td>\n",
       "      <td>268</td>\n",
       "      <td>240</td>\n",
       "      <td>268</td>\n",
       "      <td>268</td>\n",
       "      <td>268</td>\n",
       "    </tr>\n",
       "    <tr>\n",
       "      <th>3</th>\n",
       "      <td>1</td>\n",
       "      <td>1</td>\n",
       "      <td>1</td>\n",
       "      <td>1</td>\n",
       "      <td>1</td>\n",
       "      <td>1</td>\n",
       "      <td>1</td>\n",
       "      <td>1</td>\n",
       "      <td>1</td>\n",
       "      <td>1</td>\n",
       "      <td>1</td>\n",
       "      <td>1</td>\n",
       "    </tr>\n",
       "  </tbody>\n",
       "</table>\n",
       "</div>"
      ],
      "text/plain": [
       "              PATNO  EVENT_ID_x  PDSTATE_x  PDTRTMNT_x  AGE_AT_VISIT  \\\n",
       "stable NHY_x                                                           \n",
       "False  0        390         390          2         390           390   \n",
       "       1        329         329         57         328           329   \n",
       "       2        474         474        140         471           474   \n",
       "       3         31          31         23          31            31   \n",
       "       4          7           7          4           7             7   \n",
       "       5          1           1          0           1             1   \n",
       "       UR         1           1          1           1             1   \n",
       "True   0        285         285          0         285           285   \n",
       "       1         57          57         13          57            57   \n",
       "       2        268         268        121         268           268   \n",
       "       3          1           1          1           1             1   \n",
       "\n",
       "              MRICMPLT  next_visit  EVENT_ID_y  PDSTATE_y  NHY_y  PDTRTMNT_y  \\\n",
       "stable NHY_x                                                                   \n",
       "False  0           390         390          32          5     32          32   \n",
       "       1           329         329         136        103    136         136   \n",
       "       2           474         474          49         40     49          49   \n",
       "       3            31          31           7          6      7           7   \n",
       "       4             7           7           2          2      2           2   \n",
       "       5             1           1           0          0      0           0   \n",
       "       UR            1           1           0          0      0           0   \n",
       "True   0           285         285         285          1    285         285   \n",
       "       1            57          57          57         41     57          57   \n",
       "       2           268         268         268        240    268         268   \n",
       "       3             1           1           1          1      1           1   \n",
       "\n",
       "              SEX  \n",
       "stable NHY_x       \n",
       "False  0      390  \n",
       "       1      329  \n",
       "       2      474  \n",
       "       3       31  \n",
       "       4        7  \n",
       "       5        1  \n",
       "       UR       1  \n",
       "True   0      285  \n",
       "       1       57  \n",
       "       2      268  \n",
       "       3        1  "
      ]
     },
     "execution_count": 9,
     "metadata": {},
     "output_type": "execute_result"
    }
   ],
   "source": [
    "visits_df.groupby(['stable', 'NHY_x']).count()"
   ]
  },
  {
   "cell_type": "markdown",
   "metadata": {},
   "source": [
    "# Matching\n",
    "\n",
    "We implemented a nearest-neighbor matching loop based on the Euclidean distance. We will match stable and progressive groups for age and sex for each H&Y value."
   ]
  },
  {
   "cell_type": "markdown",
   "metadata": {},
   "source": [
    "## Normalization\n",
    "\n",
    "We need to normalize age or else it will dominate sex in the Euclidean distance."
   ]
  },
  {
   "cell_type": "code",
   "execution_count": 10,
   "metadata": {
    "scrolled": true
   },
   "outputs": [
    {
     "data": {
      "text/html": [
       "<div>\n",
       "<style scoped>\n",
       "    .dataframe tbody tr th:only-of-type {\n",
       "        vertical-align: middle;\n",
       "    }\n",
       "\n",
       "    .dataframe tbody tr th {\n",
       "        vertical-align: top;\n",
       "    }\n",
       "\n",
       "    .dataframe thead th {\n",
       "        text-align: right;\n",
       "    }\n",
       "</style>\n",
       "<table border=\"1\" class=\"dataframe\">\n",
       "  <thead>\n",
       "    <tr style=\"text-align: right;\">\n",
       "      <th></th>\n",
       "      <th>PATNO</th>\n",
       "      <th>PDTRTMNT_x</th>\n",
       "      <th>AGE_AT_VISIT</th>\n",
       "      <th>MRICMPLT</th>\n",
       "      <th>PDTRTMNT_y</th>\n",
       "      <th>SEX</th>\n",
       "      <th>AGE_AT_VISIT_norm</th>\n",
       "    </tr>\n",
       "  </thead>\n",
       "  <tbody>\n",
       "    <tr>\n",
       "      <th>count</th>\n",
       "      <td>1844.000000</td>\n",
       "      <td>1840.000000</td>\n",
       "      <td>1844.000000</td>\n",
       "      <td>1844.0</td>\n",
       "      <td>837.000000</td>\n",
       "      <td>1844.00000</td>\n",
       "      <td>1.844000e+03</td>\n",
       "    </tr>\n",
       "    <tr>\n",
       "      <th>mean</th>\n",
       "      <td>43850.346529</td>\n",
       "      <td>0.194565</td>\n",
       "      <td>63.161226</td>\n",
       "      <td>1.0</td>\n",
       "      <td>0.523297</td>\n",
       "      <td>0.58026</td>\n",
       "      <td>-9.247845e-17</td>\n",
       "    </tr>\n",
       "    <tr>\n",
       "      <th>std</th>\n",
       "      <td>39937.796502</td>\n",
       "      <td>0.395973</td>\n",
       "      <td>8.923735</td>\n",
       "      <td>0.0</td>\n",
       "      <td>0.499756</td>\n",
       "      <td>0.49365</td>\n",
       "      <td>1.000000e+00</td>\n",
       "    </tr>\n",
       "    <tr>\n",
       "      <th>min</th>\n",
       "      <td>3001.000000</td>\n",
       "      <td>0.000000</td>\n",
       "      <td>32.200000</td>\n",
       "      <td>1.0</td>\n",
       "      <td>0.000000</td>\n",
       "      <td>0.00000</td>\n",
       "      <td>-3.469536e+00</td>\n",
       "    </tr>\n",
       "    <tr>\n",
       "      <th>25%</th>\n",
       "      <td>3691.500000</td>\n",
       "      <td>0.000000</td>\n",
       "      <td>57.275000</td>\n",
       "      <td>1.0</td>\n",
       "      <td>0.000000</td>\n",
       "      <td>0.00000</td>\n",
       "      <td>-6.596145e-01</td>\n",
       "    </tr>\n",
       "    <tr>\n",
       "      <th>50%</th>\n",
       "      <td>46546.000000</td>\n",
       "      <td>0.000000</td>\n",
       "      <td>63.800000</td>\n",
       "      <td>1.0</td>\n",
       "      <td>1.000000</td>\n",
       "      <td>1.00000</td>\n",
       "      <td>7.158150e-02</td>\n",
       "    </tr>\n",
       "    <tr>\n",
       "      <th>75%</th>\n",
       "      <td>70630.250000</td>\n",
       "      <td>0.000000</td>\n",
       "      <td>69.500000</td>\n",
       "      <td>1.0</td>\n",
       "      <td>1.000000</td>\n",
       "      <td>1.00000</td>\n",
       "      <td>7.103275e-01</td>\n",
       "    </tr>\n",
       "    <tr>\n",
       "      <th>max</th>\n",
       "      <td>151111.000000</td>\n",
       "      <td>1.000000</td>\n",
       "      <td>86.300000</td>\n",
       "      <td>1.0</td>\n",
       "      <td>1.000000</td>\n",
       "      <td>1.00000</td>\n",
       "      <td>2.592947e+00</td>\n",
       "    </tr>\n",
       "  </tbody>\n",
       "</table>\n",
       "</div>"
      ],
      "text/plain": [
       "               PATNO   PDTRTMNT_x  AGE_AT_VISIT  MRICMPLT  PDTRTMNT_y  \\\n",
       "count    1844.000000  1840.000000   1844.000000    1844.0  837.000000   \n",
       "mean    43850.346529     0.194565     63.161226       1.0    0.523297   \n",
       "std     39937.796502     0.395973      8.923735       0.0    0.499756   \n",
       "min      3001.000000     0.000000     32.200000       1.0    0.000000   \n",
       "25%      3691.500000     0.000000     57.275000       1.0    0.000000   \n",
       "50%     46546.000000     0.000000     63.800000       1.0    1.000000   \n",
       "75%     70630.250000     0.000000     69.500000       1.0    1.000000   \n",
       "max    151111.000000     1.000000     86.300000       1.0    1.000000   \n",
       "\n",
       "              SEX  AGE_AT_VISIT_norm  \n",
       "count  1844.00000       1.844000e+03  \n",
       "mean      0.58026      -9.247845e-17  \n",
       "std       0.49365       1.000000e+00  \n",
       "min       0.00000      -3.469536e+00  \n",
       "25%       0.00000      -6.596145e-01  \n",
       "50%       1.00000       7.158150e-02  \n",
       "75%       1.00000       7.103275e-01  \n",
       "max       1.00000       2.592947e+00  "
      ]
     },
     "execution_count": 10,
     "metadata": {},
     "output_type": "execute_result"
    }
   ],
   "source": [
    "df = visits_df\n",
    "to_normalize = ['AGE_AT_VISIT'] \n",
    "for var in to_normalize:\n",
    "    df[f'{var}_norm'] = (df[var] - df[var].mean())/df[var].std()\n",
    "df.describe()"
   ]
  },
  {
   "cell_type": "markdown",
   "metadata": {},
   "source": [
    "## Matching loop\n",
    "\n",
    "Nearest neighbor matching loop applied for each H&Y value to extract stable and progressive populations with matched sex and age."
   ]
  },
  {
   "cell_type": "code",
   "execution_count": 11,
   "metadata": {
    "scrolled": true
   },
   "outputs": [],
   "source": [
    "def nn(x, df, matched_vars):\n",
    "    '''\n",
    "    Find index of nearest neighbor of x in df\n",
    "    '''\n",
    "    \n",
    "    # Select only the subjects with the same H&Y score\n",
    "    df_hy_match = df[df['NHY_x'] == x['NHY_x'].values[0]]\n",
    " \n",
    "    # Compute squared distance between x and all elements in df, using normalized variables\n",
    "    df_hy_match['dist'] = sum((df_hy_match[f'{var}']-x[f'{var}'].values[0])**2 for var in matched_vars)\n",
    "    \n",
    "    # Return the element in df with the smallest distance\n",
    "    df_hy_match.sort_values('dist', inplace=True)\n",
    "    return df_hy_match.head(1)  ## there's probably a better way to do it but it should work\n",
    "\n",
    "def match(n, group1_df, group2_df, matched_vars):\n",
    "    '''\n",
    "    Randomly pick n elements in group1_df, then find n matching elements in group2_df.\n",
    "    Ensure that each group only contains 1 or less element from each patient and that \n",
    "    no patient has elements in both groups.\n",
    "    '''\n",
    "    \n",
    "    from numpy.random import choice, seed\n",
    "\n",
    "    # Select n random patients in group1\n",
    "    group1_patnos = pd.unique(group1_df['PATNO'])\n",
    "    seed(0)  # change this to bootstrap population\n",
    "    group1_patnos_sample = choice(group1_patnos, n, replace=False)\n",
    "    \n",
    "    # Remove the selected patients from group2\n",
    "    for p in group1_patnos_sample:\n",
    "        group2_df = group2_df[group2_df['PATNO']!=p]\n",
    "    \n",
    "    group1_matched = pd.DataFrame(columns=group1_df.columns)\n",
    "    group2_matched = pd.DataFrame(columns=group1_df.columns)\n",
    "    \n",
    "    for p in group1_patnos_sample:  # for each patient in sampled list\n",
    "        # Pick a random element from this patient in group1\n",
    "        s = group1_df[group1_df['PATNO'] == p].sample(1)\n",
    "        # Find the best match in group2\n",
    "        t = nn(s, group2_df, matched_vars)\n",
    "        # Add s and t to matched groups\n",
    "        group1_matched = group1_matched.append(s)\n",
    "        group2_matched = group2_matched.append(t)\n",
    "        # Remove t's patient from group 2 so that it doesn't get selected again\n",
    "        group2_df = group2_df[group2_df['PATNO']!=t['PATNO'].values[0]]\n",
    "    \n",
    "    return group1_matched, group2_matched\n",
    "\n",
    "matched_vars = ['AGE_AT_VISIT_norm', 'SEX']\n",
    "\n",
    "        \n",
    "# Apply matching to get 47 patients with H&Y=1\n",
    "stable1, progr1 = match(47,\n",
    "                        df[(df['stable'] == True) & (df['NHY_x'] == \"1\")],\n",
    "                        df[(df['stable'] == False) & (df['NHY_x'] == \"1\")],\n",
    "                        matched_vars)\n",
    "\n",
    "# Apply matching to get 25 patients with H&Y=2\n",
    "stable2, progr2 = match(25,\n",
    "                        df[(df['stable'] == True) & (df['NHY_x'] == \"2\")],\n",
    "                        df[(df['stable'] == False) & (df['NHY_x'] == \"2\")],\n",
    "                        matched_vars)"
   ]
  },
  {
   "cell_type": "code",
   "execution_count": 12,
   "metadata": {},
   "outputs": [],
   "source": [
    "stable = stable1.append(stable2)\n",
    "progr = progr1.append(progr2)"
   ]
  },
  {
   "cell_type": "markdown",
   "metadata": {},
   "source": [
    "## Sanity checks"
   ]
  },
  {
   "cell_type": "code",
   "execution_count": 13,
   "metadata": {},
   "outputs": [
    {
     "name": "stdout",
     "output_type": "stream",
     "text": [
      "All good!\n"
     ]
    }
   ],
   "source": [
    "for (a, b) in [(stable1, progr1), (stable2, progr2)]:\n",
    "    # Both groups have equal size\n",
    "    assert(len(a) == len(b))\n",
    "    # No patient is present more than once in each group\n",
    "    for x in [a, b]:\n",
    "        patnos_x = pd.unique(x['PATNO'])\n",
    "        assert(len(patnos_x)==len(x)), x\n",
    "    # Patients in a aren't in b\n",
    "    patnos_a = pd.unique(a['PATNO'])\n",
    "    patnos_b = pd.unique(b['PATNO'])\n",
    "    for p in patnos_a:\n",
    "        assert(p not in patnos_b), f'PATNO {p} appears in a and b'\n",
    "print('All good!')"
   ]
  },
  {
   "cell_type": "markdown",
   "metadata": {},
   "source": [
    "## Cohort summary"
   ]
  },
  {
   "cell_type": "code",
   "execution_count": 14,
   "metadata": {},
   "outputs": [
    {
     "name": "stdout",
     "output_type": "stream",
     "text": [
      "\t\t\t\t\t| Stable set (n=72)\t| Progression set (n=72)\n",
      "Age (years) \t\t\t\t| 60.77 \t\t| 60.8\n",
      "Gender [male (n)] \t\t\t| 49 \t\t\t| 49\n",
      "Hoehn & Yahr (n) \t Stage 1 \t| 47 \t\t\t| 47\n",
      "\t\t\t Stage 2 \t| 25 \t\t\t| 25\n",
      "\t\t\t Stage 3 \t| 0 \t\t\t| 0\n"
     ]
    }
   ],
   "source": [
    "import os\n",
    "print(f\"\\t\\t\\t\\t\\t| Stable set (n={len(stable)})\\t| Progression set (n={len(progr)})\" + os.linesep +\n",
    "       f\"Age (years) \\t\\t\\t\\t| {round(stable['AGE_AT_VISIT'].mean(),2)} \\t\\t| {round(progr['AGE_AT_VISIT'].mean(),2)}\" + os.linesep + \n",
    "       f\"Gender [male (n)] \\t\\t\\t| {len(stable[stable['SEX']==1])} \\t\\t\\t| {len(progr[progr['SEX']==1])}\" + os.linesep +\n",
    "       f\"Hoehn & Yahr (n) \\t Stage 1 \\t| {len(stable[stable['NHY_x']=='1'])} \\t\\t\\t| {len(progr[progr['NHY_x']=='1'])}\" + os.linesep +\n",
    "       f\"\\t\\t\\t Stage 2 \\t| {len(stable[stable['NHY_x']=='2'])} \\t\\t\\t| {len(progr[progr['NHY_x']=='2'])}\" + os.linesep +\n",
    "       f\"\\t\\t\\t Stage 3 \\t| {len(stable[stable['NHY_x']=='3'])} \\t\\t\\t| {len(progr[progr['NHY_x']=='3'])}\"\n",
    "\n",
    ")"
   ]
  },
  {
   "cell_type": "code",
   "execution_count": 15,
   "metadata": {},
   "outputs": [
    {
     "data": {
      "text/plain": [
       "<AxesSubplot:>"
      ]
     },
     "execution_count": 15,
     "metadata": {},
     "output_type": "execute_result"
    },
    {
     "data": {
      "image/png": "[encoded data removed]",
      "text/plain": [
       "<Figure size 432x288 with 1 Axes>"
      ]
     },
     "metadata": {
      "needs_background": "light"
     },
     "output_type": "display_data"
    }
   ],
   "source": [
    "stable['EVENT_ID_x'].hist()"
   ]
  },
  {
   "cell_type": "code",
   "execution_count": 16,
   "metadata": {},
   "outputs": [
    {
     "data": {
      "text/plain": [
       "<AxesSubplot:>"
      ]
     },
     "execution_count": 16,
     "metadata": {},
     "output_type": "execute_result"
    },
    {
     "data": {
      "image/png": "[encoded data removed]",
      "text/plain": [
       "<Figure size 432x288 with 1 Axes>"
      ]
     },
     "metadata": {
      "needs_background": "light"
     },
     "output_type": "display_data"
    }
   ],
   "source": [
    "progr['EVENT_ID_x'].hist()"
   ]
  }
 ],
 "metadata": {
  "kernelspec": {
   "display_name": "Python 3",
   "language": "python",
   "name": "python3"
  },
  "language_info": {
   "codemirror_mode": {
    "name": "ipython",
    "version": 3
   },
   "file_extension": ".py",
   "mimetype": "text/x-python",
   "name": "python",
   "nbconvert_exporter": "python",
   "pygments_lexer": "ipython3",
   "version": "3.8.9"
  },
  "toc": {
   "base_numbering": 1,
   "nav_menu": {},
   "number_sections": true,
   "sideBar": true,
   "skip_h1_title": false,
   "title_cell": "Table of Contents",
   "title_sidebar": "Contents",
   "toc_cell": false,
   "toc_position": {},
   "toc_section_display": true,
   "toc_window_display": false
  }
 },
 "nbformat": 4,
 "nbformat_minor": 4
}
