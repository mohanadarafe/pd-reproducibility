{
 "cells": [
  {
   "cell_type": "markdown",
   "metadata": {},
   "source": [
    "# Initial study\n",
    "\n",
    "This notebook identifies PPMI subjects to reproduce the following paper:\n",
    "\n",
    "\n",
    "<div class=\"alert alert-block alert-success\">\n",
    "Shu, Zhen‐Yu, et al. <a href=\"https://onlinelibrary.wiley.com/doi/full/10.1002/mrm.28522?casa_token=Ab53WvMlODcAAAAA%3AXcgDLmq8egqW7uwd2g3jY9jIljhLu3VhIbvMWgbcfoWOxjO_9H7Arf91t2FBZDZ8E94Je4Wmrn0ZmkeZ\">Predicting the progression of Parkinson's disease using conventional MRI and machine learning: An application of radiomic biomarkers in whole‐brain white matter.</a> Magnetic Resonance in Medicine 85.3 (2021): 1611-1624.</div>"
   ]
  },
  {
   "cell_type": "markdown",
   "metadata": {},
   "source": [
    "This study used the following population from PPMI:\n",
    "<img src=\"../data/table.png\"/>"
   ]
  },
  {
   "cell_type": "markdown",
   "metadata": {},
   "source": [
    "Note: this notebook can be shared publicly. It is implemented to not leak any PPMI patient information or id."
   ]
  },
  {
   "cell_type": "markdown",
   "metadata": {},
   "source": [
    "# Data loading and preparation"
   ]
  },
  {
   "cell_type": "markdown",
   "metadata": {},
   "source": [
    "## Metadata download"
   ]
  },
  {
   "cell_type": "code",
   "execution_count": 1,
   "metadata": {},
   "outputs": [],
   "source": [
    "import os\n",
    "import ppmi_downloader\n",
    "\n",
    "data_dir = 'data'\n",
    "\n",
    "if not os.path.exists(data_dir):\n",
    "    os.makedirs(data_dir)\n",
    "required_files = ['Age_at_visit.csv', 'Demographics.csv',\n",
    "                  'Magnetic_Resonance_Imaging__MRI_.csv', 'MDS_UPDRS_Part_III.csv']\n",
    "missing_files = [x for x in required_files if not os.path.exists(os.path.join(data_dir, x))]\n",
    "\n",
    "if len(missing_files) > 0:\n",
    "    ppmi = ppmi_downloader.PPMIDownloader('ADD YOUR PPMI LOGIN', 'ADD YOUR PPMI PASSWORD')\n",
    "    ppmi.download_metadata(missing_files, destination_dir=data_dir, headless=False, timeout=600)\n"
   ]
  },
  {
   "cell_type": "markdown",
   "metadata": {},
   "source": [
    "## Hoehn & Yahr score"
   ]
  },
  {
   "cell_type": "code",
   "execution_count": 2,
   "metadata": {},
   "outputs": [
    {
     "name": "stderr",
     "output_type": "stream",
     "text": [
      "/home/glatard/venvs/jupyter/lib/python3.8/site-packages/IPython/core/interactiveshell.py:3343: DtypeWarning: Columns (10,17,18,19,20) have mixed types.Specify dtype option on import or set low_memory=False.\n",
      "  exec(code_obj, self.user_global_ns, self.user_ns)\n"
     ]
    },
    {
     "data": {
      "text/html": [
       "<div>\n",
       "<style scoped>\n",
       "    .dataframe tbody tr th:only-of-type {\n",
       "        vertical-align: middle;\n",
       "    }\n",
       "\n",
       "    .dataframe tbody tr th {\n",
       "        vertical-align: top;\n",
       "    }\n",
       "\n",
       "    .dataframe thead th {\n",
       "        text-align: right;\n",
       "    }\n",
       "</style>\n",
       "<table border=\"1\" class=\"dataframe\">\n",
       "  <thead>\n",
       "    <tr style=\"text-align: right;\">\n",
       "      <th></th>\n",
       "      <th>PATNO</th>\n",
       "      <th>EVENT_ID</th>\n",
       "      <th>PDMEDDT</th>\n",
       "      <th>PDSTATE</th>\n",
       "    </tr>\n",
       "    <tr>\n",
       "      <th>NHY</th>\n",
       "      <th></th>\n",
       "      <th></th>\n",
       "      <th></th>\n",
       "      <th></th>\n",
       "    </tr>\n",
       "  </thead>\n",
       "  <tbody>\n",
       "    <tr>\n",
       "      <th>0</th>\n",
       "      <td>5637</td>\n",
       "      <td>5637</td>\n",
       "      <td>36</td>\n",
       "      <td>24</td>\n",
       "    </tr>\n",
       "    <tr>\n",
       "      <th>1</th>\n",
       "      <td>2024</td>\n",
       "      <td>2024</td>\n",
       "      <td>563</td>\n",
       "      <td>434</td>\n",
       "    </tr>\n",
       "    <tr>\n",
       "      <th>2</th>\n",
       "      <td>4747</td>\n",
       "      <td>4747</td>\n",
       "      <td>2643</td>\n",
       "      <td>2270</td>\n",
       "    </tr>\n",
       "    <tr>\n",
       "      <th>3</th>\n",
       "      <td>408</td>\n",
       "      <td>408</td>\n",
       "      <td>312</td>\n",
       "      <td>285</td>\n",
       "    </tr>\n",
       "    <tr>\n",
       "      <th>4</th>\n",
       "      <td>54</td>\n",
       "      <td>54</td>\n",
       "      <td>46</td>\n",
       "      <td>47</td>\n",
       "    </tr>\n",
       "    <tr>\n",
       "      <th>5</th>\n",
       "      <td>21</td>\n",
       "      <td>21</td>\n",
       "      <td>19</td>\n",
       "      <td>19</td>\n",
       "    </tr>\n",
       "    <tr>\n",
       "      <th>UR</th>\n",
       "      <td>51</td>\n",
       "      <td>51</td>\n",
       "      <td>11</td>\n",
       "      <td>12</td>\n",
       "    </tr>\n",
       "    <tr>\n",
       "      <th>NaN</th>\n",
       "      <td>129</td>\n",
       "      <td>129</td>\n",
       "      <td>2</td>\n",
       "      <td>2</td>\n",
       "    </tr>\n",
       "  </tbody>\n",
       "</table>\n",
       "</div>"
      ],
      "text/plain": [
       "     PATNO  EVENT_ID  PDMEDDT  PDSTATE\n",
       "NHY                                   \n",
       "0     5637      5637       36       24\n",
       "1     2024      2024      563      434\n",
       "2     4747      4747     2643     2270\n",
       "3      408       408      312      285\n",
       "4       54        54       46       47\n",
       "5       21        21       19       19\n",
       "UR      51        51       11       12\n",
       "NaN    129       129        2        2"
      ]
     },
     "execution_count": 2,
     "metadata": {},
     "output_type": "execute_result"
    }
   ],
   "source": [
    "import pandas as pd\n",
    "\n",
    "df_hy = pd.read_csv(os.path.join(data_dir, 'MDS_UPDRS_Part_III.csv'))\n",
    "\n",
    "# Keep patients with PDSTATE = OFF or PDSTATE = NaN\n",
    "# PDSTATE = NaN isn't correct when the patient is medicated\n",
    "# See next comment\n",
    "df_hy = df_hy[(df_hy['PDSTATE'] != 'ON')]\n",
    "\n",
    "# The solution below is the one recommended by Madeleine but we can't get enough patients in each group\n",
    "# when we use it\n",
    "#\n",
    "# Keep only H&Y values for PDSTATE=OFF or (PDSTATE=NaN and PDMEDDT=NaN, i.e., patient is not medicated)\n",
    "# df_hy = df_hy[(df_hy['PDSTATE'] == 'OFF') | ((df_hy['PDSTATE'].isnull()) & (df_hy['PDMEDDT'].isnull())) ]\n",
    "\n",
    "# Drop useless columns\n",
    "keep_cols = ['EVENT_ID', 'PATNO', 'NHY', 'PDSTATE', 'PDMEDDT']\n",
    "df_hy = df_hy.drop([x for x in df_hy.columns if x not in keep_cols], axis=1)\n",
    "\n",
    "# Show H&Y stats\n",
    "df_hy.groupby(['NHY'], dropna=False).count()"
   ]
  },
  {
   "cell_type": "markdown",
   "metadata": {},
   "source": [
    "## Demographics\n",
    "\n",
    "Needed for sex."
   ]
  },
  {
   "cell_type": "code",
   "execution_count": 3,
   "metadata": {},
   "outputs": [
    {
     "data": {
      "text/html": [
       "<div>\n",
       "<style scoped>\n",
       "    .dataframe tbody tr th:only-of-type {\n",
       "        vertical-align: middle;\n",
       "    }\n",
       "\n",
       "    .dataframe tbody tr th {\n",
       "        vertical-align: top;\n",
       "    }\n",
       "\n",
       "    .dataframe thead th {\n",
       "        text-align: right;\n",
       "    }\n",
       "</style>\n",
       "<table border=\"1\" class=\"dataframe\">\n",
       "  <thead>\n",
       "    <tr style=\"text-align: right;\">\n",
       "      <th></th>\n",
       "      <th>PATNO</th>\n",
       "    </tr>\n",
       "    <tr>\n",
       "      <th>SEX</th>\n",
       "      <th></th>\n",
       "    </tr>\n",
       "  </thead>\n",
       "  <tbody>\n",
       "    <tr>\n",
       "      <th>0</th>\n",
       "      <td>943</td>\n",
       "    </tr>\n",
       "    <tr>\n",
       "      <th>1</th>\n",
       "      <td>1273</td>\n",
       "    </tr>\n",
       "  </tbody>\n",
       "</table>\n",
       "</div>"
      ],
      "text/plain": [
       "     PATNO\n",
       "SEX       \n",
       "0      943\n",
       "1     1273"
      ]
     },
     "execution_count": 3,
     "metadata": {},
     "output_type": "execute_result"
    }
   ],
   "source": [
    "demo = pd.read_csv(os.path.join(data_dir, 'Demographics.csv'))\n",
    "\n",
    "# Drop useless columns\n",
    "keep = ['PATNO', 'SEX']\n",
    "demo = demo.drop([x for x in demo.columns if x not in keep], axis=1)\n",
    "\n",
    "#\n",
    "demo['SEX'] = demo['SEX'].astype(int)\n",
    "\n",
    "# Show sex stats (0: Female, 1: Male)\n",
    "demo.groupby('SEX').count()"
   ]
  },
  {
   "cell_type": "markdown",
   "metadata": {},
   "source": [
    "## Age at visit"
   ]
  },
  {
   "cell_type": "code",
   "execution_count": 4,
   "metadata": {},
   "outputs": [
    {
     "data": {
      "text/plain": [
       "<AxesSubplot:>"
      ]
     },
     "execution_count": 4,
     "metadata": {},
     "output_type": "execute_result"
    },
    {
     "data": {
      "image/png": "[encoded data removed]",
      "text/plain": [
       "<Figure size 432x288 with 1 Axes>"
      ]
     },
     "metadata": {
      "needs_background": "light"
     },
     "output_type": "display_data"
    }
   ],
   "source": [
    "df_age = pd.read_csv(os.path.join(data_dir, 'Age_at_visit.csv'))\n",
    "\n",
    "# Show histogram\n",
    "df_age['AGE_AT_VISIT'].hist()"
   ]
  },
  {
   "cell_type": "markdown",
   "metadata": {},
   "source": [
    "## MRI availability"
   ]
  },
  {
   "cell_type": "code",
   "execution_count": 5,
   "metadata": {
    "scrolled": true
   },
   "outputs": [
    {
     "data": {
      "text/html": [
       "<div>\n",
       "<style scoped>\n",
       "    .dataframe tbody tr th:only-of-type {\n",
       "        vertical-align: middle;\n",
       "    }\n",
       "\n",
       "    .dataframe tbody tr th {\n",
       "        vertical-align: top;\n",
       "    }\n",
       "\n",
       "    .dataframe thead th {\n",
       "        text-align: right;\n",
       "    }\n",
       "</style>\n",
       "<table border=\"1\" class=\"dataframe\">\n",
       "  <thead>\n",
       "    <tr style=\"text-align: right;\">\n",
       "      <th></th>\n",
       "      <th>PATNO</th>\n",
       "      <th>EVENT_ID</th>\n",
       "    </tr>\n",
       "    <tr>\n",
       "      <th>MRICMPLT</th>\n",
       "      <th></th>\n",
       "      <th></th>\n",
       "    </tr>\n",
       "  </thead>\n",
       "  <tbody>\n",
       "    <tr>\n",
       "      <th>0.0</th>\n",
       "      <td>498</td>\n",
       "      <td>498</td>\n",
       "    </tr>\n",
       "    <tr>\n",
       "      <th>1.0</th>\n",
       "      <td>2376</td>\n",
       "      <td>2376</td>\n",
       "    </tr>\n",
       "  </tbody>\n",
       "</table>\n",
       "</div>"
      ],
      "text/plain": [
       "          PATNO  EVENT_ID\n",
       "MRICMPLT                 \n",
       "0.0         498       498\n",
       "1.0        2376      2376"
      ]
     },
     "execution_count": 5,
     "metadata": {},
     "output_type": "execute_result"
    }
   ],
   "source": [
    "mri_df = pd.read_csv(os.path.join(data_dir, 'Magnetic_Resonance_Imaging__MRI_.csv'))\n",
    "keep_cols = ['EVENT_ID', 'PATNO', 'MRICMPLT']\n",
    "mri_df = mri_df.drop([x for x in mri_df.columns if x not in keep_cols], axis=1)\n",
    "mri_df.groupby('MRICMPLT').count()"
   ]
  },
  {
   "cell_type": "markdown",
   "metadata": {},
   "source": [
    "## Merge H&Y, age and MRI information"
   ]
  },
  {
   "cell_type": "code",
   "execution_count": 6,
   "metadata": {},
   "outputs": [
    {
     "data": {
      "text/plain": [
       "Index(['PATNO', 'EVENT_ID', 'PDMEDDT', 'PDSTATE', 'NHY', 'AGE_AT_VISIT',\n",
       "       'MRICMPLT'],\n",
       "      dtype='object')"
      ]
     },
     "execution_count": 6,
     "metadata": {},
     "output_type": "execute_result"
    }
   ],
   "source": [
    "keys = ['PATNO', 'EVENT_ID']\n",
    "df = df_hy.merge(df_age, on=keys).merge(mri_df, on=keys)\n",
    "df.columns"
   ]
  },
  {
   "cell_type": "markdown",
   "metadata": {},
   "source": [
    "## Format data by visit pairs"
   ]
  },
  {
   "cell_type": "code",
   "execution_count": 7,
   "metadata": {},
   "outputs": [],
   "source": [
    "# We need a 3-year gap between visits so the only possible pairs are the following ones:\n",
    "visits = {'BL': 'V08', \n",
    "          'V04': 'V10',\n",
    "          'V06': 'V12',\n",
    "          'V08': 'V13',\n",
    "          'V10': 'V14'}\n",
    "def next_visit(x):\n",
    "    return visits[x]"
   ]
  },
  {
   "cell_type": "code",
   "execution_count": 8,
   "metadata": {},
   "outputs": [
    {
     "name": "stderr",
     "output_type": "stream",
     "text": [
      "<ipython-input-8-9360763f77c4>:6: SettingWithCopyWarning: \n",
      "A value is trying to be set on a copy of a slice from a DataFrame.\n",
      "Try using .loc[row_indexer,col_indexer] = value instead\n",
      "\n",
      "See the caveats in the documentation: https://pandas.pydata.org/pandas-docs/stable/user_guide/indexing.html#returning-a-view-versus-a-copy\n",
      "  visits_df['next_visit'] = visits_df['EVENT_ID'].apply(next_visit)\n"
     ]
    }
   ],
   "source": [
    "# Keep only visit pairs for which the first visit is in the list of possible pairs\n",
    "# and has MRI available\n",
    "visits_df = df[(df['MRICMPLT']==1.0) & (df['EVENT_ID'].isin(visits))]\n",
    "\n",
    "# Set id of second visit in pair\n",
    "visits_df['next_visit'] = visits_df['EVENT_ID'].apply(next_visit)\n",
    "\n",
    "# Retrieve H&Y score of next visit\n",
    "visits_df = visits_df.merge(df_hy, how='left', left_on=['PATNO', 'next_visit'], right_on=['PATNO', 'EVENT_ID'])\n",
    "\n",
    "# Add patient sex to visit pairs\n",
    "visits_df = visits_df.merge(demo, on=['PATNO'])\n",
    "\n",
    "# Define visit as stable if NHY (first visit)\n",
    "visits_df['stable'] = (visits_df['NHY_x'] == visits_df['NHY_y'])"
   ]
  },
  {
   "cell_type": "code",
   "execution_count": 9,
   "metadata": {
    "scrolled": false
   },
   "outputs": [
    {
     "data": {
      "text/html": [
       "<div>\n",
       "<style scoped>\n",
       "    .dataframe tbody tr th:only-of-type {\n",
       "        vertical-align: middle;\n",
       "    }\n",
       "\n",
       "    .dataframe tbody tr th {\n",
       "        vertical-align: top;\n",
       "    }\n",
       "\n",
       "    .dataframe thead th {\n",
       "        text-align: right;\n",
       "    }\n",
       "</style>\n",
       "<table border=\"1\" class=\"dataframe\">\n",
       "  <thead>\n",
       "    <tr style=\"text-align: right;\">\n",
       "      <th></th>\n",
       "      <th></th>\n",
       "      <th>PATNO</th>\n",
       "      <th>EVENT_ID_x</th>\n",
       "      <th>PDMEDDT_x</th>\n",
       "      <th>PDSTATE_x</th>\n",
       "      <th>AGE_AT_VISIT</th>\n",
       "      <th>MRICMPLT</th>\n",
       "      <th>next_visit</th>\n",
       "      <th>EVENT_ID_y</th>\n",
       "      <th>PDMEDDT_y</th>\n",
       "      <th>PDSTATE_y</th>\n",
       "      <th>NHY_y</th>\n",
       "      <th>SEX</th>\n",
       "    </tr>\n",
       "    <tr>\n",
       "      <th>stable</th>\n",
       "      <th>NHY_x</th>\n",
       "      <th></th>\n",
       "      <th></th>\n",
       "      <th></th>\n",
       "      <th></th>\n",
       "      <th></th>\n",
       "      <th></th>\n",
       "      <th></th>\n",
       "      <th></th>\n",
       "      <th></th>\n",
       "      <th></th>\n",
       "      <th></th>\n",
       "      <th></th>\n",
       "    </tr>\n",
       "  </thead>\n",
       "  <tbody>\n",
       "    <tr>\n",
       "      <th rowspan=\"7\" valign=\"top\">False</th>\n",
       "      <th>0</th>\n",
       "      <td>437</td>\n",
       "      <td>437</td>\n",
       "      <td>5</td>\n",
       "      <td>2</td>\n",
       "      <td>437</td>\n",
       "      <td>437</td>\n",
       "      <td>437</td>\n",
       "      <td>34</td>\n",
       "      <td>6</td>\n",
       "      <td>5</td>\n",
       "      <td>34</td>\n",
       "      <td>437</td>\n",
       "    </tr>\n",
       "    <tr>\n",
       "      <th>1</th>\n",
       "      <td>340</td>\n",
       "      <td>340</td>\n",
       "      <td>64</td>\n",
       "      <td>58</td>\n",
       "      <td>340</td>\n",
       "      <td>340</td>\n",
       "      <td>340</td>\n",
       "      <td>141</td>\n",
       "      <td>120</td>\n",
       "      <td>103</td>\n",
       "      <td>141</td>\n",
       "      <td>340</td>\n",
       "    </tr>\n",
       "    <tr>\n",
       "      <th>2</th>\n",
       "      <td>488</td>\n",
       "      <td>488</td>\n",
       "      <td>143</td>\n",
       "      <td>140</td>\n",
       "      <td>488</td>\n",
       "      <td>488</td>\n",
       "      <td>488</td>\n",
       "      <td>51</td>\n",
       "      <td>44</td>\n",
       "      <td>40</td>\n",
       "      <td>51</td>\n",
       "      <td>488</td>\n",
       "    </tr>\n",
       "    <tr>\n",
       "      <th>3</th>\n",
       "      <td>32</td>\n",
       "      <td>32</td>\n",
       "      <td>24</td>\n",
       "      <td>23</td>\n",
       "      <td>32</td>\n",
       "      <td>32</td>\n",
       "      <td>32</td>\n",
       "      <td>8</td>\n",
       "      <td>7</td>\n",
       "      <td>6</td>\n",
       "      <td>8</td>\n",
       "      <td>32</td>\n",
       "    </tr>\n",
       "    <tr>\n",
       "      <th>4</th>\n",
       "      <td>7</td>\n",
       "      <td>7</td>\n",
       "      <td>3</td>\n",
       "      <td>4</td>\n",
       "      <td>7</td>\n",
       "      <td>7</td>\n",
       "      <td>7</td>\n",
       "      <td>2</td>\n",
       "      <td>2</td>\n",
       "      <td>2</td>\n",
       "      <td>2</td>\n",
       "      <td>7</td>\n",
       "    </tr>\n",
       "    <tr>\n",
       "      <th>5</th>\n",
       "      <td>1</td>\n",
       "      <td>1</td>\n",
       "      <td>0</td>\n",
       "      <td>0</td>\n",
       "      <td>1</td>\n",
       "      <td>1</td>\n",
       "      <td>1</td>\n",
       "      <td>0</td>\n",
       "      <td>0</td>\n",
       "      <td>0</td>\n",
       "      <td>0</td>\n",
       "      <td>1</td>\n",
       "    </tr>\n",
       "    <tr>\n",
       "      <th>UR</th>\n",
       "      <td>1</td>\n",
       "      <td>1</td>\n",
       "      <td>1</td>\n",
       "      <td>1</td>\n",
       "      <td>1</td>\n",
       "      <td>1</td>\n",
       "      <td>1</td>\n",
       "      <td>0</td>\n",
       "      <td>0</td>\n",
       "      <td>0</td>\n",
       "      <td>0</td>\n",
       "      <td>1</td>\n",
       "    </tr>\n",
       "    <tr>\n",
       "      <th rowspan=\"4\" valign=\"top\">True</th>\n",
       "      <th>0</th>\n",
       "      <td>508</td>\n",
       "      <td>508</td>\n",
       "      <td>0</td>\n",
       "      <td>0</td>\n",
       "      <td>508</td>\n",
       "      <td>508</td>\n",
       "      <td>508</td>\n",
       "      <td>508</td>\n",
       "      <td>0</td>\n",
       "      <td>1</td>\n",
       "      <td>508</td>\n",
       "      <td>508</td>\n",
       "    </tr>\n",
       "    <tr>\n",
       "      <th>1</th>\n",
       "      <td>57</td>\n",
       "      <td>57</td>\n",
       "      <td>18</td>\n",
       "      <td>13</td>\n",
       "      <td>57</td>\n",
       "      <td>57</td>\n",
       "      <td>57</td>\n",
       "      <td>57</td>\n",
       "      <td>46</td>\n",
       "      <td>41</td>\n",
       "      <td>57</td>\n",
       "      <td>57</td>\n",
       "    </tr>\n",
       "    <tr>\n",
       "      <th>2</th>\n",
       "      <td>268</td>\n",
       "      <td>268</td>\n",
       "      <td>140</td>\n",
       "      <td>121</td>\n",
       "      <td>268</td>\n",
       "      <td>268</td>\n",
       "      <td>268</td>\n",
       "      <td>268</td>\n",
       "      <td>253</td>\n",
       "      <td>240</td>\n",
       "      <td>268</td>\n",
       "      <td>268</td>\n",
       "    </tr>\n",
       "    <tr>\n",
       "      <th>3</th>\n",
       "      <td>1</td>\n",
       "      <td>1</td>\n",
       "      <td>1</td>\n",
       "      <td>1</td>\n",
       "      <td>1</td>\n",
       "      <td>1</td>\n",
       "      <td>1</td>\n",
       "      <td>1</td>\n",
       "      <td>1</td>\n",
       "      <td>1</td>\n",
       "      <td>1</td>\n",
       "      <td>1</td>\n",
       "    </tr>\n",
       "  </tbody>\n",
       "</table>\n",
       "</div>"
      ],
      "text/plain": [
       "              PATNO  EVENT_ID_x  PDMEDDT_x  PDSTATE_x  AGE_AT_VISIT  MRICMPLT  \\\n",
       "stable NHY_x                                                                    \n",
       "False  0        437         437          5          2           437       437   \n",
       "       1        340         340         64         58           340       340   \n",
       "       2        488         488        143        140           488       488   \n",
       "       3         32          32         24         23            32        32   \n",
       "       4          7           7          3          4             7         7   \n",
       "       5          1           1          0          0             1         1   \n",
       "       UR         1           1          1          1             1         1   \n",
       "True   0        508         508          0          0           508       508   \n",
       "       1         57          57         18         13            57        57   \n",
       "       2        268         268        140        121           268       268   \n",
       "       3          1           1          1          1             1         1   \n",
       "\n",
       "              next_visit  EVENT_ID_y  PDMEDDT_y  PDSTATE_y  NHY_y  SEX  \n",
       "stable NHY_x                                                            \n",
       "False  0             437          34          6          5     34  437  \n",
       "       1             340         141        120        103    141  340  \n",
       "       2             488          51         44         40     51  488  \n",
       "       3              32           8          7          6      8   32  \n",
       "       4               7           2          2          2      2    7  \n",
       "       5               1           0          0          0      0    1  \n",
       "       UR              1           0          0          0      0    1  \n",
       "True   0             508         508          0          1    508  508  \n",
       "       1              57          57         46         41     57   57  \n",
       "       2             268         268        253        240    268  268  \n",
       "       3               1           1          1          1      1    1  "
      ]
     },
     "execution_count": 9,
     "metadata": {},
     "output_type": "execute_result"
    }
   ],
   "source": [
    "visits_df.groupby(['stable', 'NHY_x']).count()"
   ]
  },
  {
   "cell_type": "markdown",
   "metadata": {},
   "source": [
    "# Matching\n",
    "\n",
    "We implemented a nearest-neighbor matching loop based on the Euclidean distance. We will match stable and progressive groups for age and sex for each H&Y value."
   ]
  },
  {
   "cell_type": "markdown",
   "metadata": {},
   "source": [
    "## Normalization\n",
    "\n",
    "We need to normalize age or else it will dominate sex in the Euclidean distance."
   ]
  },
  {
   "cell_type": "code",
   "execution_count": 10,
   "metadata": {
    "scrolled": true
   },
   "outputs": [
    {
     "data": {
      "text/html": [
       "<div>\n",
       "<style scoped>\n",
       "    .dataframe tbody tr th:only-of-type {\n",
       "        vertical-align: middle;\n",
       "    }\n",
       "\n",
       "    .dataframe tbody tr th {\n",
       "        vertical-align: top;\n",
       "    }\n",
       "\n",
       "    .dataframe thead th {\n",
       "        text-align: right;\n",
       "    }\n",
       "</style>\n",
       "<table border=\"1\" class=\"dataframe\">\n",
       "  <thead>\n",
       "    <tr style=\"text-align: right;\">\n",
       "      <th></th>\n",
       "      <th>PATNO</th>\n",
       "      <th>AGE_AT_VISIT</th>\n",
       "      <th>MRICMPLT</th>\n",
       "      <th>SEX</th>\n",
       "      <th>AGE_AT_VISIT_norm</th>\n",
       "    </tr>\n",
       "  </thead>\n",
       "  <tbody>\n",
       "    <tr>\n",
       "      <th>count</th>\n",
       "      <td>2176.000000</td>\n",
       "      <td>2176.000000</td>\n",
       "      <td>2176.0</td>\n",
       "      <td>2176.000000</td>\n",
       "      <td>2.176000e+03</td>\n",
       "    </tr>\n",
       "    <tr>\n",
       "      <th>mean</th>\n",
       "      <td>39351.693474</td>\n",
       "      <td>62.812638</td>\n",
       "      <td>1.0</td>\n",
       "      <td>0.588695</td>\n",
       "      <td>-1.123284e-15</td>\n",
       "    </tr>\n",
       "    <tr>\n",
       "      <th>std</th>\n",
       "      <td>40193.493868</td>\n",
       "      <td>9.382605</td>\n",
       "      <td>0.0</td>\n",
       "      <td>0.492183</td>\n",
       "      <td>1.000000e+00</td>\n",
       "    </tr>\n",
       "    <tr>\n",
       "      <th>min</th>\n",
       "      <td>3000.000000</td>\n",
       "      <td>30.600000</td>\n",
       "      <td>1.0</td>\n",
       "      <td>0.000000</td>\n",
       "      <td>-3.433230e+00</td>\n",
       "    </tr>\n",
       "    <tr>\n",
       "      <th>25%</th>\n",
       "      <td>3569.000000</td>\n",
       "      <td>56.875000</td>\n",
       "      <td>1.0</td>\n",
       "      <td>0.000000</td>\n",
       "      <td>-6.328347e-01</td>\n",
       "    </tr>\n",
       "    <tr>\n",
       "      <th>50%</th>\n",
       "      <td>40576.000000</td>\n",
       "      <td>63.600000</td>\n",
       "      <td>1.0</td>\n",
       "      <td>1.000000</td>\n",
       "      <td>8.391722e-02</td>\n",
       "    </tr>\n",
       "    <tr>\n",
       "      <th>75%</th>\n",
       "      <td>60060.750000</td>\n",
       "      <td>69.500000</td>\n",
       "      <td>1.0</td>\n",
       "      <td>1.000000</td>\n",
       "      <td>7.127404e-01</td>\n",
       "    </tr>\n",
       "    <tr>\n",
       "      <th>max</th>\n",
       "      <td>151111.000000</td>\n",
       "      <td>86.300000</td>\n",
       "      <td>1.0</td>\n",
       "      <td>1.000000</td>\n",
       "      <td>2.503288e+00</td>\n",
       "    </tr>\n",
       "  </tbody>\n",
       "</table>\n",
       "</div>"
      ],
      "text/plain": [
       "               PATNO  AGE_AT_VISIT  MRICMPLT          SEX  AGE_AT_VISIT_norm\n",
       "count    2176.000000   2176.000000    2176.0  2176.000000       2.176000e+03\n",
       "mean    39351.693474     62.812638       1.0     0.588695      -1.123284e-15\n",
       "std     40193.493868      9.382605       0.0     0.492183       1.000000e+00\n",
       "min      3000.000000     30.600000       1.0     0.000000      -3.433230e+00\n",
       "25%      3569.000000     56.875000       1.0     0.000000      -6.328347e-01\n",
       "50%     40576.000000     63.600000       1.0     1.000000       8.391722e-02\n",
       "75%     60060.750000     69.500000       1.0     1.000000       7.127404e-01\n",
       "max    151111.000000     86.300000       1.0     1.000000       2.503288e+00"
      ]
     },
     "execution_count": 10,
     "metadata": {},
     "output_type": "execute_result"
    }
   ],
   "source": [
    "df = visits_df\n",
    "to_normalize = ['AGE_AT_VISIT'] \n",
    "for var in to_normalize:\n",
    "    df[f'{var}_norm'] = (df[var] - df[var].mean())/df[var].std()\n",
    "df.describe()"
   ]
  },
  {
   "cell_type": "markdown",
   "metadata": {},
   "source": [
    "## Matching loop\n",
    "\n",
    "Nearest neighbor matching loop applied for each H&Y value to extract stable and progressive populations with matched sex and age."
   ]
  },
  {
   "cell_type": "code",
   "execution_count": 11,
   "metadata": {
    "scrolled": true
   },
   "outputs": [],
   "source": [
    "def nn(x, df, matched_vars):\n",
    "    '''\n",
    "    Find index of nearest neighbor of x in df\n",
    "    '''\n",
    "    \n",
    "    # Select only the subjects with the same H&Y score\n",
    "    df_hy_match = df[df['NHY_x'] == x['NHY_x'].values[0]]\n",
    " \n",
    "    # Compute squared distance between x and all elements in df, using normalized variables\n",
    "    df_hy_match['dist'] = sum((df_hy_match[f'{var}']-x[f'{var}'].values[0])**2 for var in matched_vars)\n",
    "    \n",
    "    # Return the element in df with the smallest distance\n",
    "    df_hy_match.sort_values('dist', inplace=True)\n",
    "    return df_hy_match.head(1)  ## there's probably a better way to do it but it should work\n",
    "\n",
    "def match(n, group1_df, group2_df, matched_vars):\n",
    "    '''\n",
    "    Randomly pick n elements in group1_df, then find n matching elements in group2_df.\n",
    "    Ensure that each group only contains 1 or less element from each patient and that \n",
    "    no patient has elements in both groups.\n",
    "    '''\n",
    "    \n",
    "    from numpy.random import choice, seed\n",
    "\n",
    "    # Select n random patients in group1\n",
    "    group1_patnos = pd.unique(group1_df['PATNO'])\n",
    "    seed(0)  # change this to bootstrap population\n",
    "    group1_patnos_sample = choice(group1_patnos, n, replace=False)\n",
    "    \n",
    "    # Remove the selected patients from group2\n",
    "    for p in group1_patnos_sample:\n",
    "        group2_df = group2_df[group2_df['PATNO']!=p]\n",
    "    \n",
    "    group1_matched = pd.DataFrame(columns=group1_df.columns)\n",
    "    group2_matched = pd.DataFrame(columns=group1_df.columns)\n",
    "    \n",
    "    for p in group1_patnos_sample:  # for each patient in sampled list\n",
    "        # Pick a random element from this patient in group1\n",
    "        s = group1_df[group1_df['PATNO'] == p].sample(1)\n",
    "        # Find the best match in group2\n",
    "        t = nn(s, group2_df, matched_vars)\n",
    "        # Add s and t to matched groups\n",
    "        group1_matched = group1_matched.append(s)\n",
    "        group2_matched = group2_matched.append(t)\n",
    "        # Remove t's patient from group 2 so that it doesn't get selected again\n",
    "        group2_df = group2_df[group2_df['PATNO']!=t['PATNO'].values[0]]\n",
    "    \n",
    "    return group1_matched, group2_matched\n",
    "\n",
    "matched_vars = ['AGE_AT_VISIT_norm', 'SEX']\n",
    "\n",
    "        \n",
    "# Apply matching to get 47 patients with H&Y=1\n",
    "stable1, progr1 = match(47,\n",
    "                        df[(df['stable'] == True) & (df['NHY_x'] == \"1\")],\n",
    "                        df[(df['stable'] == False) & (df['NHY_x'] == \"1\")],\n",
    "                        matched_vars)\n",
    "\n",
    "# Apply matching to get 25 patients with H&Y=2\n",
    "stable2, progr2 = match(25,\n",
    "                        df[(df['stable'] == True) & (df['NHY_x'] == \"2\")],\n",
    "                        df[(df['stable'] == False) & (df['NHY_x'] == \"2\")],\n",
    "                        matched_vars)"
   ]
  },
  {
   "cell_type": "code",
   "execution_count": 12,
   "metadata": {},
   "outputs": [],
   "source": [
    "stable = stable1.append(stable2)\n",
    "progr = progr1.append(progr2)"
   ]
  },
  {
   "cell_type": "markdown",
   "metadata": {},
   "source": [
    "## Sanity checks"
   ]
  },
  {
   "cell_type": "code",
   "execution_count": 13,
   "metadata": {},
   "outputs": [
    {
     "name": "stdout",
     "output_type": "stream",
     "text": [
      "All good!\n"
     ]
    }
   ],
   "source": [
    "for (a, b) in [(stable1, progr1), (stable2, progr2)]:\n",
    "    # Both groups have equal size\n",
    "    assert(len(a) == len(b))\n",
    "    # No patient is present more than once in each group\n",
    "    for x in [a, b]:\n",
    "        patnos_x = pd.unique(x['PATNO'])\n",
    "        assert(len(patnos_x)==len(x)), x\n",
    "    # Patients in a aren't in b\n",
    "    patnos_a = pd.unique(a['PATNO'])\n",
    "    patnos_b = pd.unique(b['PATNO'])\n",
    "    for p in patnos_a:\n",
    "        assert(p not in patnos_b), f'PATNO {p} appears in a and b'\n",
    "print('All good!')"
   ]
  },
  {
   "cell_type": "markdown",
   "metadata": {},
   "source": [
    "## Cohort summary"
   ]
  },
  {
   "cell_type": "code",
   "execution_count": 14,
   "metadata": {},
   "outputs": [
    {
     "name": "stdout",
     "output_type": "stream",
     "text": [
      "\t\t\t\t\t| Stable set (n=72)\t| Progression set (n=72)\n",
      "Age (years) \t\t\t\t| 60.77 \t\t| 60.8\n",
      "Gender [male (n)] \t\t\t| 49 \t\t\t| 49\n",
      "Hoehn & Yahr (n) \t Stage 1 \t| 47 \t\t\t| 47\n",
      "\t\t\t Stage 2 \t| 25 \t\t\t| 25\n",
      "\t\t\t Stage 3 \t| 0 \t\t\t| 0\n"
     ]
    }
   ],
   "source": [
    "import os\n",
    "print(f\"\\t\\t\\t\\t\\t| Stable set (n={len(stable)})\\t| Progression set (n={len(progr)})\" + os.linesep +\n",
    "       f\"Age (years) \\t\\t\\t\\t| {round(stable['AGE_AT_VISIT'].mean(),2)} \\t\\t| {round(progr['AGE_AT_VISIT'].mean(),2)}\" + os.linesep + \n",
    "       f\"Gender [male (n)] \\t\\t\\t| {len(stable[stable['SEX']==1])} \\t\\t\\t| {len(progr[progr['SEX']==1])}\" + os.linesep +\n",
    "       f\"Hoehn & Yahr (n) \\t Stage 1 \\t| {len(stable[stable['NHY_x']=='1'])} \\t\\t\\t| {len(progr[progr['NHY_x']=='1'])}\" + os.linesep +\n",
    "       f\"\\t\\t\\t Stage 2 \\t| {len(stable[stable['NHY_x']=='2'])} \\t\\t\\t| {len(progr[progr['NHY_x']=='2'])}\" + os.linesep +\n",
    "       f\"\\t\\t\\t Stage 3 \\t| {len(stable[stable['NHY_x']=='3'])} \\t\\t\\t| {len(progr[progr['NHY_x']=='3'])}\"\n",
    "\n",
    ")"
   ]
  },
  {
   "cell_type": "code",
   "execution_count": 15,
   "metadata": {},
   "outputs": [
    {
     "data": {
      "text/plain": [
       "<AxesSubplot:>"
      ]
     },
     "execution_count": 15,
     "metadata": {},
     "output_type": "execute_result"
    },
    {
     "data": {
      "image/png": "[encoded data removed]",
      "text/plain": [
       "<Figure size 432x288 with 1 Axes>"
      ]
     },
     "metadata": {
      "needs_background": "light"
     },
     "output_type": "display_data"
    }
   ],
   "source": [
    "stable['EVENT_ID_x'].hist()"
   ]
  },
  {
   "cell_type": "code",
   "execution_count": 16,
   "metadata": {},
   "outputs": [
    {
     "data": {
      "text/plain": [
       "<AxesSubplot:>"
      ]
     },
     "execution_count": 16,
     "metadata": {},
     "output_type": "execute_result"
    },
    {
     "data": {
      "image/png": "[encoded data removed]",
      "text/plain": [
       "<Figure size 432x288 with 1 Axes>"
      ]
     },
     "metadata": {
      "needs_background": "light"
     },
     "output_type": "display_data"
    }
   ],
   "source": [
    "progr['EVENT_ID_x'].hist()"
   ]
  },
  {
   "cell_type": "code",
   "execution_count": null,
   "metadata": {},
   "outputs": [],
   "source": []
  }
 ],
 "metadata": {
  "kernelspec": {
   "display_name": "Python 3",
   "language": "python",
   "name": "python3"
  },
  "language_info": {
   "codemirror_mode": {
    "name": "ipython",
    "version": 3
   },
   "file_extension": ".py",
   "mimetype": "text/x-python",
   "name": "python",
   "nbconvert_exporter": "python",
   "pygments_lexer": "ipython3",
   "version": "3.8.9"
  },
  "toc": {
   "base_numbering": 1,
   "nav_menu": {},
   "number_sections": true,
   "sideBar": true,
   "skip_h1_title": false,
   "title_cell": "Table of Contents",
   "title_sidebar": "Contents",
   "toc_cell": false,
   "toc_position": {},
   "toc_section_display": true,
   "toc_window_display": false
  }
 },
 "nbformat": 4,
 "nbformat_minor": 4
}
