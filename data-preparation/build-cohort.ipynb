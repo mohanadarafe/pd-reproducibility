{
 "cells": [
  {
   "cell_type": "markdown",
   "id": "8dd46848",
   "metadata": {},
   "source": [
    "## Building cohort\n",
    "\n",
    "In this notebook, we use PPMI's MDS_UPDRS_Part_III file to extract a cohort of progressive and stable patients."
   ]
  },
  {
   "cell_type": "code",
   "execution_count": 1,
   "id": "e3b6efdc",
   "metadata": {},
   "outputs": [],
   "source": [
    "import os\n",
    "import pandas as pd\n",
    "import numpy as np"
   ]
  },
  {
   "cell_type": "markdown",
   "id": "17e9ed08",
   "metadata": {},
   "source": [
    "#### Build dataframe containing patients with BL and V08"
   ]
  },
  {
   "cell_type": "code",
   "execution_count": 7,
   "id": "5bab708a",
   "metadata": {},
   "outputs": [],
   "source": [
    "def get_df(visitFrom=\"BL\", visitTo=\"V08\", dataFile=\"../data/ppmi-data/HY_Baseline_Stage.csv\"):\n",
    "    df = pd.read_csv(dataFile)\n",
    "    df = df[[\"PATNO\", \"EVENT_ID\", \"NHY\"]]\n",
    "\n",
    "    # Remove null and missing data\n",
    "    df = df.dropna(subset=['NHY'])\n",
    "\n",
    "    # Keep BL and V08 patients\n",
    "    df = df[(df[\"EVENT_ID\"] == visitFrom) | (df[\"EVENT_ID\"] == visitTo)]\n",
    "\n",
    "    # Remove rows with missing info\n",
    "    listOfSubjectID = df[\"PATNO\"].unique()\n",
    "    for subId in listOfSubjectID:\n",
    "        if not(visitFrom in df[df[\"PATNO\"] == subId][\"EVENT_ID\"].values and visitTo in df[df[\"PATNO\"] == subId][\"EVENT_ID\"].values):\n",
    "            indexNames = df[ df['PATNO'] == subId ].index\n",
    "            df.drop(indexNames , inplace=True)\n",
    "\n",
    "        if len(df[df[\"PATNO\"] == subId]) != 2:\n",
    "            indexNames = df[ df['PATNO'] == subId ].index\n",
    "            df.drop(indexNames , inplace=True)\n",
    "\n",
    "        if (\"0\" in df[df[\"PATNO\"] == subId][\"NHY\"].values or 0 in df[df[\"PATNO\"] == subId][\"NHY\"].values):\n",
    "            indexNames = df[ df['PATNO'] == subId ].index\n",
    "            df.drop(indexNames , inplace=True)\n",
    "\n",
    "    df = df.rename(columns={\"PATNO\":\"subjectId\"})\n",
    "    return df\n",
    "\n",
    "def build_df_cohort(df, cohort, visitFrom=\"BL\", visitTo=\"V08\"):\n",
    "    baselineStageList = []\n",
    "    followUpStageList = []\n",
    "\n",
    "    tempDf = df.copy()\n",
    "\n",
    "    for subId in tempDf[\"subjectId\"].values:\n",
    "        baselineStage = tempDf.loc[(tempDf['subjectId'] == subId) & (tempDf['EVENT_ID'] == visitFrom)][\"NHY\"].values[0]\n",
    "        followUpStage = tempDf.loc[(tempDf['subjectId'] == subId) & (tempDf['EVENT_ID'] == visitTo)][\"NHY\"].values[0]\n",
    "        baselineStageList.append(baselineStage)\n",
    "        followUpStageList.append(followUpStage)\n",
    "\n",
    "    tempDf[\"initialHY\"] = baselineStageList\n",
    "    tempDf[\"followUpHY\"] = followUpStageList\n",
    "    tempDf[\"group\"] = (tempDf[\"initialHY\"] < tempDf[\"followUpHY\"]).astype(int)\n",
    "    \n",
    "    progressiveIds = tempDf[tempDf[\"group\"] == 1][\"subjectId\"].unique()\n",
    "    stableIds = tempDf[tempDf[\"group\"] == 0][\"subjectId\"].unique()\n",
    "    \n",
    "    if cohort == \"progressive\":\n",
    "        return progressiveIds\n",
    "    if cohort == \"stable\":\n",
    "        return stableIds\n",
    "\n",
    "def build_cohort_per_3y_gap(dataFile=\"../data/ppmi-data/HY_Baseline_Stage.csv\", cohort=\"progressive\", progressiveIds=None):\n",
    "    '''\n",
    "    Build cohort using all patients that have 3 year difference in visits available.\n",
    "    '''\n",
    "    subjectDict = {}\n",
    "    subjectIds = set()\n",
    "    visitFrom = [\"BL\", \"V02\", \"V04\", \"V05\", \"V06\", \"V08\", \"V10\", \"V12\", \"V13\", \"V15\", \"V16\", \"V17\"]\n",
    "    visitTo = [\"V08\", \"V09\", \"V10\", \"V11\", \"V12\", \"V13\", \"V14\", \"V15\", \"V16\", \"V18\", \"V19\", \"V20\"]\n",
    "    for index, visit in enumerate(visitFrom):\n",
    "        print(f\"Getting subjects from {visit} to {visitTo[index]}...\")\n",
    "        vFrom = visit\n",
    "        vTo = visitTo[index]\n",
    "        df = get_df(vFrom, vTo, dataFile)\n",
    "        cohort_df = build_df_cohort(df, cohort, visitFrom=vFrom, visitTo=vTo)\n",
    "        \n",
    "        # Once we fetched the progressive patients, we select stable patients and ensure that they\n",
    "        # are not already in the progressive cohort.\n",
    "        if cohort == \"stable\":\n",
    "            for subjectId in cohort_df:\n",
    "                if subjectId not in progressiveIds:\n",
    "                    subjectIds.add(subjectId)\n",
    "        else:\n",
    "            subjectIds.update(cohort_df)\n",
    "            \n",
    "        # Save a dictionary to know each patient is taken from which visits\n",
    "        for subjectId in subjectIds:\n",
    "            if subjectId not in subjectDict:\n",
    "                subjectDict[subjectId] = f'{vFrom}-{vTo}'\n",
    "\n",
    "    return subjectIds, subjectDict"
   ]
  },
  {
   "cell_type": "code",
   "execution_count": 8,
   "id": "d7a8b47d",
   "metadata": {},
   "outputs": [
    {
     "name": "stdout",
     "output_type": "stream",
     "text": [
      "==============Fetching all progressive patients with 3y gap visits==============\n",
      "Getting subjects from BL to V08...\n"
     ]
    },
    {
     "name": "stderr",
     "output_type": "stream",
     "text": [
      "c:\\users\\mohanadarafe\\appdata\\local\\programs\\python\\python37-32\\lib\\site-packages\\ipykernel_launcher.py:65: DtypeWarning: Columns (10,17,18,19,20) have mixed types.Specify dtype option on import or set low_memory=False.\n"
     ]
    },
    {
     "name": "stdout",
     "output_type": "stream",
     "text": [
      "Getting subjects from V02 to V09...\n",
      "Getting subjects from V04 to V10...\n",
      "Getting subjects from V05 to V11...\n",
      "Getting subjects from V06 to V12...\n",
      "Getting subjects from V08 to V13...\n",
      "Getting subjects from V10 to V14...\n",
      "Getting subjects from V12 to V15...\n",
      "Getting subjects from V13 to V16...\n",
      "Getting subjects from V15 to V18...\n",
      "Getting subjects from V16 to V19...\n",
      "Getting subjects from V17 to V20...\n",
      "==============Fetching all stable patients with 3y gap visits==============\n",
      "Getting subjects from BL to V08...\n",
      "Getting subjects from V02 to V09...\n",
      "Getting subjects from V04 to V10...\n",
      "Getting subjects from V05 to V11...\n",
      "Getting subjects from V06 to V12...\n",
      "Getting subjects from V08 to V13...\n",
      "Getting subjects from V10 to V14...\n",
      "Getting subjects from V12 to V15...\n",
      "Getting subjects from V13 to V16...\n",
      "Getting subjects from V15 to V18...\n",
      "Getting subjects from V16 to V19...\n",
      "Getting subjects from V17 to V20...\n"
     ]
    }
   ],
   "source": [
    "HY_BASELINE_FILE = \"../data/ppmi-data/HY_Baseline_Stage.csv\"\n",
    "UPDRS_FILE = \"../data/ppmi-data/MDS_UPDRS_Part_III.csv\"\n",
    "\n",
    "print(\"==============Fetching all progressive patients with 3y gap visits==============\")\n",
    "progressiveSubjectsIds, progressiveDict = build_cohort_per_3y_gap(dataFile=UPDRS_FILE, cohort=\"progressive\")\n",
    "print(\"==============Fetching all stable patients with 3y gap visits==============\")\n",
    "stableSubjectsIds, stableDict = build_cohort_per_3y_gap(dataFile=UPDRS_FILE, cohort=\"stable\", progressiveIds=progressiveSubjectsIds)"
   ]
  },
  {
   "cell_type": "code",
   "execution_count": 9,
   "id": "a3be5361",
   "metadata": {
    "scrolled": true
   },
   "outputs": [
    {
     "name": "stdout",
     "output_type": "stream",
     "text": [
      "Progressive subjects IDs: - 252 patients\n",
      "3588,3076,3078,3591,4103,4109,3086,4111,4112,4113,41486,3603,3604,4117,4115,3609,3102,3616,3105,3621,3622,3111,4135,3625,3116,3631,41521,3123,3638,50746,3130,53308,3650,3653,3654,3660,3150,3664,3665,3666,72784,40538,53339,3166,41568,60004,3173,3175,40553,3179,3180,3184,3185,3186,3700,3190,3711,60033,40578,60035,3203,3207,18567,42121,40585,3211,3212,40592,3218,3220,3223,3226,3227,3229,3230,3231,3233,60065,3752,50860,3757,3758,3760,3763,3251,3252,3766,3770,3773,3776,3778,3268,3269,3781,3780,3785,3787,3789,3791,3792,3793,3795,3802,3815,3305,3818,3308,3309,3822,3311,3312,3313,3823,3825,3826,40691,40693,3829,3830,3831,3832,3835,3323,3834,40694,40703,40704,3328,85242,3332,40709,16644,40713,40714,3856,3866,40730,3354,3869,3870,40733,3364,3365,3371,3372,3373,3377,40755,3385,3386,3387,3392,41281,40769,41282,42308,41285,41280,41287,41289,40777,3914,40778,41293,92490,3407,41295,55124,90456,41305,3417,3419,3420,3421,40800,3429,3431,42346,3435,3439,3951,3953,3445,3957,3964,41342,3455,54144,3454,3459,3465,3469,3470,3472,3473,3475,3482,41375,4005,50088,51625,41384,4011,3500,3501,3502,42415,3505,4019,3507,4021,4020,4024,3001,3514,4027,3003,50621,42429,3512,3522,4034,41410,4037,42438,54215,3528,3529,3530,4038,3020,3532,42448,3024,4051,40916,3540,4054,4055,4056,42452,4057,4059,3552,3050,3058,3059,51186,3066,4093,4094,50175\n",
      "\n",
      "Stable subjects IDs: - 267 patients \n",
      "3584,3585,4098,4099,41985,3589,3077,4101,4102,41989,4106,3083,4107,3080,4110,3592,50192,3088,3089,51731,3601,3605,3606,3607,3612,3107,41508,3108,3110,3629,3118,3119,3632,41519,3634,41522,51252,3125,41526,3126,3128,3120,3122,3131,3132,3124,3134,55875,3575,3577,3154,3162,14426,40540,3168,3174,4091,3176,41578,40555,4092,60013,3182,40558,3178,3181,40560,3701,3702,3704,3705,3708,3709,3587,4096,51844,3205,3209,40586,3214,50319,40590,55441,40595,40599,3224,3225,40603,3228,3593,73887,3234,40611,3762,3254,3771,42171,4108,3775,41664,3777,16580,3275,3278,3279,3280,3281,3282,3284,41172,3285,50901,3800,40671,41184,3808,72419,53988,3814,3819,3307,3824,51440,40690,40692,3828,3321,3322,3325,40702,3327,3838,40707,3352,40731,3359,3360,3366,3367,50983,75564,3374,3375,3378,52530,3380,50485,40754,3383,40760,40763,3900,51518,3903,3904,3905,55615,53060,3911,41288,40776,3400,3916,40781,3406,3409,40789,3415,3418,3422,3423,51551,52062,53600,40806,3430,3432,3433,3434,3436,50028,42351,40816,55151,3954,3442,3444,3443,3446,3960,3961,3448,50044,3970,3461,3462,3467,41356,3471,40338,3476,73115,52128,4001,41380,41382,56744,4012,4013,40366,3504,51632,40882,52146,42418,54197,4022,41399,41400,4025,4026,41401,3516,40893,4030,4029,3002,4033,3010,4035,3012,41412,52678,3018,41420,3021,3023,42447,3027,3028,4052,3542,42454,42455,4058,3556,3557,4070,3559,4071,4072,4073,3051,3052,3564,50157,3567,3056,4081,4082,3060,3061,3574,3062,54265,3067,3068\n"
     ]
    }
   ],
   "source": [
    "print(f\"Progressive subjects IDs: - {len(progressiveSubjectsIds)} patients\\n{','.join(map(str, progressiveSubjectsIds))}\\n\")\n",
    "print(f\"Stable subjects IDs: - {len(stableSubjectsIds)} patients \\n{','.join(map(str, stableSubjectsIds))}\")"
   ]
  },
  {
   "cell_type": "markdown",
   "id": "f521714d",
   "metadata": {},
   "source": [
    "#### Build progressive and stable cohort dataframe"
   ]
  },
  {
   "cell_type": "code",
   "execution_count": 10,
   "id": "da1b2500",
   "metadata": {},
   "outputs": [],
   "source": [
    "progressivePatients = \"../data/ppmi-data/prog.csv\"\n",
    "stablePatients = \"../data/ppmi-data/stable.csv\"\n",
    "\n",
    "progDf = pd.read_csv(progressivePatients)\n",
    "progDf = progDf.rename(columns={\"Subject ID\":\"subjectId\", \"Sex\": \"gen\", \"Age\": \"age\"})\n",
    "progDf = progDf[[\"subjectId\", \"gen\", \"age\"]]\n",
    "progDf['gen'] = progDf['gen'].map(dict(zip(['M','F'],[1,2])))\n",
    "\n",
    "stableDf = pd.read_csv(stablePatients)\n",
    "stableDf = stableDf.rename(columns={\"Subject ID\":\"subjectId\", \"Sex\": \"gen\", \"Age\": \"age\"})\n",
    "stableDf = stableDf[[\"subjectId\", \"gen\", \"age\"]]\n",
    "stableDf['gen'] = stableDf['gen'].map(dict(zip(['M','F'],[1,2])))"
   ]
  },
  {
   "cell_type": "markdown",
   "id": "d953c025",
   "metadata": {},
   "source": [
    "#### Get dataframe for each 3y gaps"
   ]
  },
  {
   "cell_type": "code",
   "execution_count": 22,
   "id": "cf25e501",
   "metadata": {},
   "outputs": [],
   "source": [
    "def get_df_dict(dataFile):\n",
    "    df_per_range = {}\n",
    "    visitFrom = [\"BL\", \"V02\", \"V04\", \"V05\", \"V06\", \"V08\", \"V10\", \"V12\", \"V13\", \"V15\", \"V16\", \"V17\"]\n",
    "    visitTo = [\"V08\", \"V09\", \"V10\", \"V11\", \"V12\", \"V13\", \"V14\", \"V15\", \"V16\", \"V18\", \"V19\", \"V20\"]\n",
    "\n",
    "    for index, vFrom in enumerate(visitFrom):\n",
    "        vTo = visitTo[index]\n",
    "        print(f\"Building dataframe for {vFrom}-{vTo}...\")\n",
    "        df_temp = get_df(vFrom, vTo, dataFile)\n",
    "        rangeKey = f\"{vFrom}-{vTo}\"\n",
    "        df_per_range[rangeKey] = df_temp\n",
    "    \n",
    "    return df_per_range"
   ]
  },
  {
   "cell_type": "markdown",
   "id": "643e8261",
   "metadata": {},
   "source": [
    "#### Add initial and final NHY per cohort"
   ]
  },
  {
   "cell_type": "code",
   "execution_count": 31,
   "id": "c7ee3223",
   "metadata": {},
   "outputs": [],
   "source": [
    "def add_nhy(cohortDf, cohortDict, dataFile):\n",
    "    baselineStageList = []\n",
    "    followUpStageList = []\n",
    "    df_dict = get_df_dict(dataFile)\n",
    "\n",
    "    for subId in cohortDf[\"subjectId\"].values:\n",
    "        vFrom, vTo = cohortDict[subId].split(\"-\")\n",
    "        df = df_dict[f'{vFrom}-{vTo}']\n",
    "        baselineStage = df.loc[(df['subjectId'] == subId) & (df['EVENT_ID'] == vFrom)][\"NHY\"].values[0]\n",
    "        followUpStage = df.loc[(df['subjectId'] == subId) & (df['EVENT_ID'] == vTo)][\"NHY\"].values[0]\n",
    "        baselineStageList.append(baselineStage)\n",
    "        followUpStageList.append(followUpStage)\n",
    "\n",
    "    cohortDf[\"initialHY\"] = baselineStageList\n",
    "    cohortDf[\"followUpHY\"] = followUpStageList\n",
    "    return cohortDf"
   ]
  },
  {
   "cell_type": "code",
   "execution_count": 32,
   "id": "d8810014",
   "metadata": {},
   "outputs": [
    {
     "name": "stdout",
     "output_type": "stream",
     "text": [
      "=================Adding initial and final HY to progressive dataframe=================\n",
      "Building dataframe for BL-V08...\n"
     ]
    },
    {
     "name": "stderr",
     "output_type": "stream",
     "text": [
      "c:\\users\\mohanadarafe\\appdata\\local\\programs\\python\\python37-32\\lib\\site-packages\\ipykernel_launcher.py:9: DtypeWarning: Columns (10,17,18,19,20) have mixed types.Specify dtype option on import or set low_memory=False.\n",
      "  if __name__ == '__main__':\n"
     ]
    },
    {
     "name": "stdout",
     "output_type": "stream",
     "text": [
      "Building dataframe for V02-V09...\n",
      "Building dataframe for V04-V10...\n",
      "Building dataframe for V05-V11...\n",
      "Building dataframe for V06-V12...\n",
      "Building dataframe for V08-V13...\n",
      "Building dataframe for V10-V14...\n",
      "Building dataframe for V12-V15...\n",
      "Building dataframe for V13-V16...\n",
      "Building dataframe for V15-V18...\n",
      "Building dataframe for V16-V19...\n",
      "Building dataframe for V17-V20...\n",
      "=================Adding initial and final HY to stable dataframe=================\n",
      "Building dataframe for BL-V08...\n",
      "Building dataframe for V02-V09...\n",
      "Building dataframe for V04-V10...\n",
      "Building dataframe for V05-V11...\n",
      "Building dataframe for V06-V12...\n",
      "Building dataframe for V08-V13...\n",
      "Building dataframe for V10-V14...\n",
      "Building dataframe for V12-V15...\n",
      "Building dataframe for V13-V16...\n",
      "Building dataframe for V15-V18...\n",
      "Building dataframe for V16-V19...\n",
      "Building dataframe for V17-V20...\n"
     ]
    }
   ],
   "source": [
    "print(\"=================Adding initial and final HY to progressive dataframe=================\")\n",
    "progDf = add_nhy(progDf, progressiveDict, dataFile=UPDRS_FILE)\n",
    "print(\"=================Adding initial and final HY to stable dataframe=================\")\n",
    "stableDf = add_nhy(stableDf, stableDict, dataFile=UPDRS_FILE)"
   ]
  },
  {
   "cell_type": "markdown",
   "id": "24df735f",
   "metadata": {},
   "source": [
    "#### Save dataframes"
   ]
  },
  {
   "cell_type": "code",
   "execution_count": 33,
   "id": "f2bf7bb3",
   "metadata": {},
   "outputs": [
    {
     "data": {
      "text/html": [
       "<div>\n",
       "<style scoped>\n",
       "    .dataframe tbody tr th:only-of-type {\n",
       "        vertical-align: middle;\n",
       "    }\n",
       "\n",
       "    .dataframe tbody tr th {\n",
       "        vertical-align: top;\n",
       "    }\n",
       "\n",
       "    .dataframe thead th {\n",
       "        text-align: right;\n",
       "    }\n",
       "</style>\n",
       "<table border=\"1\" class=\"dataframe\">\n",
       "  <thead>\n",
       "    <tr style=\"text-align: right;\">\n",
       "      <th></th>\n",
       "      <th>subjectId</th>\n",
       "      <th>gen</th>\n",
       "      <th>age</th>\n",
       "      <th>initialHY</th>\n",
       "      <th>followUpHY</th>\n",
       "      <th>group</th>\n",
       "    </tr>\n",
       "  </thead>\n",
       "  <tbody>\n",
       "    <tr>\n",
       "      <th>0</th>\n",
       "      <td>3001</td>\n",
       "      <td>1</td>\n",
       "      <td>65.1</td>\n",
       "      <td>1</td>\n",
       "      <td>2</td>\n",
       "      <td>1</td>\n",
       "    </tr>\n",
       "    <tr>\n",
       "      <th>1</th>\n",
       "      <td>3003</td>\n",
       "      <td>2</td>\n",
       "      <td>56.7</td>\n",
       "      <td>2</td>\n",
       "      <td>3</td>\n",
       "      <td>1</td>\n",
       "    </tr>\n",
       "    <tr>\n",
       "      <th>2</th>\n",
       "      <td>3020</td>\n",
       "      <td>2</td>\n",
       "      <td>74.0</td>\n",
       "      <td>2</td>\n",
       "      <td>3</td>\n",
       "      <td>1</td>\n",
       "    </tr>\n",
       "    <tr>\n",
       "      <th>3</th>\n",
       "      <td>3024</td>\n",
       "      <td>1</td>\n",
       "      <td>52.7</td>\n",
       "      <td>1</td>\n",
       "      <td>2</td>\n",
       "      <td>1</td>\n",
       "    </tr>\n",
       "    <tr>\n",
       "      <th>4</th>\n",
       "      <td>3059</td>\n",
       "      <td>1</td>\n",
       "      <td>83.0</td>\n",
       "      <td>2</td>\n",
       "      <td>3</td>\n",
       "      <td>1</td>\n",
       "    </tr>\n",
       "    <tr>\n",
       "      <th>...</th>\n",
       "      <td>...</td>\n",
       "      <td>...</td>\n",
       "      <td>...</td>\n",
       "      <td>...</td>\n",
       "      <td>...</td>\n",
       "      <td>...</td>\n",
       "    </tr>\n",
       "    <tr>\n",
       "      <th>195</th>\n",
       "      <td>53060</td>\n",
       "      <td>1</td>\n",
       "      <td>68.1</td>\n",
       "      <td>2</td>\n",
       "      <td>2</td>\n",
       "      <td>0</td>\n",
       "    </tr>\n",
       "    <tr>\n",
       "      <th>196</th>\n",
       "      <td>53060</td>\n",
       "      <td>1</td>\n",
       "      <td>68.1</td>\n",
       "      <td>2</td>\n",
       "      <td>2</td>\n",
       "      <td>0</td>\n",
       "    </tr>\n",
       "    <tr>\n",
       "      <th>197</th>\n",
       "      <td>54265</td>\n",
       "      <td>1</td>\n",
       "      <td>75.2</td>\n",
       "      <td>2</td>\n",
       "      <td>2</td>\n",
       "      <td>0</td>\n",
       "    </tr>\n",
       "    <tr>\n",
       "      <th>198</th>\n",
       "      <td>55875</td>\n",
       "      <td>1</td>\n",
       "      <td>59.0</td>\n",
       "      <td>2</td>\n",
       "      <td>2</td>\n",
       "      <td>0</td>\n",
       "    </tr>\n",
       "    <tr>\n",
       "      <th>199</th>\n",
       "      <td>73115</td>\n",
       "      <td>2</td>\n",
       "      <td>65.4</td>\n",
       "      <td>1</td>\n",
       "      <td>1</td>\n",
       "      <td>0</td>\n",
       "    </tr>\n",
       "  </tbody>\n",
       "</table>\n",
       "<p>377 rows × 6 columns</p>\n",
       "</div>"
      ],
      "text/plain": [
       "     subjectId  gen   age initialHY followUpHY  group\n",
       "0         3001    1  65.1         1          2      1\n",
       "1         3003    2  56.7         2          3      1\n",
       "2         3020    2  74.0         2          3      1\n",
       "3         3024    1  52.7         1          2      1\n",
       "4         3059    1  83.0         2          3      1\n",
       "..         ...  ...   ...       ...        ...    ...\n",
       "195      53060    1  68.1         2          2      0\n",
       "196      53060    1  68.1         2          2      0\n",
       "197      54265    1  75.2         2          2      0\n",
       "198      55875    1  59.0         2          2      0\n",
       "199      73115    2  65.4         1          1      0\n",
       "\n",
       "[377 rows x 6 columns]"
      ]
     },
     "execution_count": 33,
     "metadata": {},
     "output_type": "execute_result"
    }
   ],
   "source": [
    "final_df = pd.concat([progDf, stableDf])\n",
    "final_df[\"group\"] = final_df[\"initialHY\"] < final_df[\"followUpHY\"]\n",
    "final_df[\"group\"] = final_df[\"group\"].astype(int)\n",
    "final_df.to_csv(\"../data/volume-data/cohortBeforeMatching.csv\")\n",
    "final_df"
   ]
  }
 ],
 "metadata": {
  "kernelspec": {
   "display_name": "Python 3 (ipykernel)",
   "language": "python",
   "name": "python3"
  },
  "language_info": {
   "codemirror_mode": {
    "name": "ipython",
    "version": 3
   },
   "file_extension": ".py",
   "mimetype": "text/x-python",
   "name": "python",
   "nbconvert_exporter": "python",
   "pygments_lexer": "ipython3",
   "version": "3.7.9"
  }
 },
 "nbformat": 4,
 "nbformat_minor": 5
}
