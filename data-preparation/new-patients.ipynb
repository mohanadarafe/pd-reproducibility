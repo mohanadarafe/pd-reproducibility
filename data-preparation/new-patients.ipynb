{
 "cells": [
  {
   "cell_type": "markdown",
   "id": "bb9937b3",
   "metadata": {},
   "source": [
    "# New PPMI patients\n",
    "\n",
    "We will use this notebook to get more patients from the PPMI dataset. The goal is to reach patients per group. We currently have 48 per group. **The goal is to add as many new patients as we can to match 72 patients per group.**"
   ]
  },
  {
   "cell_type": "code",
   "execution_count": 1,
   "id": "43b8450f",
   "metadata": {},
   "outputs": [],
   "source": [
    "import os\n",
    "import pandas as pd\n",
    "import numpy as np"
   ]
  },
  {
   "cell_type": "code",
   "execution_count": 2,
   "id": "e53a6093",
   "metadata": {},
   "outputs": [],
   "source": [
    "def print_variable_stats(df):\n",
    "    stable_gender = df[(df['gen']==1) & (df['group']==0)].shape[0] / len(df[df[\"group\"]==0])\n",
    "    progressive_gender = df[(df['gen']==1) & (df['group']==1)].shape[0] / len(df[df[\"group\"]==1])\n",
    "    \n",
    "    print(f\"Stable group - Gender [male (n, %)]: {df[(df['gen']==1) & (df['group']==0)].shape[0]} ({stable_gender*100})\")\n",
    "    print(f\"Progressive group - Gender [male (n, %)]: {df[(df['gen']==1) & (df['group']==1)].shape[0]} ({progressive_gender*100})\\n\")\n",
    "    \n",
    "    age_prog_mean = df[df[\"group\"]==1][\"age\"].mean()\n",
    "    age_prog_std = df[df[\"group\"]==1][\"age\"].std()\n",
    "    age_stable_mean = df[df[\"group\"]==0][\"age\"].mean()\n",
    "    age_stable_std = df[df[\"group\"]==0][\"age\"].std()\n",
    "    print(f\"Progressive group - Age: {age_prog_mean} +- {age_prog_std}\")\n",
    "    print(f\"Stable group - Age: {age_stable_mean} +- {age_stable_std}\\n\")\n",
    "    \n",
    "    stage1_stable = len(df[(df[\"group\"]==0) & (df[\"initialHY\"]==1)])\n",
    "    stage1_prog = len(df[(df[\"group\"]==1) & (df[\"initialHY\"]==1)])\n",
    "    stage2_stable = len(df[(df[\"group\"]==0) & (df[\"initialHY\"]==2)])\n",
    "    stage2_prog = len(df[(df[\"group\"]==1) & (df[\"initialHY\"]==2)])\n",
    "    \n",
    "    print(f\"H&Y stage 1 stable/progressive: {stage1_stable}/{stage1_prog}\")\n",
    "    print(f\"H&Y stage 2 stable/progressive: {stage2_stable}/{stage2_prog}\\n\")\n",
    "    \n",
    "    print(f\"Stable dataset size: {len(df[df['group'] == 0])}\")\n",
    "    print(f\"Progressive dataset size: {len(df[df['group'] == 1])}\")"
   ]
  },
  {
   "cell_type": "markdown",
   "id": "2261a01c",
   "metadata": {},
   "source": [
    "### Using entire PPMI data to filter our needs\n",
    "\n",
    "The following dataframe is a data file from PPMI containing data on all scans. We will narrow it down to the following filters:\n",
    "\n",
    "- BL & V08 H&Y stage available\n",
    "- Stage 1+ (remove stage0 patients)"
   ]
  },
  {
   "cell_type": "code",
   "execution_count": 3,
   "id": "462d04ce",
   "metadata": {},
   "outputs": [
    {
     "name": "stdout",
     "output_type": "stream",
     "text": [
      "[3001 3002 3003 3010 3012 3018 3020 3021 3023 3024 3027 3028 3050 3051\n",
      " 3052 3054 3056 3058 3059 3060 3061 3062 3066 3067 3068 3076 3077 3078\n",
      " 3080 3083 3088 3089 3102 3105 3107 3108 3110 3111 3113 3116 3118 3119\n",
      " 3120 3122 3123 3124 3125 3126 3127 3128 3130 3131 3132 3134 3150 3154\n",
      " 3162 3166 3168 3173 3174 3175 3176 3178 3179 3180 3181 3182 3185 3186\n",
      " 3190 3203 3205 3207 3209 3211 3212 3214 3218 3220 3223 3224 3225 3226\n",
      " 3227 3228 3229 3230 3231 3234 3251 3252 3268 3269 3279 3280 3282 3284\n",
      " 3285 3305 3307 3308 3309 3311 3312 3313 3321 3322 3323 3325 3328 3332\n",
      " 3333 3352 3359 3360 3364 3365 3366 3367 3371 3372 3373 3374 3377 3378\n",
      " 3380 3383 3385 3386 3387 3400 3403 3406 3407 3409 3415 3417 3418 3419\n",
      " 3420 3421 3422 3423 3429 3430 3432 3433 3434 3435 3436 3439 3442 3443\n",
      " 3444 3445 3446 3448 3451 3454 3455 3459 3461 3462 3467 3469 3470 3471\n",
      " 3472 3473 3475 3476 3482 3500 3507 3516 3522 3528 3530 3532 3542 3552\n",
      " 3556 3557 3559 3564 3567 3575 3577 3585 3586 3587 3588 3589 3591 3593\n",
      " 3603 3604 3607 3609 3612 3621 3622 3625 3629 3631 3632 3634 3638 3650\n",
      " 3653 3654 3660 3661 3664 3665 3700 3701 3702 3704 3705 3708 3709 3710\n",
      " 3711 3752 3757 3758 3760 3762 3770 3771 3773 3775 3776 3777 3778 3780\n",
      " 3781 3785 3787 3791 3792 3793 3795 3800 3802 3808 3814 3815 3818 3819\n",
      " 3822 3823 3824 3825 3826 3828 3829 3830 3831 3832 3834 3835 3838 3856\n",
      " 3866 3869 3870 3900 3903 3904 3905 3910 3911 3914 3916 3951 3953 3954\n",
      " 3960 3961 3964 3970 4001 4005 4011 4012 4019 4020 4021 4022 4024 4025\n",
      " 4026 4027 4029 4033 4034 4035 4037 4038 4051 4052 4054 4055 4056 4057\n",
      " 4058 4059 4070 4071 4072 4073 4076 4077 4081 4082 4083 4091 4092 4093\n",
      " 4094 4096 4098 4099 4101 4102 4103 4106 4107 4108 4109 4110 4111 4112\n",
      " 4113 4115 4117 4121 4123 4124 4126 4135]\n",
      "There are 344 patients available.\n"
     ]
    }
   ],
   "source": [
    "baselineData = \"../data/ppmi-data/HY_Baseline_Stage.csv\"\n",
    "df = pd.read_csv(baselineData)\n",
    "df = df[[\"PATNO\", \"EVENT_ID\", \"hy_on\"]]\n",
    "\n",
    "\n",
    "# Remove null and missing data\n",
    "df = df.dropna(subset=['hy_on'])\n",
    "df = df[df['hy_on'].apply(lambda x: isinstance(x, float))]\n",
    "\n",
    "# Keep BL and V08 patients\n",
    "df = df[(df[\"EVENT_ID\"] == \"BL\") | (df[\"EVENT_ID\"] == \"V08\")]\n",
    "\n",
    "# Remove rows with missing info\n",
    "listOfSubjectID = df[\"PATNO\"].unique()\n",
    "for subId in listOfSubjectID:\n",
    "    if len(df[df[\"PATNO\"] == subId]) != 2:\n",
    "        indexNames = df[ df['PATNO'] == subId ].index\n",
    "        df.drop(indexNames , inplace=True)\n",
    "    \n",
    "    if (0 in df[df[\"PATNO\"] == subId][\"hy_on\"].values):\n",
    "        indexNames = df[ df['PATNO'] == subId ].index\n",
    "        df.drop(indexNames , inplace=True)\n",
    "      \n",
    "df = df.rename(columns={\"PATNO\":\"subjectId\"})\n",
    "\n",
    "print(df['subjectId'].unique())\n",
    "\n",
    "print(f\"There are {len(df['subjectId'].unique())} patients available.\")"
   ]
  },
  {
   "cell_type": "markdown",
   "id": "0230b3f5",
   "metadata": {},
   "source": [
    "**Fetch all progressive and stable patients from the subject IDs we have available.**"
   ]
  },
  {
   "cell_type": "code",
   "execution_count": 4,
   "id": "f54900b3",
   "metadata": {},
   "outputs": [
    {
     "name": "stdout",
     "output_type": "stream",
     "text": [
      "[3001 3020 3024 3050 3056 3058 3059 3066 3067 3076 3077 3080 3102 3108\n",
      " 3110 3111 3113 3122 3123 3124 3127 3134 3168 3174 3175 3176 3178 3179\n",
      " 3185 3186 3190 3207 3211 3220 3223 3226 3229 3230 3231 3234 3269 3305\n",
      " 3308 3311 3313 3325 3332 3333 3364 3372 3373 3400 3403 3406 3407 3422\n",
      " 3435 3439 3442 3444 3445 3451 3459 3473 3475 3482 3522 3586 3587 3588\n",
      " 3591 3593 3603 3604 3621 3631 3654 3660 3664 3665 3752 3776 3778 3781\n",
      " 3785 3787 3792 3802 3815 3818 3822 3825 3826 3830 3831 3835 3866 3869\n",
      " 3870 4005 4011 4019 4027 4029 4034 4037 4051 4054 4055 4056 4057 4059\n",
      " 4083 4092 4093 4094 4096 4103 4109 4113 4121 4135]\n",
      "122\n"
     ]
    }
   ],
   "source": [
    "# Init H&Y list\n",
    "baselineStageList = []\n",
    "followUpStageList = []\n",
    "\n",
    "tempDf = df.copy()\n",
    "\n",
    "for subId in tempDf[\"subjectId\"].values:\n",
    "    baselineStage = tempDf.loc[(tempDf['subjectId'] == subId) & (tempDf['EVENT_ID'] == \"BL\")][\"hy_on\"].values[0]\n",
    "    followUpStage = tempDf.loc[(tempDf['subjectId'] == subId) & (tempDf['EVENT_ID'] == \"V08\")][\"hy_on\"].values[0]\n",
    "    baselineStageList.append(baselineStage)\n",
    "    followUpStageList.append(followUpStage)\n",
    "    \n",
    "tempDf[\"initialHY\"] = baselineStageList\n",
    "tempDf[\"followUpHY\"] = followUpStageList\n",
    "tempDf[\"group\"] = (tempDf[\"initialHY\"] < tempDf[\"followUpHY\"]).astype(int)\n",
    "progressiveIds = tempDf[tempDf[\"group\"] == 1][\"subjectId\"].unique()\n",
    "stableIds = tempDf[tempDf[\"group\"] == 0][\"subjectId\"].unique()\n",
    "print(progressiveIds)\n",
    "print(len(progressiveIds))"
   ]
  },
  {
   "cell_type": "markdown",
   "id": "98ce742b",
   "metadata": {},
   "source": [
    "### Progressive and Stable patient DataFrames"
   ]
  },
  {
   "cell_type": "code",
   "execution_count": 5,
   "id": "c828535b",
   "metadata": {},
   "outputs": [],
   "source": [
    "progressivePatients = \"../data/ppmi-data/newProgressivePatientsFound.csv\"\n",
    "stablePatients = \"../data/ppmi-data/newStablePatientsFound.csv\"\n",
    "\n",
    "progDf = pd.read_csv(progressivePatients)\n",
    "progDf = progDf.rename(columns={\"Subject ID\":\"subjectId\", \"Sex\": \"gen\", \"Age\": \"age\"})\n",
    "progDf = progDf[[\"subjectId\", \"gen\", \"age\"]]\n",
    "progDf['gen'] = progDf['gen'].map(dict(zip(['M','F'],[1,2])))\n",
    "\n",
    "stableDf = pd.read_csv(stablePatients)\n",
    "stableDf = stableDf.rename(columns={\"Subject ID\":\"subjectId\", \"Sex\": \"gen\", \"Age\": \"age\"})\n",
    "stableDf = stableDf[[\"subjectId\", \"gen\", \"age\"]]\n",
    "stableDf['gen'] = stableDf['gen'].map(dict(zip(['M','F'],[1,2])))"
   ]
  },
  {
   "cell_type": "markdown",
   "id": "597e3120",
   "metadata": {},
   "source": [
    "**Let's add the initial and follow up H&Y stage to the progressive dataframes**"
   ]
  },
  {
   "cell_type": "code",
   "execution_count": 6,
   "id": "3b3be194",
   "metadata": {},
   "outputs": [
    {
     "name": "stdout",
     "output_type": "stream",
     "text": [
      "80\n"
     ]
    }
   ],
   "source": [
    "baselineStageList = []\n",
    "followUpStageList = []\n",
    "\n",
    "for subId in progDf[\"subjectId\"].values:\n",
    "    baselineStage = df.loc[(df['subjectId'] == subId) & (df['EVENT_ID'] == \"BL\")][\"hy_on\"].values[0]\n",
    "    followUpStage = df.loc[(df['subjectId'] == subId) & (df['EVENT_ID'] == \"V08\")][\"hy_on\"].values[0]\n",
    "    baselineStageList.append(baselineStage)\n",
    "    followUpStageList.append(followUpStage)\n",
    "    \n",
    "progDf[\"initialHY\"] = baselineStageList\n",
    "progDf[\"followUpHY\"] = followUpStageList\n",
    "progDf[\"group\"] = (progDf[\"initialHY\"] < progDf[\"followUpHY\"]).astype(int)\n",
    "progDf.head()\n",
    "print(len(progDf))"
   ]
  },
  {
   "cell_type": "markdown",
   "id": "e4283c11",
   "metadata": {},
   "source": [
    "**Let's add the initial and follow up H&Y stage to the stable dataframes**"
   ]
  },
  {
   "cell_type": "code",
   "execution_count": 7,
   "id": "92bcfedd",
   "metadata": {},
   "outputs": [
    {
     "name": "stdout",
     "output_type": "stream",
     "text": [
      "118\n"
     ]
    }
   ],
   "source": [
    "# Init H&Y list\n",
    "baselineStageList = []\n",
    "followUpStageList = []\n",
    "\n",
    "for subId in stableDf[\"subjectId\"].values:\n",
    "    baselineStage = df.loc[(df['subjectId'] == subId) & (df['EVENT_ID'] == \"BL\")][\"hy_on\"].values[0]\n",
    "    followUpStage = df.loc[(df['subjectId'] == subId) & (df['EVENT_ID'] == \"V08\")][\"hy_on\"].values[0]\n",
    "    baselineStageList.append(baselineStage)\n",
    "    followUpStageList.append(followUpStage)\n",
    "    \n",
    "stableDf[\"initialHY\"] = baselineStageList\n",
    "stableDf[\"followUpHY\"] = followUpStageList\n",
    "stableDf[\"group\"] = (stableDf[\"initialHY\"] < stableDf[\"followUpHY\"]).astype(int)\n",
    "stableDf.head()\n",
    "print(len(stableDf))"
   ]
  },
  {
   "cell_type": "markdown",
   "id": "ea5f05e7",
   "metadata": {},
   "source": [
    "### Putting it all together"
   ]
  },
  {
   "cell_type": "code",
   "execution_count": 8,
   "id": "1108fe4c",
   "metadata": {},
   "outputs": [
    {
     "name": "stdout",
     "output_type": "stream",
     "text": [
      "Stable group - Gender [male (n, %)]: 77 (65.2542372881356)\n",
      "Progressive group - Gender [male (n, %)]: 48 (60.0)\n",
      "\n",
      "Progressive group - Age: 60.10625 +- 10.777864607904903\n",
      "Stable group - Age: 62.53898305084746 +- 8.904651947572269\n",
      "\n",
      "H&Y stage 1 stable/progressive: 25/74\n",
      "H&Y stage 2 stable/progressive: 91/6\n",
      "\n",
      "Stable dataset size: 118\n",
      "Progressive dataset size: 80\n"
     ]
    }
   ],
   "source": [
    "final_df = pd.concat([progDf, stableDf])\n",
    "print_variable_stats(final_df)\n",
    "final_df.head()\n",
    "final_df.to_csv(\"../data/volume-data/preMatchVolumes.csv\")"
   ]
  },
  {
   "cell_type": "markdown",
   "id": "440fd71b",
   "metadata": {},
   "source": [
    "**Drop random rows to get 77 patients per set**"
   ]
  },
  {
   "cell_type": "code",
   "execution_count": 9,
   "id": "0a772469",
   "metadata": {},
   "outputs": [
    {
     "name": "stdout",
     "output_type": "stream",
     "text": [
      "Stable group - Gender [male (n, %)]: 77 (65.2542372881356)\n",
      "Progressive group - Gender [male (n, %)]: 45 (58.44155844155844)\n",
      "\n",
      "Progressive group - Age: 60.449350649350656 +- 10.809834987988136\n",
      "Stable group - Age: 62.53898305084746 +- 8.904651947572269\n",
      "\n",
      "H&Y stage 1 stable/progressive: 25/72\n",
      "H&Y stage 2 stable/progressive: 91/5\n",
      "\n",
      "Stable dataset size: 118\n",
      "Progressive dataset size: 77\n"
     ]
    },
    {
     "data": {
      "text/html": [
       "<div>\n",
       "<style scoped>\n",
       "    .dataframe tbody tr th:only-of-type {\n",
       "        vertical-align: middle;\n",
       "    }\n",
       "\n",
       "    .dataframe tbody tr th {\n",
       "        vertical-align: top;\n",
       "    }\n",
       "\n",
       "    .dataframe thead th {\n",
       "        text-align: right;\n",
       "    }\n",
       "</style>\n",
       "<table border=\"1\" class=\"dataframe\">\n",
       "  <thead>\n",
       "    <tr style=\"text-align: right;\">\n",
       "      <th></th>\n",
       "      <th>subjectId</th>\n",
       "      <th>gen</th>\n",
       "      <th>age</th>\n",
       "      <th>initialHY</th>\n",
       "      <th>followUpHY</th>\n",
       "      <th>group</th>\n",
       "    </tr>\n",
       "  </thead>\n",
       "  <tbody>\n",
       "    <tr>\n",
       "      <th>0</th>\n",
       "      <td>3105</td>\n",
       "      <td>1</td>\n",
       "      <td>68.5</td>\n",
       "      <td>2.0</td>\n",
       "      <td>2.0</td>\n",
       "      <td>0</td>\n",
       "    </tr>\n",
       "    <tr>\n",
       "      <th>1</th>\n",
       "      <td>3107</td>\n",
       "      <td>1</td>\n",
       "      <td>69.6</td>\n",
       "      <td>2.0</td>\n",
       "      <td>1.0</td>\n",
       "      <td>0</td>\n",
       "    </tr>\n",
       "    <tr>\n",
       "      <th>2</th>\n",
       "      <td>3116</td>\n",
       "      <td>1</td>\n",
       "      <td>65.0</td>\n",
       "      <td>2.0</td>\n",
       "      <td>2.0</td>\n",
       "      <td>0</td>\n",
       "    </tr>\n",
       "    <tr>\n",
       "      <th>3</th>\n",
       "      <td>3118</td>\n",
       "      <td>1</td>\n",
       "      <td>60.3</td>\n",
       "      <td>2.0</td>\n",
       "      <td>2.0</td>\n",
       "      <td>0</td>\n",
       "    </tr>\n",
       "    <tr>\n",
       "      <th>4</th>\n",
       "      <td>3119</td>\n",
       "      <td>1</td>\n",
       "      <td>64.4</td>\n",
       "      <td>2.0</td>\n",
       "      <td>2.0</td>\n",
       "      <td>0</td>\n",
       "    </tr>\n",
       "  </tbody>\n",
       "</table>\n",
       "</div>"
      ],
      "text/plain": [
       "   subjectId  gen   age  initialHY  followUpHY  group\n",
       "0       3105    1  68.5        2.0         2.0      0\n",
       "1       3107    1  69.6        2.0         1.0      0\n",
       "2       3116    1  65.0        2.0         2.0      0\n",
       "3       3118    1  60.3        2.0         2.0      0\n",
       "4       3119    1  64.4        2.0         2.0      0"
      ]
     },
     "execution_count": 9,
     "metadata": {},
     "output_type": "execute_result"
    }
   ],
   "source": [
    "stable_df = final_df[final_df[\"group\"]==0]\n",
    "progressive_df = final_df[final_df[\"group\"]==1]\n",
    "progressive_df = progressive_df.sample(n=77, random_state=42)\n",
    "final_df = pd.concat([stable_df, progressive_df])\n",
    "final_df.to_csv(\"../data/volume-data/preMatchVolumes.csv\")\n",
    "print_variable_stats(final_df)\n",
    "final_df.head()"
   ]
  },
  {
   "cell_type": "markdown",
   "id": "dbf06f11",
   "metadata": {},
   "source": [
    "### Let's call our R script and perform cohort matching with our experimental larger dataset."
   ]
  },
  {
   "cell_type": "code",
   "execution_count": 10,
   "id": "3dbb2830",
   "metadata": {},
   "outputs": [
    {
     "name": "stdout",
     "output_type": "stream",
     "text": [
      "\n",
      "Call:\n",
      "matchit(formula = group ~ (age + gen), data = data, method = \"nearest\", \n",
      "    distance = \"glm\", replacement = F)\n",
      "\n",
      "Summary of Balance for All Data:\n",
      "         Means Treated Means Control Std. Mean Diff. Var. Ratio eCDF Mean\n",
      "distance        0.4039        0.3890          0.2167     1.8905    0.0652\n",
      "age            60.4494       62.5390         -0.1933     1.4737    0.0722\n",
      "gen             1.4156        1.3475          0.1373     1.0761    0.0341\n",
      "         eCDF Max\n",
      "distance   0.1665\n",
      "age        0.1539\n",
      "gen        0.0681\n",
      "\n",
      "\n",
      "Summary of Balance for Matched Data:\n",
      "         Means Treated Means Control Std. Mean Diff. Var. Ratio eCDF Mean\n",
      "distance        0.4039        0.3969          0.1022     1.5142    0.0252\n",
      "age            60.4494       61.0260         -0.0533     1.2808    0.0244\n",
      "gen             1.4156        1.3506          0.1309     1.0667    0.0325\n",
      "         eCDF Max Std. Pair Dist.\n",
      "distance   0.1299          0.1380\n",
      "age        0.0649          0.4383\n",
      "gen        0.0649          0.6545\n",
      "\n",
      "Percent Balance Improvement:\n",
      "         Std. Mean Diff. Var. Ratio eCDF Mean eCDF Max\n",
      "distance            52.8       34.9      61.4     22.0\n",
      "age                 72.4       36.2      66.2     57.8\n",
      "gen                  4.7       12.0       4.7      4.7\n",
      "\n",
      "Sample Sizes:\n",
      "          Control Treated\n",
      "All           118      77\n",
      "Matched        77      77\n",
      "Unmatched      41       0\n",
      "Discarded       0       0\n",
      "\n"
     ]
    },
    {
     "data": {
      "text/plain": [
       "0"
      ]
     },
     "execution_count": 10,
     "metadata": {},
     "output_type": "execute_result"
    }
   ],
   "source": [
    "os.system(\"Rscript match-data.R\")"
   ]
  },
  {
   "cell_type": "code",
   "execution_count": 11,
   "id": "fd2e229a",
   "metadata": {
    "scrolled": true
   },
   "outputs": [
    {
     "name": "stdout",
     "output_type": "stream",
     "text": [
      "Stable group - Gender [male (n, %)]: 50 (64.93506493506493)\n",
      "Progressive group - Gender [male (n, %)]: 45 (58.44155844155844)\n",
      "\n",
      "Progressive group - Age: 60.449350649350656 +- 10.809834987988136\n",
      "Stable group - Age: 61.02597402597405 +- 9.551762066669365\n",
      "\n",
      "H&Y stage 1 stable/progressive: 20/72\n",
      "H&Y stage 2 stable/progressive: 56/5\n",
      "\n",
      "Stable dataset size: 77\n",
      "Progressive dataset size: 77\n"
     ]
    },
    {
     "name": "stderr",
     "output_type": "stream",
     "text": [
      "/home/mohanad/anaconda3/envs/research/lib/python3.7/site-packages/ipykernel_launcher.py:2: FutureWarning: In a future version of pandas all arguments of DataFrame.drop except for the argument 'labels' will be keyword-only\n",
      "  \n"
     ]
    }
   ],
   "source": [
    "matchedVolumesDf = pd.read_csv(\"../data/volume-data/matchedVolumes.csv\")\n",
    "matchedVolumesDf = matchedVolumesDf.drop([\"Unnamed: 0\", \"X\", 'distance', 'weights', 'subclass'], 1)\n",
    "print_variable_stats(matchedVolumesDf)"
   ]
  },
  {
   "cell_type": "code",
   "execution_count": 52,
   "id": "7a4fdbc2",
   "metadata": {},
   "outputs": [
    {
     "data": {
      "text/plain": [
       "array([3116, 3119, 3120, 3125, 3126, 3128, 3130, 3131, 3132, 3150, 3154,\n",
       "       3173, 3181, 3182, 3309, 3323, 3328, 3352, 3359, 3360, 3365, 3366,\n",
       "       3367, 3374, 3377, 3380, 3385, 3387, 3556, 3557, 3559, 3564, 3575,\n",
       "       3577, 3589, 3607, 3622, 3629, 3634, 3661, 3757, 3758, 3770, 3771,\n",
       "       3775, 3777, 3780, 3780, 3800, 3808, 3814, 3819, 3824, 3828, 3832,\n",
       "       3838, 4001, 4012, 4021, 4022, 4024, 4025, 4026, 4033, 4058, 4081,\n",
       "       4091, 4099, 4101, 4106, 4107, 4108, 4110, 4111, 4112, 4115, 4117,\n",
       "       3586, 3102, 3332, 3587, 3305, 3439, 3174, 4059, 3122, 3176, 3815,\n",
       "       3591, 4055, 3603, 4056, 3778, 4093, 4019, 3831, 3660, 3168, 4034,\n",
       "       3123, 3787, 3593, 4027, 3665, 3830, 3186, 3654, 3835, 4135, 3127,\n",
       "       3818, 3826, 3308, 4054, 3373, 3776, 3178, 4103, 3113, 3190, 3631,\n",
       "       3134, 4037, 3124, 3604, 4092, 3869, 3781, 4113, 3185, 3403, 3664,\n",
       "       3400, 3802, 3372, 3752, 4109, 3866, 3175, 3588, 4096, 3870, 4029,\n",
       "       4057, 3621, 3442, 3108, 3825, 3325, 3111, 3364, 4094, 3311, 4005])"
      ]
     },
     "execution_count": 52,
     "metadata": {},
     "output_type": "execute_result"
    }
   ],
   "source": [
    "matchedVolumesDf.subjectId.values"
   ]
  }
 ],
 "metadata": {
  "kernelspec": {
   "display_name": "Python 3 (ipykernel)",
   "language": "python",
   "name": "python3"
  },
  "language_info": {
   "codemirror_mode": {
    "name": "ipython",
    "version": 3
   },
   "file_extension": ".py",
   "mimetype": "text/x-python",
   "name": "python",
   "nbconvert_exporter": "python",
   "pygments_lexer": "ipython3",
   "version": "3.7.11"
  }
 },
 "nbformat": 4,
 "nbformat_minor": 5
}
